{
 "cells": [
  {
   "cell_type": "markdown",
   "metadata": {},
   "source": [
    "# Homework 1 Report"
   ]
  },
  {
   "cell_type": "markdown",
   "metadata": {},
   "source": [
    "+ **Answer 1**\n",
    "\n",
    "```python\n",
    "def compute_metric():\n",
    "    true = [\"C\", \"C\", \"C\", \"C\", \"C\", \"D\", \"D\", \"D\",\t\"D\", \"D\", \"D\", \"D\", \"D\", \"M\", \"M\", \"M\", \"M\", \"M\", \"M\", \"M\"]\n",
    "    predicted = [\"D\", \"C\", \"D\", \"D\", \"M\", \"D\", \"D\", \"C\", \"C\", \"M\", \"M\", \"D\", \"C\", \"C\", \"C\", \"M\", \"M\", \"D\", \"D\",\t\"M\"]\n",
    "\n",
    "    # For the case of predicting cat\n",
    "    conf_matrix={'C':{'TP':0, 'TN':0, 'FP':0, 'FN':0},'D':{'TP':0, 'TN':0, 'FP':0, 'FN':0},'M':{'TP':0, 'TN':0, 'FP':0, 'FN':0}}\n",
    "\n",
    "    for t,p in zip(true, predicted):\n",
    "        # For cat\n",
    "        if t=='C' and p=='C': conf_matrix['C']['TP'] +=1\n",
    "        if t!='C' and p!='C': conf_matrix['C']['TN'] +=1\n",
    "        if t!='C' and p=='C': conf_matrix['C']['FP'] +=1\n",
    "        if t=='C' and p!='C': conf_matrix['C']['FN'] +=1\n",
    "\n",
    "        #For Dog\n",
    "        if t=='D' and p=='D': conf_matrix['D']['TP'] +=1\n",
    "        if t!='D' and p!='D': conf_matrix['D']['TN'] +=1\n",
    "        if t!='D' and p=='D': conf_matrix['D']['FP'] +=1\n",
    "        if t=='D' and p!='D': conf_matrix['D']['FN'] +=1\n",
    "\n",
    "        #For Monkey\n",
    "        if t=='M' and p=='M': conf_matrix['M']['TP'] +=1\n",
    "        if t!='M' and p!='M': conf_matrix['M']['TN'] +=1\n",
    "        if t!='M' and p=='M': conf_matrix['M']['FP'] +=1\n",
    "        if t=='M' and p!='M': conf_matrix['M']['FN'] +=1\n",
    "\n",
    "    for k, v in conf_matrix.items():\n",
    "        print(\"Confusion matrix for {}\".format(k), \":\", \"True Positive = {}, \\\n",
    "        True Negative = {}, False Positive = {}, False Negative = {}\".format(v['TP'], v['TN'], v['FP'], v['FN']))\n",
    "        print(\"Accuracy for {} = {}\".format(k, (v['TP']+v['TN'])/(1.0*(v['TP']+v['TN']+v['FP']+v['FN']))))\n",
    "        print(\"Precision for {} = {}\".format(k, (v['TP'])/(1.0*(v['TP']+v['FP']))))\n",
    "        print(\"Recall for {} = {}\".format(k, (v['TP'])/(1.0*(v['TP']+v['FN']))))\n",
    "\n",
    "if __name__==\"__main__\":\n",
    "    compute_metric()\n",
    "```\n",
    "\n",
    "## **Results**\n",
    "```python\n",
    "Confusion matrix for C : True Positive = 1, True Negative = 10, False Positive = 5, False Negative = 4\n",
    "Accuracy for C = 0.55\n",
    "Precision for C = 0.16666666666666666\n",
    "Recall for C = 0.2\n",
    "Confusion matrix for D : True Positive = 3, True Negative = 7, False Positive = 5, False Negative = 5\n",
    "Accuracy for D = 0.5\n",
    "Precision for D = 0.375\n",
    "Recall for D = 0.375\n",
    "Confusion matrix for M : True Positive = 3, True Negative = 10, False Positive = 3, False Negative = 4\n",
    "Accuracy for M = 0.65\n",
    "Precision for M = 0.5\n",
    "Recall for M = 0.42857142857142855\n",
    "```"
   ]
  },
  {
   "cell_type": "markdown",
   "metadata": {},
   "source": [
    "## Problem -2: K-Nearest Neighbor Method (KNN) "
   ]
  },
  {
   "cell_type": "code",
   "execution_count": 1,
   "metadata": {},
   "outputs": [],
   "source": [
    "import sys\n",
    "import numpy as np\n",
    "import pickle\n",
    "from sklearn import model_selection\n",
    "from sklearn.neighbors import KNeighborsClassifier\n",
    "from sklearn.metrics import accuracy_score#,confusion_matrix\n",
    "from mnist_loader import MNIST\n",
    "import matplotlib.pyplot as plt\n",
    "from matplotlib import style"
   ]
  },
  {
   "cell_type": "code",
   "execution_count": 2,
   "metadata": {},
   "outputs": [
    {
     "name": "stdout",
     "output_type": "stream",
     "text": [
      "starting...\n",
      "\n",
      "Loading MNIST Data...\n"
     ]
    }
   ],
   "source": [
    "print('starting...')\n",
    "\n",
    "#old_stdout = sys.stdout\n",
    "#log_file = open(\"summary.log\",\"w\")\n",
    "#sys.stdout = log_file\n",
    "\n",
    "\n",
    "print('\\nLoading MNIST Data...')\n",
    "# data = MNIST('./python-mnist/data/')\n",
    "\n",
    "data = MNIST('./MNIST_Dataset_Loader/dataset/')"
   ]
  },
  {
   "cell_type": "code",
   "execution_count": 3,
   "metadata": {},
   "outputs": [
    {
     "name": "stdout",
     "output_type": "stream",
     "text": [
      "\n",
      "Loading Training Data...\n"
     ]
    }
   ],
   "source": [
    "print('\\nLoading Training Data...')\n",
    "img_train, labels_train = data.load_training()\n",
    "train_img = np.array(img_train)\n",
    "train_labels = np.array(labels_train)"
   ]
  },
  {
   "cell_type": "code",
   "execution_count": 4,
   "metadata": {},
   "outputs": [
    {
     "name": "stdout",
     "output_type": "stream",
     "text": [
      "\n",
      "Loading Testing Data...\n"
     ]
    }
   ],
   "source": [
    "print('\\nLoading Testing Data...')\n",
    "img_test, labels_test = data.load_testing()\n",
    "test_img = np.array(img_test)\n",
    "test_labels = np.array(labels_test)"
   ]
  },
  {
   "cell_type": "code",
   "execution_count": 5,
   "metadata": {},
   "outputs": [],
   "source": [
    "#Features\n",
    "X = train_img\n",
    "\n",
    "#Labels\n",
    "y = train_labels"
   ]
  },
  {
   "cell_type": "code",
   "execution_count": 6,
   "metadata": {},
   "outputs": [
    {
     "name": "stdout",
     "output_type": "stream",
     "text": [
      "\n",
      "Preparing Classifier Training and Validation Data...\n"
     ]
    }
   ],
   "source": [
    "print('\\nPreparing Classifier Training and Validation Data...')\n",
    "X_train, X_test, y_train, y_test = model_selection.train_test_split(X,y,test_size=0.1)"
   ]
  },
  {
   "cell_type": "code",
   "execution_count": 7,
   "metadata": {},
   "outputs": [],
   "source": [
    "#######################PLACEHOLDER 1##################### \n",
    "#set hyperparameter\n",
    "#n_neighbors=[5,10,13,15,20]\n",
    "n_neighbors=[5, 10, 15, 20]"
   ]
  },
  {
   "cell_type": "code",
   "execution_count": 8,
   "metadata": {},
   "outputs": [
    {
     "name": "stdout",
     "output_type": "stream",
     "text": [
      "\n",
      " KNN Classifier\n",
      "\n",
      " Pickling the classifier for future Use.. \n"
     ]
    }
   ],
   "source": [
    "print(\"\\n KNN Classifier\")\n",
    "print(\"\\n Pickling the classifier for future Use.. \" )\n",
    "\n",
    "#######################PLACEHOLDER 2 START #####################\n",
    "#write a function that can produce aconfusion matrix, per-class precidion rate and per-class recall rate.\n",
    "\n",
    "# use the function to create a confusion matrix for validation data\n",
    "def clf_per_n_nbr(nbrs, X_train, y_train, X_test, y_test):\n",
    "    confidence_list=[]\n",
    "    y_pred_list=[]\n",
    "    accuracy_list=[]\n",
    "    for n in nbrs:\n",
    "        '''\n",
    "        clf = KNeighborsClassifier(n_neighbors=n, algorithm='auto', n_jobs=10)\n",
    "        clf.fit(X_train, y_train)\n",
    "        \n",
    "        \n",
    "        \n",
    "        with open(filename,'wb') as f:\n",
    "            pickle.dump(clf, f)\n",
    "        '''\n",
    "        filename='MNIST_KNN'+'_'+str(n)+'.pickle'\n",
    "        pickle_in = open(filename,'rb')\n",
    "        clf = pickle.load(pickle_in)\n",
    "\n",
    "        print('\\n Calculating Accuracy of trained Classifier for nbrs = {}...'.format(n))\n",
    "        confidence=round(clf.score(X_test,y_test),2)\n",
    "        confidence_list.append(confidence)\n",
    "\n",
    "        print('\\n Making Predictions on Validation Data...for nbrs = {}'.format(n))\n",
    "        y_pred=clf.predict(X_test)\n",
    "        y_pred_list.append(y_pred)\n",
    "\n",
    "        print('\\n Calculating Accuracy of Predictions...for nbrs = {}'.format(n))\n",
    "        accuracy=round(accuracy_score(y_test, y_pred),2)\n",
    "        accuracy_list.append(accuracy)\n",
    "        \n",
    "    return confidence_list, y_pred_list, accuracy_list"
   ]
  },
  {
   "cell_type": "code",
   "execution_count": 9,
   "metadata": {},
   "outputs": [
    {
     "name": "stdout",
     "output_type": "stream",
     "text": [
      "\n",
      " Calculating Accuracy of trained Classifier for nbrs = 5...\n",
      "\n",
      " Making Predictions on Validation Data...for nbrs = 5\n",
      "\n",
      " Calculating Accuracy of Predictions...for nbrs = 5\n",
      "\n",
      " Calculating Accuracy of trained Classifier for nbrs = 10...\n",
      "\n",
      " Making Predictions on Validation Data...for nbrs = 10\n",
      "\n",
      " Calculating Accuracy of Predictions...for nbrs = 10\n",
      "\n",
      " Calculating Accuracy of trained Classifier for nbrs = 15...\n",
      "\n",
      " Making Predictions on Validation Data...for nbrs = 15\n",
      "\n",
      " Calculating Accuracy of Predictions...for nbrs = 15\n",
      "\n",
      " Calculating Accuracy of trained Classifier for nbrs = 20...\n",
      "\n",
      " Making Predictions on Validation Data...for nbrs = 20\n",
      "\n",
      " Calculating Accuracy of Predictions...for nbrs = 20\n"
     ]
    }
   ],
   "source": [
    "confidence, y_pred, accuracy = clf_per_n_nbr(n_neighbors, X_train, y_train, X_test, y_test)"
   ]
  },
  {
   "cell_type": "code",
   "execution_count": 10,
   "metadata": {},
   "outputs": [
    {
     "data": {
      "text/html": [
       "\n",
       "    <div class=\"bk-root\">\n",
       "        <a href=\"https://bokeh.pydata.org\" target=\"_blank\" class=\"bk-logo bk-logo-small bk-logo-notebook\"></a>\n",
       "        <span id=\"252e87a8-b2d9-4f9e-8e3e-b3f440688d68\">Loading BokehJS ...</span>\n",
       "    </div>"
      ]
     },
     "metadata": {},
     "output_type": "display_data"
    },
    {
     "data": {
      "application/javascript": [
       "\n",
       "(function(root) {\n",
       "  function now() {\n",
       "    return new Date();\n",
       "  }\n",
       "\n",
       "  var force = true;\n",
       "\n",
       "  if (typeof (root._bokeh_onload_callbacks) === \"undefined\" || force === true) {\n",
       "    root._bokeh_onload_callbacks = [];\n",
       "    root._bokeh_is_loading = undefined;\n",
       "  }\n",
       "\n",
       "  var JS_MIME_TYPE = 'application/javascript';\n",
       "  var HTML_MIME_TYPE = 'text/html';\n",
       "  var EXEC_MIME_TYPE = 'application/vnd.bokehjs_exec.v0+json';\n",
       "  var CLASS_NAME = 'output_bokeh rendered_html';\n",
       "\n",
       "  /**\n",
       "   * Render data to the DOM node\n",
       "   */\n",
       "  function render(props, node) {\n",
       "    var script = document.createElement(\"script\");\n",
       "    node.appendChild(script);\n",
       "  }\n",
       "\n",
       "  /**\n",
       "   * Handle when an output is cleared or removed\n",
       "   */\n",
       "  function handleClearOutput(event, handle) {\n",
       "    var cell = handle.cell;\n",
       "\n",
       "    var id = cell.output_area._bokeh_element_id;\n",
       "    var server_id = cell.output_area._bokeh_server_id;\n",
       "    // Clean up Bokeh references\n",
       "    if (id !== undefined) {\n",
       "      Bokeh.index[id].model.document.clear();\n",
       "      delete Bokeh.index[id];\n",
       "    }\n",
       "\n",
       "    if (server_id !== undefined) {\n",
       "      // Clean up Bokeh references\n",
       "      var cmd = \"from bokeh.io.state import curstate; print(curstate().uuid_to_server['\" + server_id + \"'].get_sessions()[0].document.roots[0]._id)\";\n",
       "      cell.notebook.kernel.execute(cmd, {\n",
       "        iopub: {\n",
       "          output: function(msg) {\n",
       "            var element_id = msg.content.text.trim();\n",
       "            Bokeh.index[element_id].model.document.clear();\n",
       "            delete Bokeh.index[element_id];\n",
       "          }\n",
       "        }\n",
       "      });\n",
       "      // Destroy server and session\n",
       "      var cmd = \"import bokeh.io.notebook as ion; ion.destroy_server('\" + server_id + \"')\";\n",
       "      cell.notebook.kernel.execute(cmd);\n",
       "    }\n",
       "  }\n",
       "\n",
       "  /**\n",
       "   * Handle when a new output is added\n",
       "   */\n",
       "  function handleAddOutput(event, handle) {\n",
       "    var output_area = handle.output_area;\n",
       "    var output = handle.output;\n",
       "\n",
       "    // limit handleAddOutput to display_data with EXEC_MIME_TYPE content only\n",
       "    if ((output.output_type != \"display_data\") || (!output.data.hasOwnProperty(EXEC_MIME_TYPE))) {\n",
       "      return\n",
       "    }\n",
       "\n",
       "    var toinsert = output_area.element.find(\".\" + CLASS_NAME.split(' ')[0]);\n",
       "\n",
       "    if (output.metadata[EXEC_MIME_TYPE][\"id\"] !== undefined) {\n",
       "      toinsert[toinsert.length - 1].firstChild.textContent = output.data[JS_MIME_TYPE];\n",
       "      // store reference to embed id on output_area\n",
       "      output_area._bokeh_element_id = output.metadata[EXEC_MIME_TYPE][\"id\"];\n",
       "    }\n",
       "    if (output.metadata[EXEC_MIME_TYPE][\"server_id\"] !== undefined) {\n",
       "      var bk_div = document.createElement(\"div\");\n",
       "      bk_div.innerHTML = output.data[HTML_MIME_TYPE];\n",
       "      var script_attrs = bk_div.children[0].attributes;\n",
       "      for (var i = 0; i < script_attrs.length; i++) {\n",
       "        toinsert[toinsert.length - 1].firstChild.setAttribute(script_attrs[i].name, script_attrs[i].value);\n",
       "      }\n",
       "      // store reference to server id on output_area\n",
       "      output_area._bokeh_server_id = output.metadata[EXEC_MIME_TYPE][\"server_id\"];\n",
       "    }\n",
       "  }\n",
       "\n",
       "  function register_renderer(events, OutputArea) {\n",
       "\n",
       "    function append_mime(data, metadata, element) {\n",
       "      // create a DOM node to render to\n",
       "      var toinsert = this.create_output_subarea(\n",
       "        metadata,\n",
       "        CLASS_NAME,\n",
       "        EXEC_MIME_TYPE\n",
       "      );\n",
       "      this.keyboard_manager.register_events(toinsert);\n",
       "      // Render to node\n",
       "      var props = {data: data, metadata: metadata[EXEC_MIME_TYPE]};\n",
       "      render(props, toinsert[toinsert.length - 1]);\n",
       "      element.append(toinsert);\n",
       "      return toinsert\n",
       "    }\n",
       "\n",
       "    /* Handle when an output is cleared or removed */\n",
       "    events.on('clear_output.CodeCell', handleClearOutput);\n",
       "    events.on('delete.Cell', handleClearOutput);\n",
       "\n",
       "    /* Handle when a new output is added */\n",
       "    events.on('output_added.OutputArea', handleAddOutput);\n",
       "\n",
       "    /**\n",
       "     * Register the mime type and append_mime function with output_area\n",
       "     */\n",
       "    OutputArea.prototype.register_mime_type(EXEC_MIME_TYPE, append_mime, {\n",
       "      /* Is output safe? */\n",
       "      safe: true,\n",
       "      /* Index of renderer in `output_area.display_order` */\n",
       "      index: 0\n",
       "    });\n",
       "  }\n",
       "\n",
       "  // register the mime type if in Jupyter Notebook environment and previously unregistered\n",
       "  if (root.Jupyter !== undefined) {\n",
       "    var events = require('base/js/events');\n",
       "    var OutputArea = require('notebook/js/outputarea').OutputArea;\n",
       "\n",
       "    if (OutputArea.prototype.mime_types().indexOf(EXEC_MIME_TYPE) == -1) {\n",
       "      register_renderer(events, OutputArea);\n",
       "    }\n",
       "  }\n",
       "\n",
       "  \n",
       "  if (typeof (root._bokeh_timeout) === \"undefined\" || force === true) {\n",
       "    root._bokeh_timeout = Date.now() + 5000;\n",
       "    root._bokeh_failed_load = false;\n",
       "  }\n",
       "\n",
       "  var NB_LOAD_WARNING = {'data': {'text/html':\n",
       "     \"<div style='background-color: #fdd'>\\n\"+\n",
       "     \"<p>\\n\"+\n",
       "     \"BokehJS does not appear to have successfully loaded. If loading BokehJS from CDN, this \\n\"+\n",
       "     \"may be due to a slow or bad network connection. Possible fixes:\\n\"+\n",
       "     \"</p>\\n\"+\n",
       "     \"<ul>\\n\"+\n",
       "     \"<li>re-rerun `output_notebook()` to attempt to load from CDN again, or</li>\\n\"+\n",
       "     \"<li>use INLINE resources instead, as so:</li>\\n\"+\n",
       "     \"</ul>\\n\"+\n",
       "     \"<code>\\n\"+\n",
       "     \"from bokeh.resources import INLINE\\n\"+\n",
       "     \"output_notebook(resources=INLINE)\\n\"+\n",
       "     \"</code>\\n\"+\n",
       "     \"</div>\"}};\n",
       "\n",
       "  function display_loaded() {\n",
       "    var el = document.getElementById(\"252e87a8-b2d9-4f9e-8e3e-b3f440688d68\");\n",
       "    if (el != null) {\n",
       "      el.textContent = \"BokehJS is loading...\";\n",
       "    }\n",
       "    if (root.Bokeh !== undefined) {\n",
       "      if (el != null) {\n",
       "        el.textContent = \"BokehJS \" + root.Bokeh.version + \" successfully loaded.\";\n",
       "      }\n",
       "    } else if (Date.now() < root._bokeh_timeout) {\n",
       "      setTimeout(display_loaded, 100)\n",
       "    }\n",
       "  }\n",
       "\n",
       "\n",
       "  function run_callbacks() {\n",
       "    try {\n",
       "      root._bokeh_onload_callbacks.forEach(function(callback) { callback() });\n",
       "    }\n",
       "    finally {\n",
       "      delete root._bokeh_onload_callbacks\n",
       "    }\n",
       "    console.info(\"Bokeh: all callbacks have finished\");\n",
       "  }\n",
       "\n",
       "  function load_libs(js_urls, callback) {\n",
       "    root._bokeh_onload_callbacks.push(callback);\n",
       "    if (root._bokeh_is_loading > 0) {\n",
       "      console.log(\"Bokeh: BokehJS is being loaded, scheduling callback at\", now());\n",
       "      return null;\n",
       "    }\n",
       "    if (js_urls == null || js_urls.length === 0) {\n",
       "      run_callbacks();\n",
       "      return null;\n",
       "    }\n",
       "    console.log(\"Bokeh: BokehJS not loaded, scheduling load and callback at\", now());\n",
       "    root._bokeh_is_loading = js_urls.length;\n",
       "    for (var i = 0; i < js_urls.length; i++) {\n",
       "      var url = js_urls[i];\n",
       "      var s = document.createElement('script');\n",
       "      s.src = url;\n",
       "      s.async = false;\n",
       "      s.onreadystatechange = s.onload = function() {\n",
       "        root._bokeh_is_loading--;\n",
       "        if (root._bokeh_is_loading === 0) {\n",
       "          console.log(\"Bokeh: all BokehJS libraries loaded\");\n",
       "          run_callbacks()\n",
       "        }\n",
       "      };\n",
       "      s.onerror = function() {\n",
       "        console.warn(\"failed to load library \" + url);\n",
       "      };\n",
       "      console.log(\"Bokeh: injecting script tag for BokehJS library: \", url);\n",
       "      document.getElementsByTagName(\"head\")[0].appendChild(s);\n",
       "    }\n",
       "  };var element = document.getElementById(\"252e87a8-b2d9-4f9e-8e3e-b3f440688d68\");\n",
       "  if (element == null) {\n",
       "    console.log(\"Bokeh: ERROR: autoload.js configured with elementid '252e87a8-b2d9-4f9e-8e3e-b3f440688d68' but no matching script tag was found. \")\n",
       "    return false;\n",
       "  }\n",
       "\n",
       "  var js_urls = [\"https://cdn.pydata.org/bokeh/release/bokeh-0.12.15.min.js\", \"https://cdn.pydata.org/bokeh/release/bokeh-widgets-0.12.15.min.js\", \"https://cdn.pydata.org/bokeh/release/bokeh-tables-0.12.15.min.js\", \"https://cdn.pydata.org/bokeh/release/bokeh-gl-0.12.15.min.js\"];\n",
       "\n",
       "  var inline_js = [\n",
       "    function(Bokeh) {\n",
       "      Bokeh.set_log_level(\"info\");\n",
       "    },\n",
       "    \n",
       "    function(Bokeh) {\n",
       "      \n",
       "    },\n",
       "    function(Bokeh) {\n",
       "      console.log(\"Bokeh: injecting CSS: https://cdn.pydata.org/bokeh/release/bokeh-0.12.15.min.css\");\n",
       "      Bokeh.embed.inject_css(\"https://cdn.pydata.org/bokeh/release/bokeh-0.12.15.min.css\");\n",
       "      console.log(\"Bokeh: injecting CSS: https://cdn.pydata.org/bokeh/release/bokeh-widgets-0.12.15.min.css\");\n",
       "      Bokeh.embed.inject_css(\"https://cdn.pydata.org/bokeh/release/bokeh-widgets-0.12.15.min.css\");\n",
       "      console.log(\"Bokeh: injecting CSS: https://cdn.pydata.org/bokeh/release/bokeh-tables-0.12.15.min.css\");\n",
       "      Bokeh.embed.inject_css(\"https://cdn.pydata.org/bokeh/release/bokeh-tables-0.12.15.min.css\");\n",
       "    }\n",
       "  ];\n",
       "\n",
       "  function run_inline_js() {\n",
       "    \n",
       "    if ((root.Bokeh !== undefined) || (force === true)) {\n",
       "      for (var i = 0; i < inline_js.length; i++) {\n",
       "        inline_js[i].call(root, root.Bokeh);\n",
       "      }if (force === true) {\n",
       "        display_loaded();\n",
       "      }} else if (Date.now() < root._bokeh_timeout) {\n",
       "      setTimeout(run_inline_js, 100);\n",
       "    } else if (!root._bokeh_failed_load) {\n",
       "      console.log(\"Bokeh: BokehJS failed to load within specified timeout.\");\n",
       "      root._bokeh_failed_load = true;\n",
       "    } else if (force !== true) {\n",
       "      var cell = $(document.getElementById(\"252e87a8-b2d9-4f9e-8e3e-b3f440688d68\")).parents('.cell').data().cell;\n",
       "      cell.output_area.append_execute_result(NB_LOAD_WARNING)\n",
       "    }\n",
       "\n",
       "  }\n",
       "\n",
       "  if (root._bokeh_is_loading === 0) {\n",
       "    console.log(\"Bokeh: BokehJS loaded, going straight to plotting\");\n",
       "    run_inline_js();\n",
       "  } else {\n",
       "    load_libs(js_urls, function() {\n",
       "      console.log(\"Bokeh: BokehJS plotting callback run at\", now());\n",
       "      run_inline_js();\n",
       "    });\n",
       "  }\n",
       "}(window));"
      ],
      "application/vnd.bokehjs_load.v0+json": "\n(function(root) {\n  function now() {\n    return new Date();\n  }\n\n  var force = true;\n\n  if (typeof (root._bokeh_onload_callbacks) === \"undefined\" || force === true) {\n    root._bokeh_onload_callbacks = [];\n    root._bokeh_is_loading = undefined;\n  }\n\n  \n\n  \n  if (typeof (root._bokeh_timeout) === \"undefined\" || force === true) {\n    root._bokeh_timeout = Date.now() + 5000;\n    root._bokeh_failed_load = false;\n  }\n\n  var NB_LOAD_WARNING = {'data': {'text/html':\n     \"<div style='background-color: #fdd'>\\n\"+\n     \"<p>\\n\"+\n     \"BokehJS does not appear to have successfully loaded. If loading BokehJS from CDN, this \\n\"+\n     \"may be due to a slow or bad network connection. Possible fixes:\\n\"+\n     \"</p>\\n\"+\n     \"<ul>\\n\"+\n     \"<li>re-rerun `output_notebook()` to attempt to load from CDN again, or</li>\\n\"+\n     \"<li>use INLINE resources instead, as so:</li>\\n\"+\n     \"</ul>\\n\"+\n     \"<code>\\n\"+\n     \"from bokeh.resources import INLINE\\n\"+\n     \"output_notebook(resources=INLINE)\\n\"+\n     \"</code>\\n\"+\n     \"</div>\"}};\n\n  function display_loaded() {\n    var el = document.getElementById(\"252e87a8-b2d9-4f9e-8e3e-b3f440688d68\");\n    if (el != null) {\n      el.textContent = \"BokehJS is loading...\";\n    }\n    if (root.Bokeh !== undefined) {\n      if (el != null) {\n        el.textContent = \"BokehJS \" + root.Bokeh.version + \" successfully loaded.\";\n      }\n    } else if (Date.now() < root._bokeh_timeout) {\n      setTimeout(display_loaded, 100)\n    }\n  }\n\n\n  function run_callbacks() {\n    try {\n      root._bokeh_onload_callbacks.forEach(function(callback) { callback() });\n    }\n    finally {\n      delete root._bokeh_onload_callbacks\n    }\n    console.info(\"Bokeh: all callbacks have finished\");\n  }\n\n  function load_libs(js_urls, callback) {\n    root._bokeh_onload_callbacks.push(callback);\n    if (root._bokeh_is_loading > 0) {\n      console.log(\"Bokeh: BokehJS is being loaded, scheduling callback at\", now());\n      return null;\n    }\n    if (js_urls == null || js_urls.length === 0) {\n      run_callbacks();\n      return null;\n    }\n    console.log(\"Bokeh: BokehJS not loaded, scheduling load and callback at\", now());\n    root._bokeh_is_loading = js_urls.length;\n    for (var i = 0; i < js_urls.length; i++) {\n      var url = js_urls[i];\n      var s = document.createElement('script');\n      s.src = url;\n      s.async = false;\n      s.onreadystatechange = s.onload = function() {\n        root._bokeh_is_loading--;\n        if (root._bokeh_is_loading === 0) {\n          console.log(\"Bokeh: all BokehJS libraries loaded\");\n          run_callbacks()\n        }\n      };\n      s.onerror = function() {\n        console.warn(\"failed to load library \" + url);\n      };\n      console.log(\"Bokeh: injecting script tag for BokehJS library: \", url);\n      document.getElementsByTagName(\"head\")[0].appendChild(s);\n    }\n  };var element = document.getElementById(\"252e87a8-b2d9-4f9e-8e3e-b3f440688d68\");\n  if (element == null) {\n    console.log(\"Bokeh: ERROR: autoload.js configured with elementid '252e87a8-b2d9-4f9e-8e3e-b3f440688d68' but no matching script tag was found. \")\n    return false;\n  }\n\n  var js_urls = [\"https://cdn.pydata.org/bokeh/release/bokeh-0.12.15.min.js\", \"https://cdn.pydata.org/bokeh/release/bokeh-widgets-0.12.15.min.js\", \"https://cdn.pydata.org/bokeh/release/bokeh-tables-0.12.15.min.js\", \"https://cdn.pydata.org/bokeh/release/bokeh-gl-0.12.15.min.js\"];\n\n  var inline_js = [\n    function(Bokeh) {\n      Bokeh.set_log_level(\"info\");\n    },\n    \n    function(Bokeh) {\n      \n    },\n    function(Bokeh) {\n      console.log(\"Bokeh: injecting CSS: https://cdn.pydata.org/bokeh/release/bokeh-0.12.15.min.css\");\n      Bokeh.embed.inject_css(\"https://cdn.pydata.org/bokeh/release/bokeh-0.12.15.min.css\");\n      console.log(\"Bokeh: injecting CSS: https://cdn.pydata.org/bokeh/release/bokeh-widgets-0.12.15.min.css\");\n      Bokeh.embed.inject_css(\"https://cdn.pydata.org/bokeh/release/bokeh-widgets-0.12.15.min.css\");\n      console.log(\"Bokeh: injecting CSS: https://cdn.pydata.org/bokeh/release/bokeh-tables-0.12.15.min.css\");\n      Bokeh.embed.inject_css(\"https://cdn.pydata.org/bokeh/release/bokeh-tables-0.12.15.min.css\");\n    }\n  ];\n\n  function run_inline_js() {\n    \n    if ((root.Bokeh !== undefined) || (force === true)) {\n      for (var i = 0; i < inline_js.length; i++) {\n        inline_js[i].call(root, root.Bokeh);\n      }if (force === true) {\n        display_loaded();\n      }} else if (Date.now() < root._bokeh_timeout) {\n      setTimeout(run_inline_js, 100);\n    } else if (!root._bokeh_failed_load) {\n      console.log(\"Bokeh: BokehJS failed to load within specified timeout.\");\n      root._bokeh_failed_load = true;\n    } else if (force !== true) {\n      var cell = $(document.getElementById(\"252e87a8-b2d9-4f9e-8e3e-b3f440688d68\")).parents('.cell').data().cell;\n      cell.output_area.append_execute_result(NB_LOAD_WARNING)\n    }\n\n  }\n\n  if (root._bokeh_is_loading === 0) {\n    console.log(\"Bokeh: BokehJS loaded, going straight to plotting\");\n    run_inline_js();\n  } else {\n    load_libs(js_urls, function() {\n      console.log(\"Bokeh: BokehJS plotting callback run at\", now());\n      run_inline_js();\n    });\n  }\n}(window));"
     },
     "metadata": {},
     "output_type": "display_data"
    }
   ],
   "source": [
    "# Get the plots for each N/K (# of neighbors)\n",
    "\n",
    "from bokeh.io import show, output_notebook\n",
    "from bokeh.plotting import figure\n",
    "\n",
    "output_notebook()"
   ]
  },
  {
   "cell_type": "code",
   "execution_count": 38,
   "metadata": {},
   "outputs": [
    {
     "name": "stdout",
     "output_type": "stream",
     "text": [
      "[0.98, 0.97, 0.97, 0.97]\n",
      "[0.98, 0.97, 0.97, 0.97]\n"
     ]
    },
    {
     "data": {
      "text/html": [
       "\n",
       "<div class=\"bk-root\">\n",
       "    <div class=\"bk-plotdiv\" id=\"31e26cce-ff2f-4c82-b2a3-9e8505176b57\"></div>\n",
       "</div>"
      ]
     },
     "metadata": {},
     "output_type": "display_data"
    },
    {
     "data": {
      "application/javascript": [
       "(function(root) {\n",
       "  function embed_document(root) {\n",
       "    \n",
       "  var docs_json = {\"fab2a3eb-2f89-419a-8fe7-59e4ba16fe16\":{\"roots\":{\"references\":[{\"attributes\":{\"bottom_units\":\"screen\",\"fill_alpha\":{\"value\":0.5},\"fill_color\":{\"value\":\"lightgrey\"},\"left_units\":\"screen\",\"level\":\"overlay\",\"line_alpha\":{\"value\":1.0},\"line_color\":{\"value\":\"black\"},\"line_dash\":[4,4],\"line_width\":{\"value\":2},\"plot\":null,\"render_mode\":\"css\",\"right_units\":\"screen\",\"top_units\":\"screen\"},\"id\":\"c0784ff5-0037-4c5c-9d01-c21a8ebd34d8\",\"type\":\"BoxAnnotation\"},{\"attributes\":{},\"id\":\"001ed1e4-845b-49e7-8d2a-99c19dfa4309\",\"type\":\"LinearScale\"},{\"attributes\":{\"line_color\":\"green\",\"line_width\":2,\"x\":{\"field\":\"x\"},\"y\":{\"field\":\"y\"}},\"id\":\"f1ffdc7d-4435-4f0c-8c12-900b8af6b845\",\"type\":\"Line\"},{\"attributes\":{\"axis_label\":\"K\",\"formatter\":{\"id\":\"96725084-fd1d-496a-bbe6-d516a1aa9fbe\",\"type\":\"CategoricalTickFormatter\"},\"plot\":{\"id\":\"363f2709-0a2e-4aa0-8f22-a0aca05291f6\",\"subtype\":\"Figure\",\"type\":\"Plot\"},\"ticker\":{\"id\":\"22fe39f7-851f-4317-8467-3b7b581b4ee7\",\"type\":\"CategoricalTicker\"}},\"id\":\"3fd518e8-0549-4e56-b395-718d2729ba78\",\"type\":\"CategoricalAxis\"},{\"attributes\":{\"grid_line_color\":{\"value\":null},\"plot\":{\"id\":\"363f2709-0a2e-4aa0-8f22-a0aca05291f6\",\"subtype\":\"Figure\",\"type\":\"Plot\"},\"ticker\":{\"id\":\"22fe39f7-851f-4317-8467-3b7b581b4ee7\",\"type\":\"CategoricalTicker\"}},\"id\":\"0b311483-45d2-43e1-b871-b30198e20404\",\"type\":\"Grid\"},{\"attributes\":{\"axis_label\":\"Accuracy\",\"formatter\":{\"id\":\"5babf908-666d-4e5e-b46f-18653fc7b5cf\",\"type\":\"BasicTickFormatter\"},\"plot\":{\"id\":\"363f2709-0a2e-4aa0-8f22-a0aca05291f6\",\"subtype\":\"Figure\",\"type\":\"Plot\"},\"ticker\":{\"id\":\"621d26e2-d00e-488b-b547-27efe7dd166b\",\"type\":\"BasicTicker\"}},\"id\":\"85326f6c-1426-4f38-b322-e0e73677f62c\",\"type\":\"LinearAxis\"},{\"attributes\":{\"callback\":null,\"column_names\":[\"x\",\"y\"],\"data\":{\"x\":[\"5\",\"10\",\"15\",\"20\"],\"y\":[0.98,0.97,0.97,0.97]},\"selected\":null,\"selection_policy\":null},\"id\":\"7363dd4d-c76b-4d01-91a7-b4f31a2b6042\",\"type\":\"ColumnDataSource\"},{\"attributes\":{\"source\":{\"id\":\"3f9c0410-7b6a-49bc-90ba-1f02c4838aa9\",\"type\":\"ColumnDataSource\"}},\"id\":\"ec253f4a-20a4-48f8-aada-cd5da8f5c0d0\",\"type\":\"CDSView\"},{\"attributes\":{\"callback\":null,\"end\":1.0,\"start\":0.9},\"id\":\"055728f8-895b-436b-81c6-843157750623\",\"type\":\"DataRange1d\"},{\"attributes\":{},\"id\":\"96725084-fd1d-496a-bbe6-d516a1aa9fbe\",\"type\":\"CategoricalTickFormatter\"},{\"attributes\":{\"source\":{\"id\":\"7363dd4d-c76b-4d01-91a7-b4f31a2b6042\",\"type\":\"ColumnDataSource\"}},\"id\":\"d2a21d7f-fb0d-46e9-b9dc-2c46007ae152\",\"type\":\"CDSView\"},{\"attributes\":{},\"id\":\"eb545f6a-1d75-4ba7-b80d-2f76a3f81ded\",\"type\":\"ResetTool\"},{\"attributes\":{\"callback\":null,\"column_names\":[\"x\",\"top\"],\"data\":{\"top\":[0.98,0.97,0.97,0.97],\"x\":[\"5\",\"10\",\"15\",\"20\"]},\"selected\":null,\"selection_policy\":null},\"id\":\"3f9c0410-7b6a-49bc-90ba-1f02c4838aa9\",\"type\":\"ColumnDataSource\"},{\"attributes\":{\"fill_color\":{\"value\":\"#1f77b4\"},\"line_color\":{\"value\":\"#1f77b4\"},\"top\":{\"field\":\"top\"},\"width\":{\"value\":0.3},\"x\":{\"field\":\"x\"}},\"id\":\"35833ee3-5e35-437a-9a0c-2312f5bf7bbf\",\"type\":\"VBar\"},{\"attributes\":{\"active_drag\":\"auto\",\"active_inspect\":\"auto\",\"active_scroll\":\"auto\",\"active_tap\":\"auto\",\"tools\":[{\"id\":\"baae9a12-237e-42c2-ad7d-1b597c619366\",\"type\":\"PanTool\"},{\"id\":\"4358af97-7dba-402f-8fcb-547e8cf58418\",\"type\":\"WheelZoomTool\"},{\"id\":\"bc17878e-3532-4b3c-bb88-a3e5499865ae\",\"type\":\"BoxZoomTool\"},{\"id\":\"478893a4-da6b-441d-bc30-9a4e82385b04\",\"type\":\"SaveTool\"},{\"id\":\"eb545f6a-1d75-4ba7-b80d-2f76a3f81ded\",\"type\":\"ResetTool\"},{\"id\":\"ae2c9db2-601f-41a5-8c9c-eb851ea521c9\",\"type\":\"HelpTool\"}]},\"id\":\"7fd7d50d-a258-4585-bd2a-d7b283dba917\",\"type\":\"Toolbar\"},{\"attributes\":{\"line_alpha\":0.1,\"line_color\":\"#1f77b4\",\"line_width\":2,\"x\":{\"field\":\"x\"},\"y\":{\"field\":\"y\"}},\"id\":\"9f9d2080-8c2e-48f8-b805-f04cfc8f913f\",\"type\":\"Line\"},{\"attributes\":{},\"id\":\"5babf908-666d-4e5e-b46f-18653fc7b5cf\",\"type\":\"BasicTickFormatter\"},{\"attributes\":{},\"id\":\"520e9fc9-c72b-4d02-929d-97cdf7e8bc96\",\"type\":\"CategoricalScale\"},{\"attributes\":{},\"id\":\"baae9a12-237e-42c2-ad7d-1b597c619366\",\"type\":\"PanTool\"},{\"attributes\":{\"data_source\":{\"id\":\"3f9c0410-7b6a-49bc-90ba-1f02c4838aa9\",\"type\":\"ColumnDataSource\"},\"glyph\":{\"id\":\"35833ee3-5e35-437a-9a0c-2312f5bf7bbf\",\"type\":\"VBar\"},\"hover_glyph\":null,\"muted_glyph\":null,\"nonselection_glyph\":{\"id\":\"840eb9ad-3b78-490c-9ccd-e814803c6bcd\",\"type\":\"VBar\"},\"selection_glyph\":null,\"view\":{\"id\":\"ec253f4a-20a4-48f8-aada-cd5da8f5c0d0\",\"type\":\"CDSView\"}},\"id\":\"535d8e2d-cb30-4205-8d78-bd2463ebc2bc\",\"type\":\"GlyphRenderer\"},{\"attributes\":{},\"id\":\"22fe39f7-851f-4317-8467-3b7b581b4ee7\",\"type\":\"CategoricalTicker\"},{\"attributes\":{\"plot\":null,\"text\":\"Confidence and Accuracy at different K\"},\"id\":\"cbaace81-5cf3-4a5c-a502-b52121db65a2\",\"type\":\"Title\"},{\"attributes\":{},\"id\":\"4358af97-7dba-402f-8fcb-547e8cf58418\",\"type\":\"WheelZoomTool\"},{\"attributes\":{},\"id\":\"478893a4-da6b-441d-bc30-9a4e82385b04\",\"type\":\"SaveTool\"},{\"attributes\":{\"below\":[{\"id\":\"3fd518e8-0549-4e56-b395-718d2729ba78\",\"type\":\"CategoricalAxis\"}],\"left\":[{\"id\":\"85326f6c-1426-4f38-b322-e0e73677f62c\",\"type\":\"LinearAxis\"}],\"plot_height\":200,\"renderers\":[{\"id\":\"3fd518e8-0549-4e56-b395-718d2729ba78\",\"type\":\"CategoricalAxis\"},{\"id\":\"0b311483-45d2-43e1-b871-b30198e20404\",\"type\":\"Grid\"},{\"id\":\"85326f6c-1426-4f38-b322-e0e73677f62c\",\"type\":\"LinearAxis\"},{\"id\":\"0f192281-ae5b-4ee3-a5ae-8420482efb35\",\"type\":\"Grid\"},{\"id\":\"c0784ff5-0037-4c5c-9d01-c21a8ebd34d8\",\"type\":\"BoxAnnotation\"},{\"id\":\"535d8e2d-cb30-4205-8d78-bd2463ebc2bc\",\"type\":\"GlyphRenderer\"},{\"id\":\"634a4da2-d383-438a-92fe-f43f487ca904\",\"type\":\"GlyphRenderer\"}],\"title\":{\"id\":\"cbaace81-5cf3-4a5c-a502-b52121db65a2\",\"type\":\"Title\"},\"toolbar\":{\"id\":\"7fd7d50d-a258-4585-bd2a-d7b283dba917\",\"type\":\"Toolbar\"},\"x_range\":{\"id\":\"ad9a7470-5843-4cfe-a1b6-bf4244df7a56\",\"type\":\"FactorRange\"},\"x_scale\":{\"id\":\"520e9fc9-c72b-4d02-929d-97cdf7e8bc96\",\"type\":\"CategoricalScale\"},\"y_range\":{\"id\":\"055728f8-895b-436b-81c6-843157750623\",\"type\":\"DataRange1d\"},\"y_scale\":{\"id\":\"001ed1e4-845b-49e7-8d2a-99c19dfa4309\",\"type\":\"LinearScale\"}},\"id\":\"363f2709-0a2e-4aa0-8f22-a0aca05291f6\",\"subtype\":\"Figure\",\"type\":\"Plot\"},{\"attributes\":{\"dimension\":1,\"plot\":{\"id\":\"363f2709-0a2e-4aa0-8f22-a0aca05291f6\",\"subtype\":\"Figure\",\"type\":\"Plot\"},\"ticker\":{\"id\":\"621d26e2-d00e-488b-b547-27efe7dd166b\",\"type\":\"BasicTicker\"}},\"id\":\"0f192281-ae5b-4ee3-a5ae-8420482efb35\",\"type\":\"Grid\"},{\"attributes\":{},\"id\":\"ae2c9db2-601f-41a5-8c9c-eb851ea521c9\",\"type\":\"HelpTool\"},{\"attributes\":{\"data_source\":{\"id\":\"7363dd4d-c76b-4d01-91a7-b4f31a2b6042\",\"type\":\"ColumnDataSource\"},\"glyph\":{\"id\":\"f1ffdc7d-4435-4f0c-8c12-900b8af6b845\",\"type\":\"Line\"},\"hover_glyph\":null,\"muted_glyph\":null,\"nonselection_glyph\":{\"id\":\"9f9d2080-8c2e-48f8-b805-f04cfc8f913f\",\"type\":\"Line\"},\"selection_glyph\":null,\"view\":{\"id\":\"d2a21d7f-fb0d-46e9-b9dc-2c46007ae152\",\"type\":\"CDSView\"}},\"id\":\"634a4da2-d383-438a-92fe-f43f487ca904\",\"type\":\"GlyphRenderer\"},{\"attributes\":{\"overlay\":{\"id\":\"c0784ff5-0037-4c5c-9d01-c21a8ebd34d8\",\"type\":\"BoxAnnotation\"}},\"id\":\"bc17878e-3532-4b3c-bb88-a3e5499865ae\",\"type\":\"BoxZoomTool\"},{\"attributes\":{\"fill_alpha\":{\"value\":0.1},\"fill_color\":{\"value\":\"#1f77b4\"},\"line_alpha\":{\"value\":0.1},\"line_color\":{\"value\":\"#1f77b4\"},\"top\":{\"field\":\"top\"},\"width\":{\"value\":0.3},\"x\":{\"field\":\"x\"}},\"id\":\"840eb9ad-3b78-490c-9ccd-e814803c6bcd\",\"type\":\"VBar\"},{\"attributes\":{\"callback\":null,\"factors\":[\"5\",\"10\",\"15\",\"20\"]},\"id\":\"ad9a7470-5843-4cfe-a1b6-bf4244df7a56\",\"type\":\"FactorRange\"},{\"attributes\":{},\"id\":\"621d26e2-d00e-488b-b547-27efe7dd166b\",\"type\":\"BasicTicker\"}],\"root_ids\":[\"363f2709-0a2e-4aa0-8f22-a0aca05291f6\"]},\"title\":\"Bokeh Application\",\"version\":\"0.12.15\"}};\n",
       "  var render_items = [{\"docid\":\"fab2a3eb-2f89-419a-8fe7-59e4ba16fe16\",\"elementid\":\"31e26cce-ff2f-4c82-b2a3-9e8505176b57\",\"modelid\":\"363f2709-0a2e-4aa0-8f22-a0aca05291f6\"}];\n",
       "  root.Bokeh.embed.embed_items_notebook(docs_json, render_items);\n",
       "\n",
       "  }\n",
       "  if (root.Bokeh !== undefined) {\n",
       "    embed_document(root);\n",
       "  } else {\n",
       "    var attempts = 0;\n",
       "    var timer = setInterval(function(root) {\n",
       "      if (root.Bokeh !== undefined) {\n",
       "        embed_document(root);\n",
       "        clearInterval(timer);\n",
       "      }\n",
       "      attempts++;\n",
       "      if (attempts > 100) {\n",
       "        console.log(\"Bokeh: ERROR: Unable to run BokehJS code because BokehJS library is missing\")\n",
       "        clearInterval(timer);\n",
       "      }\n",
       "    }, 10, root)\n",
       "  }\n",
       "})(window);"
      ],
      "application/vnd.bokehjs_exec.v0+json": ""
     },
     "metadata": {
      "application/vnd.bokehjs_exec.v0+json": {
       "id": "363f2709-0a2e-4aa0-8f22-a0aca05291f6"
      }
     },
     "output_type": "display_data"
    }
   ],
   "source": [
    "from bokeh.models import ColumnarDataSource, FactorRange\n",
    "\n",
    "print(accuracy)\n",
    "print(confidence)\n",
    "\n",
    "p = figure(x_range=['5','10','15','20'], plot_height=200, title=\"Confidence and Accuracy at different K\")\n",
    "p.vbar(x=['5','10','15','20'], top=confidence, width=0.3)\n",
    "p.line(x=['5','10','15','20'], y=accuracy, line_width=2, color='green')\n",
    "\n",
    "p.xgrid.grid_line_color=None\n",
    "p.y_range.start=0.9\n",
    "p.y_range.end=1.0\n",
    "p.xaxis.axis_label = 'K'\n",
    "p.yaxis.axis_label = 'Accuracy'\n",
    "show(p)"
   ]
  },
  {
   "cell_type": "code",
   "execution_count": 27,
   "metadata": {},
   "outputs": [
    {
     "name": "stdout",
     "output_type": "stream",
     "text": [
      "[0 1 3 ... 3 6 0] [0 1 3 ... 3 6 0]\n"
     ]
    }
   ],
   "source": [
    "print(y_test, y_pred[0])"
   ]
  },
  {
   "cell_type": "code",
   "execution_count": 29,
   "metadata": {},
   "outputs": [],
   "source": [
    "# Confusion Matrix per Class (10)\n",
    "from collections import defaultdict\n",
    "def compute_metrics(test, pred):\n",
    "    # Create the dictionary for each class\n",
    "    conf_matrix={val:{'TP':0, 'TN':0, 'FP':0, 'FN':0} for val in range(10)}\n",
    "    \n",
    "    for t,p in zip(test, pred):\n",
    "        for val in range(10):\n",
    "            # For each class we can calculate this\n",
    "            if t==val and p==val: conf_matrix[val]['TP'] +=1\n",
    "            if t!=val and p!=val: conf_matrix[val]['TN'] +=1\n",
    "            if t!=val and p==val: conf_matrix[val]['FP'] +=1\n",
    "            if t==val and p!=val: conf_matrix[val]['FN'] +=1\n",
    "    \n",
    "    #to Plot\n",
    "    acc_dict=[]\n",
    "    prec_dict=[]\n",
    "    rec_dict=[]\n",
    "    for k, v in conf_matrix.items():\n",
    "        print(\"Confusion matrix for {}\".format(k), \":\", \"True Positive = {}, True Negative = {}, \\\n",
    "        False Positive = {}, False Negative = {}\".format(v['TP'], v['TN'], v['FP'], v['FN']))\n",
    "        conf_mat=np.array([[v['TP'], v['FP']],\n",
    "                           [v['FN'], v['TN']]])\n",
    "        #plt.matshow(conf_mat)\n",
    "        #plt.title('Confusion Matrix for Validation Data')\n",
    "        #plt.colorbar()\n",
    "        #plt.ylabel('True label')\n",
    "        #plt.xlabel('Predicted label')\n",
    "        #plt.show()\n",
    "        #print(\"Accuracy for {} = {}\".format(k, (v['TP']+v['TN'])/(1.0*(v['TP']+v['TN']+v['FP']+v['FN']))))\n",
    "        #print(\"Precision for {} = {}\".format(k, (v['TP'])/(1.0*(v['TP']+v['FP']))))\n",
    "        #print(\"Recall for {} = {}\".format(k, (v['TP'])/(1.0*(v['TP']+v['FN']))))\n",
    "        \n",
    "        #Store to get the final plot\n",
    "        acc_dict.append(round((v['TP']+v['TN'])/(1.0*(v['TP']+v['TN']+v['FP']+v['FN'])) ,3))\n",
    "        prec_dict.append(round((v['TP'])/(1.0*(v['TP']+v['FP']))  ,3))\n",
    "        rec_dict.append(round((v['TP'])/(1.0*(v['TP']+v['FN']))  ,3))\n",
    "        \n",
    "    return acc_dict, prec_dict, rec_dict"
   ]
  },
  {
   "cell_type": "code",
   "execution_count": 36,
   "metadata": {
    "scrolled": false
   },
   "outputs": [
    {
     "name": "stdout",
     "output_type": "stream",
     "text": [
      "\n",
      "\n",
      "#######################################################################################\n",
      "#######################################################################################\n",
      "#######################################################################################\n",
      "\n",
      "\n",
      "For number of neighbors = 5\n",
      "\n",
      " KNN Trained Classifier Confidence:  0.98\n",
      "\n",
      " Predicted Values:  [0 1 3 ... 3 6 0]\n",
      "\n",
      " Accuracy of Classifier on Validation Image Data:  0.98\n",
      "Confusion matrix for 0 : True Positive = 604, True Negative = 5387,         False Positive = 5, False Negative = 4\n",
      "Confusion matrix for 1 : True Positive = 642, True Negative = 5337,         False Positive = 20, False Negative = 1\n",
      "Confusion matrix for 2 : True Positive = 592, True Negative = 5391,         False Positive = 8, False Negative = 9\n",
      "Confusion matrix for 3 : True Positive = 569, True Negative = 5407,         False Positive = 13, False Negative = 11\n",
      "Confusion matrix for 4 : True Positive = 588, True Negative = 5383,         False Positive = 12, False Negative = 17\n",
      "Confusion matrix for 5 : True Positive = 507, True Negative = 5462,         False Positive = 13, False Negative = 18\n",
      "Confusion matrix for 6 : True Positive = 595, True Negative = 5393,         False Positive = 9, False Negative = 3\n",
      "Confusion matrix for 7 : True Positive = 641, True Negative = 5337,         False Positive = 11, False Negative = 11\n",
      "Confusion matrix for 8 : True Positive = 562, True Negative = 5402,         False Positive = 7, False Negative = 29\n",
      "Confusion matrix for 9 : True Positive = 578, True Negative = 5379,         False Positive = 24, False Negative = 19\n"
     ]
    },
    {
     "data": {
      "text/html": [
       "\n",
       "<div class=\"bk-root\">\n",
       "    <div class=\"bk-plotdiv\" id=\"63a6610c-3c1a-4659-be49-22fb31faf8e3\"></div>\n",
       "</div>"
      ]
     },
     "metadata": {},
     "output_type": "display_data"
    },
    {
     "data": {
      "application/javascript": [
       "(function(root) {\n",
       "  function embed_document(root) {\n",
       "    \n",
       "  var docs_json = {\"c61cac12-93c0-4925-8412-95aa41e90d5c\":{\"roots\":{\"references\":[{\"attributes\":{},\"id\":\"2d56263c-978a-4b07-8db4-f4d8ba023114\",\"type\":\"LinearScale\"},{\"attributes\":{\"callback\":null,\"factors\":[[\"0\",\"Accuracy\"],[\"0\",\"Precision\"],[\"0\",\"Recall\"],[\"1\",\"Accuracy\"],[\"1\",\"Precision\"],[\"1\",\"Recall\"],[\"2\",\"Accuracy\"],[\"2\",\"Precision\"],[\"2\",\"Recall\"],[\"3\",\"Accuracy\"],[\"3\",\"Precision\"],[\"3\",\"Recall\"],[\"4\",\"Accuracy\"],[\"4\",\"Precision\"],[\"4\",\"Recall\"],[\"5\",\"Accuracy\"],[\"5\",\"Precision\"],[\"5\",\"Recall\"],[\"6\",\"Accuracy\"],[\"6\",\"Precision\"],[\"6\",\"Recall\"],[\"7\",\"Accuracy\"],[\"7\",\"Precision\"],[\"7\",\"Recall\"],[\"8\",\"Accuracy\"],[\"8\",\"Precision\"],[\"8\",\"Recall\"],[\"9\",\"Accuracy\"],[\"9\",\"Precision\"],[\"9\",\"Recall\"]],\"range_padding\":0.1},\"id\":\"d6f82982-316e-4f64-a161-91b8259fa707\",\"type\":\"FactorRange\"},{\"attributes\":{},\"id\":\"1cf5d7ec-c030-4947-b747-8d992de67e42\",\"type\":\"CategoricalTickFormatter\"},{\"attributes\":{\"callback\":null,\"start\":0.9},\"id\":\"d19a65e5-8b99-435f-8501-938fbaa0e103\",\"type\":\"DataRange1d\"},{\"attributes\":{\"end\":2,\"factors\":[\"Accuracy\",\"Precision\",\"Recall\"],\"palette\":[\"#c9d9d3\",\"#718dbf\",\"#e84d60\"],\"start\":1},\"id\":\"619b5a7d-14d0-4dc1-a9e0-b8c78c38505b\",\"type\":\"CategoricalColorMapper\"},{\"attributes\":{},\"id\":\"26e69461-665b-4851-807c-7c0cbf16bb2f\",\"type\":\"CategoricalScale\"},{\"attributes\":{\"formatter\":{\"id\":\"1cf5d7ec-c030-4947-b747-8d992de67e42\",\"type\":\"CategoricalTickFormatter\"},\"major_label_orientation\":1,\"plot\":{\"id\":\"b27c5075-42c1-4ab5-92f9-7b670905e9fb\",\"subtype\":\"Figure\",\"type\":\"Plot\"},\"ticker\":{\"id\":\"7c7781d6-de85-4497-b589-c4576a9dd415\",\"type\":\"CategoricalTicker\"}},\"id\":\"e00c874e-2be3-4546-b433-1c2d7b816145\",\"type\":\"CategoricalAxis\"},{\"attributes\":{\"grid_line_color\":{\"value\":null},\"plot\":{\"id\":\"b27c5075-42c1-4ab5-92f9-7b670905e9fb\",\"subtype\":\"Figure\",\"type\":\"Plot\"},\"ticker\":{\"id\":\"7c7781d6-de85-4497-b589-c4576a9dd415\",\"type\":\"CategoricalTicker\"}},\"id\":\"22c923bc-5fcc-40d2-a4b1-31c1a22005a1\",\"type\":\"Grid\"},{\"attributes\":{\"plot\":null,\"text\":\"Metrics per Class\"},\"id\":\"38da7520-ad53-4555-8abf-15bc74ac5336\",\"type\":\"Title\"},{\"attributes\":{},\"id\":\"7c7781d6-de85-4497-b589-c4576a9dd415\",\"type\":\"CategoricalTicker\"},{\"attributes\":{},\"id\":\"373ce2e6-99d2-4b40-a7f7-04a0198abd8c\",\"type\":\"BasicTicker\"},{\"attributes\":{\"dimension\":1,\"plot\":{\"id\":\"b27c5075-42c1-4ab5-92f9-7b670905e9fb\",\"subtype\":\"Figure\",\"type\":\"Plot\"},\"ticker\":{\"id\":\"373ce2e6-99d2-4b40-a7f7-04a0198abd8c\",\"type\":\"BasicTicker\"}},\"id\":\"94841a8e-65ac-4aaa-977b-d576e43686ff\",\"type\":\"Grid\"},{\"attributes\":{\"callback\":null,\"column_names\":[\"x\",\"counts\"],\"data\":{\"counts\":[0.999,0.992,0.993,0.997,0.97,0.998,0.997,0.987,0.985,0.996,0.978,0.981,0.995,0.98,0.972,0.995,0.975,0.966,0.998,0.985,0.995,0.996,0.983,0.983,0.994,0.988,0.951,0.993,0.96,0.968],\"x\":[[\"0\",\"Accuracy\"],[\"0\",\"Precision\"],[\"0\",\"Recall\"],[\"1\",\"Accuracy\"],[\"1\",\"Precision\"],[\"1\",\"Recall\"],[\"2\",\"Accuracy\"],[\"2\",\"Precision\"],[\"2\",\"Recall\"],[\"3\",\"Accuracy\"],[\"3\",\"Precision\"],[\"3\",\"Recall\"],[\"4\",\"Accuracy\"],[\"4\",\"Precision\"],[\"4\",\"Recall\"],[\"5\",\"Accuracy\"],[\"5\",\"Precision\"],[\"5\",\"Recall\"],[\"6\",\"Accuracy\"],[\"6\",\"Precision\"],[\"6\",\"Recall\"],[\"7\",\"Accuracy\"],[\"7\",\"Precision\"],[\"7\",\"Recall\"],[\"8\",\"Accuracy\"],[\"8\",\"Precision\"],[\"8\",\"Recall\"],[\"9\",\"Accuracy\"],[\"9\",\"Precision\"],[\"9\",\"Recall\"]]},\"selected\":null,\"selection_policy\":null},\"id\":\"3884594b-43ad-41aa-a57d-41078737f97c\",\"type\":\"ColumnDataSource\"},{\"attributes\":{\"fill_color\":{\"field\":\"x\",\"transform\":{\"id\":\"619b5a7d-14d0-4dc1-a9e0-b8c78c38505b\",\"type\":\"CategoricalColorMapper\"}},\"line_color\":{\"value\":\"white\"},\"top\":{\"field\":\"counts\"},\"width\":{\"value\":0.9},\"x\":{\"field\":\"x\"}},\"id\":\"b145b3c9-ddd1-4114-a1ea-086a3b997053\",\"type\":\"VBar\"},{\"attributes\":{\"fill_alpha\":{\"value\":0.1},\"fill_color\":{\"value\":\"#1f77b4\"},\"line_alpha\":{\"value\":0.1},\"line_color\":{\"value\":\"#1f77b4\"},\"top\":{\"field\":\"counts\"},\"width\":{\"value\":0.9},\"x\":{\"field\":\"x\"}},\"id\":\"57a6a920-b66c-42f4-b787-28cf1aa2564a\",\"type\":\"VBar\"},{\"attributes\":{\"data_source\":{\"id\":\"3884594b-43ad-41aa-a57d-41078737f97c\",\"type\":\"ColumnDataSource\"},\"glyph\":{\"id\":\"b145b3c9-ddd1-4114-a1ea-086a3b997053\",\"type\":\"VBar\"},\"hover_glyph\":null,\"muted_glyph\":null,\"nonselection_glyph\":{\"id\":\"57a6a920-b66c-42f4-b787-28cf1aa2564a\",\"type\":\"VBar\"},\"selection_glyph\":null,\"view\":{\"id\":\"87bef035-01f1-4cc5-bade-1114f1273cd6\",\"type\":\"CDSView\"}},\"id\":\"f31ce893-02d1-475e-ba51-0fa704272b59\",\"type\":\"GlyphRenderer\"},{\"attributes\":{\"source\":{\"id\":\"3884594b-43ad-41aa-a57d-41078737f97c\",\"type\":\"ColumnDataSource\"}},\"id\":\"87bef035-01f1-4cc5-bade-1114f1273cd6\",\"type\":\"CDSView\"},{\"attributes\":{\"below\":[{\"id\":\"e00c874e-2be3-4546-b433-1c2d7b816145\",\"type\":\"CategoricalAxis\"}],\"left\":[{\"id\":\"1fbf6c3d-490f-4601-827a-1ab8f35de9fc\",\"type\":\"LinearAxis\"}],\"plot_height\":350,\"renderers\":[{\"id\":\"e00c874e-2be3-4546-b433-1c2d7b816145\",\"type\":\"CategoricalAxis\"},{\"id\":\"22c923bc-5fcc-40d2-a4b1-31c1a22005a1\",\"type\":\"Grid\"},{\"id\":\"1fbf6c3d-490f-4601-827a-1ab8f35de9fc\",\"type\":\"LinearAxis\"},{\"id\":\"94841a8e-65ac-4aaa-977b-d576e43686ff\",\"type\":\"Grid\"},{\"id\":\"f31ce893-02d1-475e-ba51-0fa704272b59\",\"type\":\"GlyphRenderer\"}],\"title\":{\"id\":\"38da7520-ad53-4555-8abf-15bc74ac5336\",\"type\":\"Title\"},\"toolbar\":{\"id\":\"6b8c8e4a-097e-4866-808a-817fd696b237\",\"type\":\"Toolbar\"},\"toolbar_location\":null,\"x_range\":{\"id\":\"d6f82982-316e-4f64-a161-91b8259fa707\",\"type\":\"FactorRange\"},\"x_scale\":{\"id\":\"26e69461-665b-4851-807c-7c0cbf16bb2f\",\"type\":\"CategoricalScale\"},\"y_range\":{\"id\":\"d19a65e5-8b99-435f-8501-938fbaa0e103\",\"type\":\"DataRange1d\"},\"y_scale\":{\"id\":\"2d56263c-978a-4b07-8db4-f4d8ba023114\",\"type\":\"LinearScale\"}},\"id\":\"b27c5075-42c1-4ab5-92f9-7b670905e9fb\",\"subtype\":\"Figure\",\"type\":\"Plot\"},{\"attributes\":{\"formatter\":{\"id\":\"a3ec1d80-e966-45df-98c7-0caa8ac405d2\",\"type\":\"BasicTickFormatter\"},\"plot\":{\"id\":\"b27c5075-42c1-4ab5-92f9-7b670905e9fb\",\"subtype\":\"Figure\",\"type\":\"Plot\"},\"ticker\":{\"id\":\"373ce2e6-99d2-4b40-a7f7-04a0198abd8c\",\"type\":\"BasicTicker\"}},\"id\":\"1fbf6c3d-490f-4601-827a-1ab8f35de9fc\",\"type\":\"LinearAxis\"},{\"attributes\":{},\"id\":\"a3ec1d80-e966-45df-98c7-0caa8ac405d2\",\"type\":\"BasicTickFormatter\"},{\"attributes\":{\"active_drag\":\"auto\",\"active_inspect\":\"auto\",\"active_scroll\":\"auto\",\"active_tap\":\"auto\"},\"id\":\"6b8c8e4a-097e-4866-808a-817fd696b237\",\"type\":\"Toolbar\"}],\"root_ids\":[\"b27c5075-42c1-4ab5-92f9-7b670905e9fb\"]},\"title\":\"Bokeh Application\",\"version\":\"0.12.15\"}};\n",
       "  var render_items = [{\"docid\":\"c61cac12-93c0-4925-8412-95aa41e90d5c\",\"elementid\":\"63a6610c-3c1a-4659-be49-22fb31faf8e3\",\"modelid\":\"b27c5075-42c1-4ab5-92f9-7b670905e9fb\"}];\n",
       "  root.Bokeh.embed.embed_items_notebook(docs_json, render_items);\n",
       "\n",
       "  }\n",
       "  if (root.Bokeh !== undefined) {\n",
       "    embed_document(root);\n",
       "  } else {\n",
       "    var attempts = 0;\n",
       "    var timer = setInterval(function(root) {\n",
       "      if (root.Bokeh !== undefined) {\n",
       "        embed_document(root);\n",
       "        clearInterval(timer);\n",
       "      }\n",
       "      attempts++;\n",
       "      if (attempts > 100) {\n",
       "        console.log(\"Bokeh: ERROR: Unable to run BokehJS code because BokehJS library is missing\")\n",
       "        clearInterval(timer);\n",
       "      }\n",
       "    }, 10, root)\n",
       "  }\n",
       "})(window);"
      ],
      "application/vnd.bokehjs_exec.v0+json": ""
     },
     "metadata": {
      "application/vnd.bokehjs_exec.v0+json": {
       "id": "b27c5075-42c1-4ab5-92f9-7b670905e9fb"
      }
     },
     "output_type": "display_data"
    },
    {
     "name": "stdout",
     "output_type": "stream",
     "text": [
      "\n",
      "\n",
      "#######################################################################################\n",
      "#######################################################################################\n",
      "#######################################################################################\n",
      "\n",
      "\n",
      "For number of neighbors = 10\n",
      "\n",
      " KNN Trained Classifier Confidence:  0.97\n",
      "\n",
      " Predicted Values:  [0 1 3 ... 3 6 0]\n",
      "\n",
      " Accuracy of Classifier on Validation Image Data:  0.97\n",
      "Confusion matrix for 0 : True Positive = 604, True Negative = 5381,         False Positive = 11, False Negative = 4\n",
      "Confusion matrix for 1 : True Positive = 642, True Negative = 5321,         False Positive = 36, False Negative = 1\n",
      "Confusion matrix for 2 : True Positive = 581, True Negative = 5389,         False Positive = 10, False Negative = 20\n",
      "Confusion matrix for 3 : True Positive = 564, True Negative = 5405,         False Positive = 15, False Negative = 16\n",
      "Confusion matrix for 4 : True Positive = 583, True Negative = 5385,         False Positive = 10, False Negative = 22\n",
      "Confusion matrix for 5 : True Positive = 506, True Negative = 5462,         False Positive = 13, False Negative = 19\n",
      "Confusion matrix for 6 : True Positive = 591, True Negative = 5394,         False Positive = 8, False Negative = 7\n",
      "Confusion matrix for 7 : True Positive = 635, True Negative = 5329,         False Positive = 19, False Negative = 17\n",
      "Confusion matrix for 8 : True Positive = 557, True Negative = 5401,         False Positive = 8, False Negative = 34\n",
      "Confusion matrix for 9 : True Positive = 575, True Negative = 5371,         False Positive = 32, False Negative = 22\n"
     ]
    },
    {
     "data": {
      "text/html": [
       "\n",
       "<div class=\"bk-root\">\n",
       "    <div class=\"bk-plotdiv\" id=\"d736ffde-f66d-480e-8599-4e9c3276fcd7\"></div>\n",
       "</div>"
      ]
     },
     "metadata": {},
     "output_type": "display_data"
    },
    {
     "data": {
      "application/javascript": [
       "(function(root) {\n",
       "  function embed_document(root) {\n",
       "    \n",
       "  var docs_json = {\"15b27c36-1533-4cfd-b032-f48d9067be75\":{\"roots\":{\"references\":[{\"attributes\":{\"formatter\":{\"id\":\"6d0b0b7c-0f27-4715-aed7-c6b248d6319b\",\"type\":\"CategoricalTickFormatter\"},\"major_label_orientation\":1,\"plot\":{\"id\":\"6efdf78b-972b-48b5-9669-11187f875d07\",\"subtype\":\"Figure\",\"type\":\"Plot\"},\"ticker\":{\"id\":\"edbe011a-11ea-4de8-a5f1-be732981a320\",\"type\":\"CategoricalTicker\"}},\"id\":\"e616b7f2-8d56-4184-88e4-23baa4e4b353\",\"type\":\"CategoricalAxis\"},{\"attributes\":{},\"id\":\"edbe011a-11ea-4de8-a5f1-be732981a320\",\"type\":\"CategoricalTicker\"},{\"attributes\":{},\"id\":\"437c6d78-0206-4c2f-9b4f-4f7a7922b6d4\",\"type\":\"BasicTicker\"},{\"attributes\":{\"source\":{\"id\":\"fedf3487-a709-400e-9ae1-f6f4e92f512b\",\"type\":\"ColumnDataSource\"}},\"id\":\"5ba7022a-4b38-4079-953e-9b0b69beb2f2\",\"type\":\"CDSView\"},{\"attributes\":{\"below\":[{\"id\":\"e616b7f2-8d56-4184-88e4-23baa4e4b353\",\"type\":\"CategoricalAxis\"}],\"left\":[{\"id\":\"385673d4-2b2b-4647-a57c-c45a0ccda34e\",\"type\":\"LinearAxis\"}],\"plot_height\":350,\"renderers\":[{\"id\":\"e616b7f2-8d56-4184-88e4-23baa4e4b353\",\"type\":\"CategoricalAxis\"},{\"id\":\"68b33101-89f4-4ce7-9bd3-6147d9579b17\",\"type\":\"Grid\"},{\"id\":\"385673d4-2b2b-4647-a57c-c45a0ccda34e\",\"type\":\"LinearAxis\"},{\"id\":\"c7dadf5f-6a4b-4afb-ab19-6676a03639e2\",\"type\":\"Grid\"},{\"id\":\"9672d32a-801e-458f-9406-f46377528032\",\"type\":\"GlyphRenderer\"}],\"title\":{\"id\":\"f88e43ee-e0cb-48f5-81f1-225a9c535b9a\",\"type\":\"Title\"},\"toolbar\":{\"id\":\"93d7e743-6c27-4707-be4c-150394f562eb\",\"type\":\"Toolbar\"},\"toolbar_location\":null,\"x_range\":{\"id\":\"c346fba0-5620-44e6-941f-8b47f13b9ec7\",\"type\":\"FactorRange\"},\"x_scale\":{\"id\":\"61bf87d5-f023-4301-9c68-2337a60b8b9c\",\"type\":\"CategoricalScale\"},\"y_range\":{\"id\":\"682b61ed-6d6a-4323-9b5e-13d170001ff3\",\"type\":\"DataRange1d\"},\"y_scale\":{\"id\":\"2a9a15ad-a6da-49c5-ba7d-7f6b3770fde7\",\"type\":\"LinearScale\"}},\"id\":\"6efdf78b-972b-48b5-9669-11187f875d07\",\"subtype\":\"Figure\",\"type\":\"Plot\"},{\"attributes\":{\"callback\":null,\"factors\":[[\"0\",\"Accuracy\"],[\"0\",\"Precision\"],[\"0\",\"Recall\"],[\"1\",\"Accuracy\"],[\"1\",\"Precision\"],[\"1\",\"Recall\"],[\"2\",\"Accuracy\"],[\"2\",\"Precision\"],[\"2\",\"Recall\"],[\"3\",\"Accuracy\"],[\"3\",\"Precision\"],[\"3\",\"Recall\"],[\"4\",\"Accuracy\"],[\"4\",\"Precision\"],[\"4\",\"Recall\"],[\"5\",\"Accuracy\"],[\"5\",\"Precision\"],[\"5\",\"Recall\"],[\"6\",\"Accuracy\"],[\"6\",\"Precision\"],[\"6\",\"Recall\"],[\"7\",\"Accuracy\"],[\"7\",\"Precision\"],[\"7\",\"Recall\"],[\"8\",\"Accuracy\"],[\"8\",\"Precision\"],[\"8\",\"Recall\"],[\"9\",\"Accuracy\"],[\"9\",\"Precision\"],[\"9\",\"Recall\"]],\"range_padding\":0.1},\"id\":\"c346fba0-5620-44e6-941f-8b47f13b9ec7\",\"type\":\"FactorRange\"},{\"attributes\":{\"data_source\":{\"id\":\"fedf3487-a709-400e-9ae1-f6f4e92f512b\",\"type\":\"ColumnDataSource\"},\"glyph\":{\"id\":\"43cda0cd-4bcd-407a-ac3f-aaaaba6f3abd\",\"type\":\"VBar\"},\"hover_glyph\":null,\"muted_glyph\":null,\"nonselection_glyph\":{\"id\":\"d4279040-6ab7-463b-b2dd-fbe59d68e875\",\"type\":\"VBar\"},\"selection_glyph\":null,\"view\":{\"id\":\"5ba7022a-4b38-4079-953e-9b0b69beb2f2\",\"type\":\"CDSView\"}},\"id\":\"9672d32a-801e-458f-9406-f46377528032\",\"type\":\"GlyphRenderer\"},{\"attributes\":{\"dimension\":1,\"plot\":{\"id\":\"6efdf78b-972b-48b5-9669-11187f875d07\",\"subtype\":\"Figure\",\"type\":\"Plot\"},\"ticker\":{\"id\":\"437c6d78-0206-4c2f-9b4f-4f7a7922b6d4\",\"type\":\"BasicTicker\"}},\"id\":\"c7dadf5f-6a4b-4afb-ab19-6676a03639e2\",\"type\":\"Grid\"},{\"attributes\":{\"fill_color\":{\"field\":\"x\",\"transform\":{\"id\":\"0100ab61-dfbf-4e77-a05d-cd01f99f5b81\",\"type\":\"CategoricalColorMapper\"}},\"line_color\":{\"value\":\"white\"},\"top\":{\"field\":\"counts\"},\"width\":{\"value\":0.9},\"x\":{\"field\":\"x\"}},\"id\":\"43cda0cd-4bcd-407a-ac3f-aaaaba6f3abd\",\"type\":\"VBar\"},{\"attributes\":{\"fill_alpha\":{\"value\":0.1},\"fill_color\":{\"value\":\"#1f77b4\"},\"line_alpha\":{\"value\":0.1},\"line_color\":{\"value\":\"#1f77b4\"},\"top\":{\"field\":\"counts\"},\"width\":{\"value\":0.9},\"x\":{\"field\":\"x\"}},\"id\":\"d4279040-6ab7-463b-b2dd-fbe59d68e875\",\"type\":\"VBar\"},{\"attributes\":{\"callback\":null,\"column_names\":[\"x\",\"counts\"],\"data\":{\"counts\":[0.998,0.982,0.993,0.994,0.947,0.998,0.995,0.983,0.967,0.995,0.974,0.972,0.995,0.983,0.964,0.995,0.975,0.964,0.998,0.987,0.988,0.994,0.971,0.974,0.993,0.986,0.942,0.991,0.947,0.963],\"x\":[[\"0\",\"Accuracy\"],[\"0\",\"Precision\"],[\"0\",\"Recall\"],[\"1\",\"Accuracy\"],[\"1\",\"Precision\"],[\"1\",\"Recall\"],[\"2\",\"Accuracy\"],[\"2\",\"Precision\"],[\"2\",\"Recall\"],[\"3\",\"Accuracy\"],[\"3\",\"Precision\"],[\"3\",\"Recall\"],[\"4\",\"Accuracy\"],[\"4\",\"Precision\"],[\"4\",\"Recall\"],[\"5\",\"Accuracy\"],[\"5\",\"Precision\"],[\"5\",\"Recall\"],[\"6\",\"Accuracy\"],[\"6\",\"Precision\"],[\"6\",\"Recall\"],[\"7\",\"Accuracy\"],[\"7\",\"Precision\"],[\"7\",\"Recall\"],[\"8\",\"Accuracy\"],[\"8\",\"Precision\"],[\"8\",\"Recall\"],[\"9\",\"Accuracy\"],[\"9\",\"Precision\"],[\"9\",\"Recall\"]]},\"selected\":null,\"selection_policy\":null},\"id\":\"fedf3487-a709-400e-9ae1-f6f4e92f512b\",\"type\":\"ColumnDataSource\"},{\"attributes\":{},\"id\":\"6d0b0b7c-0f27-4715-aed7-c6b248d6319b\",\"type\":\"CategoricalTickFormatter\"},{\"attributes\":{\"plot\":null,\"text\":\"Metrics per Class\"},\"id\":\"f88e43ee-e0cb-48f5-81f1-225a9c535b9a\",\"type\":\"Title\"},{\"attributes\":{\"active_drag\":\"auto\",\"active_inspect\":\"auto\",\"active_scroll\":\"auto\",\"active_tap\":\"auto\"},\"id\":\"93d7e743-6c27-4707-be4c-150394f562eb\",\"type\":\"Toolbar\"},{\"attributes\":{},\"id\":\"915fbd12-c7de-4502-bb4d-60572aa23694\",\"type\":\"BasicTickFormatter\"},{\"attributes\":{\"callback\":null,\"start\":0.9},\"id\":\"682b61ed-6d6a-4323-9b5e-13d170001ff3\",\"type\":\"DataRange1d\"},{\"attributes\":{\"formatter\":{\"id\":\"915fbd12-c7de-4502-bb4d-60572aa23694\",\"type\":\"BasicTickFormatter\"},\"plot\":{\"id\":\"6efdf78b-972b-48b5-9669-11187f875d07\",\"subtype\":\"Figure\",\"type\":\"Plot\"},\"ticker\":{\"id\":\"437c6d78-0206-4c2f-9b4f-4f7a7922b6d4\",\"type\":\"BasicTicker\"}},\"id\":\"385673d4-2b2b-4647-a57c-c45a0ccda34e\",\"type\":\"LinearAxis\"},{\"attributes\":{\"end\":2,\"factors\":[\"Accuracy\",\"Precision\",\"Recall\"],\"palette\":[\"#c9d9d3\",\"#718dbf\",\"#e84d60\"],\"start\":1},\"id\":\"0100ab61-dfbf-4e77-a05d-cd01f99f5b81\",\"type\":\"CategoricalColorMapper\"},{\"attributes\":{},\"id\":\"2a9a15ad-a6da-49c5-ba7d-7f6b3770fde7\",\"type\":\"LinearScale\"},{\"attributes\":{},\"id\":\"61bf87d5-f023-4301-9c68-2337a60b8b9c\",\"type\":\"CategoricalScale\"},{\"attributes\":{\"grid_line_color\":{\"value\":null},\"plot\":{\"id\":\"6efdf78b-972b-48b5-9669-11187f875d07\",\"subtype\":\"Figure\",\"type\":\"Plot\"},\"ticker\":{\"id\":\"edbe011a-11ea-4de8-a5f1-be732981a320\",\"type\":\"CategoricalTicker\"}},\"id\":\"68b33101-89f4-4ce7-9bd3-6147d9579b17\",\"type\":\"Grid\"}],\"root_ids\":[\"6efdf78b-972b-48b5-9669-11187f875d07\"]},\"title\":\"Bokeh Application\",\"version\":\"0.12.15\"}};\n",
       "  var render_items = [{\"docid\":\"15b27c36-1533-4cfd-b032-f48d9067be75\",\"elementid\":\"d736ffde-f66d-480e-8599-4e9c3276fcd7\",\"modelid\":\"6efdf78b-972b-48b5-9669-11187f875d07\"}];\n",
       "  root.Bokeh.embed.embed_items_notebook(docs_json, render_items);\n",
       "\n",
       "  }\n",
       "  if (root.Bokeh !== undefined) {\n",
       "    embed_document(root);\n",
       "  } else {\n",
       "    var attempts = 0;\n",
       "    var timer = setInterval(function(root) {\n",
       "      if (root.Bokeh !== undefined) {\n",
       "        embed_document(root);\n",
       "        clearInterval(timer);\n",
       "      }\n",
       "      attempts++;\n",
       "      if (attempts > 100) {\n",
       "        console.log(\"Bokeh: ERROR: Unable to run BokehJS code because BokehJS library is missing\")\n",
       "        clearInterval(timer);\n",
       "      }\n",
       "    }, 10, root)\n",
       "  }\n",
       "})(window);"
      ],
      "application/vnd.bokehjs_exec.v0+json": ""
     },
     "metadata": {
      "application/vnd.bokehjs_exec.v0+json": {
       "id": "6efdf78b-972b-48b5-9669-11187f875d07"
      }
     },
     "output_type": "display_data"
    },
    {
     "name": "stdout",
     "output_type": "stream",
     "text": [
      "\n",
      "\n",
      "#######################################################################################\n",
      "#######################################################################################\n",
      "#######################################################################################\n",
      "\n",
      "\n",
      "For number of neighbors = 15\n",
      "\n",
      " KNN Trained Classifier Confidence:  0.97\n",
      "\n",
      " Predicted Values:  [0 1 3 ... 3 6 0]\n",
      "\n",
      " Accuracy of Classifier on Validation Image Data:  0.97\n",
      "Confusion matrix for 0 : True Positive = 604, True Negative = 5383,         False Positive = 9, False Negative = 4\n",
      "Confusion matrix for 1 : True Positive = 642, True Negative = 5316,         False Positive = 41, False Negative = 1\n",
      "Confusion matrix for 2 : True Positive = 579, True Negative = 5389,         False Positive = 10, False Negative = 22\n",
      "Confusion matrix for 3 : True Positive = 565, True Negative = 5402,         False Positive = 18, False Negative = 15\n",
      "Confusion matrix for 4 : True Positive = 580, True Negative = 5384,         False Positive = 11, False Negative = 25\n",
      "Confusion matrix for 5 : True Positive = 503, True Negative = 5466,         False Positive = 9, False Negative = 22\n",
      "Confusion matrix for 6 : True Positive = 594, True Negative = 5392,         False Positive = 10, False Negative = 4\n",
      "Confusion matrix for 7 : True Positive = 633, True Negative = 5328,         False Positive = 20, False Negative = 19\n",
      "Confusion matrix for 8 : True Positive = 548, True Negative = 5402,         False Positive = 7, False Negative = 43\n",
      "Confusion matrix for 9 : True Positive = 575, True Negative = 5361,         False Positive = 42, False Negative = 22\n"
     ]
    },
    {
     "data": {
      "text/html": [
       "\n",
       "<div class=\"bk-root\">\n",
       "    <div class=\"bk-plotdiv\" id=\"dc6496cc-d08f-433d-8ebd-044932af60ad\"></div>\n",
       "</div>"
      ]
     },
     "metadata": {},
     "output_type": "display_data"
    },
    {
     "data": {
      "application/javascript": [
       "(function(root) {\n",
       "  function embed_document(root) {\n",
       "    \n",
       "  var docs_json = {\"2d26cd1b-22ea-4622-a873-deec310ec9d1\":{\"roots\":{\"references\":[{\"attributes\":{\"fill_alpha\":{\"value\":0.1},\"fill_color\":{\"value\":\"#1f77b4\"},\"line_alpha\":{\"value\":0.1},\"line_color\":{\"value\":\"#1f77b4\"},\"top\":{\"field\":\"counts\"},\"width\":{\"value\":0.9},\"x\":{\"field\":\"x\"}},\"id\":\"3e441d5e-f4d5-4c14-a254-12dabbbf061d\",\"type\":\"VBar\"},{\"attributes\":{\"grid_line_color\":{\"value\":null},\"plot\":{\"id\":\"0a54f68d-c2d2-49f4-911b-f0f2a050eb6d\",\"subtype\":\"Figure\",\"type\":\"Plot\"},\"ticker\":{\"id\":\"1d19a064-ea95-449b-ba58-922c7d8674d6\",\"type\":\"CategoricalTicker\"}},\"id\":\"bb24195f-8696-4adf-af34-c447046583ad\",\"type\":\"Grid\"},{\"attributes\":{\"fill_color\":{\"field\":\"x\",\"transform\":{\"id\":\"b194ca95-36f7-4717-9417-b52ed8870421\",\"type\":\"CategoricalColorMapper\"}},\"line_color\":{\"value\":\"white\"},\"top\":{\"field\":\"counts\"},\"width\":{\"value\":0.9},\"x\":{\"field\":\"x\"}},\"id\":\"cbd77cf7-18ed-446b-a0b9-920daba003c8\",\"type\":\"VBar\"},{\"attributes\":{},\"id\":\"bef6ba90-937a-4451-bf54-60cc98d68cab\",\"type\":\"BasicTicker\"},{\"attributes\":{\"end\":2,\"factors\":[\"Accuracy\",\"Precision\",\"Recall\"],\"palette\":[\"#c9d9d3\",\"#718dbf\",\"#e84d60\"],\"start\":1},\"id\":\"b194ca95-36f7-4717-9417-b52ed8870421\",\"type\":\"CategoricalColorMapper\"},{\"attributes\":{\"data_source\":{\"id\":\"5badfa3f-55de-4d84-82eb-a3076a4a415d\",\"type\":\"ColumnDataSource\"},\"glyph\":{\"id\":\"cbd77cf7-18ed-446b-a0b9-920daba003c8\",\"type\":\"VBar\"},\"hover_glyph\":null,\"muted_glyph\":null,\"nonselection_glyph\":{\"id\":\"3e441d5e-f4d5-4c14-a254-12dabbbf061d\",\"type\":\"VBar\"},\"selection_glyph\":null,\"view\":{\"id\":\"7b94b651-1ec0-48d5-aabe-f35e290785b9\",\"type\":\"CDSView\"}},\"id\":\"636ed17f-7afa-4a1d-86b7-1a2b3cafa484\",\"type\":\"GlyphRenderer\"},{\"attributes\":{\"callback\":null,\"column_names\":[\"x\",\"counts\"],\"data\":{\"counts\":[0.998,0.985,0.993,0.993,0.94,0.998,0.995,0.983,0.963,0.995,0.969,0.974,0.994,0.981,0.959,0.995,0.982,0.958,0.998,0.983,0.993,0.994,0.969,0.971,0.992,0.987,0.927,0.989,0.932,0.963],\"x\":[[\"0\",\"Accuracy\"],[\"0\",\"Precision\"],[\"0\",\"Recall\"],[\"1\",\"Accuracy\"],[\"1\",\"Precision\"],[\"1\",\"Recall\"],[\"2\",\"Accuracy\"],[\"2\",\"Precision\"],[\"2\",\"Recall\"],[\"3\",\"Accuracy\"],[\"3\",\"Precision\"],[\"3\",\"Recall\"],[\"4\",\"Accuracy\"],[\"4\",\"Precision\"],[\"4\",\"Recall\"],[\"5\",\"Accuracy\"],[\"5\",\"Precision\"],[\"5\",\"Recall\"],[\"6\",\"Accuracy\"],[\"6\",\"Precision\"],[\"6\",\"Recall\"],[\"7\",\"Accuracy\"],[\"7\",\"Precision\"],[\"7\",\"Recall\"],[\"8\",\"Accuracy\"],[\"8\",\"Precision\"],[\"8\",\"Recall\"],[\"9\",\"Accuracy\"],[\"9\",\"Precision\"],[\"9\",\"Recall\"]]},\"selected\":null,\"selection_policy\":null},\"id\":\"5badfa3f-55de-4d84-82eb-a3076a4a415d\",\"type\":\"ColumnDataSource\"},{\"attributes\":{},\"id\":\"1d19a064-ea95-449b-ba58-922c7d8674d6\",\"type\":\"CategoricalTicker\"},{\"attributes\":{\"plot\":null,\"text\":\"Metrics per Class\"},\"id\":\"31192718-9394-4fb4-b299-86841c276fd6\",\"type\":\"Title\"},{\"attributes\":{},\"id\":\"a037dd42-7d43-460a-a6bd-6caeb1794ea9\",\"type\":\"BasicTickFormatter\"},{\"attributes\":{},\"id\":\"e07278f4-ef9d-4903-81e9-f83dcfdee972\",\"type\":\"LinearScale\"},{\"attributes\":{\"below\":[{\"id\":\"fc490e78-ecba-4307-80a6-232017e86f61\",\"type\":\"CategoricalAxis\"}],\"left\":[{\"id\":\"202bbb0b-4804-4c24-8b1e-459c7a2c505e\",\"type\":\"LinearAxis\"}],\"plot_height\":350,\"renderers\":[{\"id\":\"fc490e78-ecba-4307-80a6-232017e86f61\",\"type\":\"CategoricalAxis\"},{\"id\":\"bb24195f-8696-4adf-af34-c447046583ad\",\"type\":\"Grid\"},{\"id\":\"202bbb0b-4804-4c24-8b1e-459c7a2c505e\",\"type\":\"LinearAxis\"},{\"id\":\"39b50325-1e41-4bef-a77a-7b7e683a5b20\",\"type\":\"Grid\"},{\"id\":\"636ed17f-7afa-4a1d-86b7-1a2b3cafa484\",\"type\":\"GlyphRenderer\"}],\"title\":{\"id\":\"31192718-9394-4fb4-b299-86841c276fd6\",\"type\":\"Title\"},\"toolbar\":{\"id\":\"744420b8-44a2-4252-a3ac-97fc5de6546e\",\"type\":\"Toolbar\"},\"toolbar_location\":null,\"x_range\":{\"id\":\"db21c7bf-5553-4e38-baf4-0928a4b900ae\",\"type\":\"FactorRange\"},\"x_scale\":{\"id\":\"aac6b3b0-557c-4880-abed-f6e0626cc603\",\"type\":\"CategoricalScale\"},\"y_range\":{\"id\":\"2fef1b58-75cf-46dc-b9ca-47e88deac82b\",\"type\":\"DataRange1d\"},\"y_scale\":{\"id\":\"e07278f4-ef9d-4903-81e9-f83dcfdee972\",\"type\":\"LinearScale\"}},\"id\":\"0a54f68d-c2d2-49f4-911b-f0f2a050eb6d\",\"subtype\":\"Figure\",\"type\":\"Plot\"},{\"attributes\":{\"source\":{\"id\":\"5badfa3f-55de-4d84-82eb-a3076a4a415d\",\"type\":\"ColumnDataSource\"}},\"id\":\"7b94b651-1ec0-48d5-aabe-f35e290785b9\",\"type\":\"CDSView\"},{\"attributes\":{\"callback\":null,\"factors\":[[\"0\",\"Accuracy\"],[\"0\",\"Precision\"],[\"0\",\"Recall\"],[\"1\",\"Accuracy\"],[\"1\",\"Precision\"],[\"1\",\"Recall\"],[\"2\",\"Accuracy\"],[\"2\",\"Precision\"],[\"2\",\"Recall\"],[\"3\",\"Accuracy\"],[\"3\",\"Precision\"],[\"3\",\"Recall\"],[\"4\",\"Accuracy\"],[\"4\",\"Precision\"],[\"4\",\"Recall\"],[\"5\",\"Accuracy\"],[\"5\",\"Precision\"],[\"5\",\"Recall\"],[\"6\",\"Accuracy\"],[\"6\",\"Precision\"],[\"6\",\"Recall\"],[\"7\",\"Accuracy\"],[\"7\",\"Precision\"],[\"7\",\"Recall\"],[\"8\",\"Accuracy\"],[\"8\",\"Precision\"],[\"8\",\"Recall\"],[\"9\",\"Accuracy\"],[\"9\",\"Precision\"],[\"9\",\"Recall\"]],\"range_padding\":0.1},\"id\":\"db21c7bf-5553-4e38-baf4-0928a4b900ae\",\"type\":\"FactorRange\"},{\"attributes\":{\"formatter\":{\"id\":\"a037dd42-7d43-460a-a6bd-6caeb1794ea9\",\"type\":\"BasicTickFormatter\"},\"plot\":{\"id\":\"0a54f68d-c2d2-49f4-911b-f0f2a050eb6d\",\"subtype\":\"Figure\",\"type\":\"Plot\"},\"ticker\":{\"id\":\"bef6ba90-937a-4451-bf54-60cc98d68cab\",\"type\":\"BasicTicker\"}},\"id\":\"202bbb0b-4804-4c24-8b1e-459c7a2c505e\",\"type\":\"LinearAxis\"},{\"attributes\":{},\"id\":\"d08b9321-ff3f-4bf0-9721-fe01992242b3\",\"type\":\"CategoricalTickFormatter\"},{\"attributes\":{\"formatter\":{\"id\":\"d08b9321-ff3f-4bf0-9721-fe01992242b3\",\"type\":\"CategoricalTickFormatter\"},\"major_label_orientation\":1,\"plot\":{\"id\":\"0a54f68d-c2d2-49f4-911b-f0f2a050eb6d\",\"subtype\":\"Figure\",\"type\":\"Plot\"},\"ticker\":{\"id\":\"1d19a064-ea95-449b-ba58-922c7d8674d6\",\"type\":\"CategoricalTicker\"}},\"id\":\"fc490e78-ecba-4307-80a6-232017e86f61\",\"type\":\"CategoricalAxis\"},{\"attributes\":{\"dimension\":1,\"plot\":{\"id\":\"0a54f68d-c2d2-49f4-911b-f0f2a050eb6d\",\"subtype\":\"Figure\",\"type\":\"Plot\"},\"ticker\":{\"id\":\"bef6ba90-937a-4451-bf54-60cc98d68cab\",\"type\":\"BasicTicker\"}},\"id\":\"39b50325-1e41-4bef-a77a-7b7e683a5b20\",\"type\":\"Grid\"},{\"attributes\":{\"active_drag\":\"auto\",\"active_inspect\":\"auto\",\"active_scroll\":\"auto\",\"active_tap\":\"auto\"},\"id\":\"744420b8-44a2-4252-a3ac-97fc5de6546e\",\"type\":\"Toolbar\"},{\"attributes\":{\"callback\":null,\"start\":0.9},\"id\":\"2fef1b58-75cf-46dc-b9ca-47e88deac82b\",\"type\":\"DataRange1d\"},{\"attributes\":{},\"id\":\"aac6b3b0-557c-4880-abed-f6e0626cc603\",\"type\":\"CategoricalScale\"}],\"root_ids\":[\"0a54f68d-c2d2-49f4-911b-f0f2a050eb6d\"]},\"title\":\"Bokeh Application\",\"version\":\"0.12.15\"}};\n",
       "  var render_items = [{\"docid\":\"2d26cd1b-22ea-4622-a873-deec310ec9d1\",\"elementid\":\"dc6496cc-d08f-433d-8ebd-044932af60ad\",\"modelid\":\"0a54f68d-c2d2-49f4-911b-f0f2a050eb6d\"}];\n",
       "  root.Bokeh.embed.embed_items_notebook(docs_json, render_items);\n",
       "\n",
       "  }\n",
       "  if (root.Bokeh !== undefined) {\n",
       "    embed_document(root);\n",
       "  } else {\n",
       "    var attempts = 0;\n",
       "    var timer = setInterval(function(root) {\n",
       "      if (root.Bokeh !== undefined) {\n",
       "        embed_document(root);\n",
       "        clearInterval(timer);\n",
       "      }\n",
       "      attempts++;\n",
       "      if (attempts > 100) {\n",
       "        console.log(\"Bokeh: ERROR: Unable to run BokehJS code because BokehJS library is missing\")\n",
       "        clearInterval(timer);\n",
       "      }\n",
       "    }, 10, root)\n",
       "  }\n",
       "})(window);"
      ],
      "application/vnd.bokehjs_exec.v0+json": ""
     },
     "metadata": {
      "application/vnd.bokehjs_exec.v0+json": {
       "id": "0a54f68d-c2d2-49f4-911b-f0f2a050eb6d"
      }
     },
     "output_type": "display_data"
    },
    {
     "name": "stdout",
     "output_type": "stream",
     "text": [
      "\n",
      "\n",
      "#######################################################################################\n",
      "#######################################################################################\n",
      "#######################################################################################\n",
      "\n",
      "\n",
      "For number of neighbors = 20\n",
      "\n",
      " KNN Trained Classifier Confidence:  0.97\n",
      "\n",
      " Predicted Values:  [0 1 3 ... 3 6 0]\n",
      "\n",
      " Accuracy of Classifier on Validation Image Data:  0.97\n",
      "Confusion matrix for 0 : True Positive = 603, True Negative = 5379,         False Positive = 13, False Negative = 5\n",
      "Confusion matrix for 1 : True Positive = 642, True Negative = 5309,         False Positive = 48, False Negative = 1\n",
      "Confusion matrix for 2 : True Positive = 573, True Negative = 5391,         False Positive = 8, False Negative = 28\n",
      "Confusion matrix for 3 : True Positive = 560, True Negative = 5400,         False Positive = 20, False Negative = 20\n",
      "Confusion matrix for 4 : True Positive = 578, True Negative = 5384,         False Positive = 11, False Negative = 27\n",
      "Confusion matrix for 5 : True Positive = 504, True Negative = 5462,         False Positive = 13, False Negative = 21\n",
      "Confusion matrix for 6 : True Positive = 593, True Negative = 5391,         False Positive = 11, False Negative = 5\n",
      "Confusion matrix for 7 : True Positive = 631, True Negative = 5321,         False Positive = 27, False Negative = 21\n",
      "Confusion matrix for 8 : True Positive = 541, True Negative = 5402,         False Positive = 7, False Negative = 50\n",
      "Confusion matrix for 9 : True Positive = 572, True Negative = 5358,         False Positive = 45, False Negative = 25\n"
     ]
    },
    {
     "data": {
      "text/html": [
       "\n",
       "<div class=\"bk-root\">\n",
       "    <div class=\"bk-plotdiv\" id=\"87768199-a409-43e2-8649-f25e3604960d\"></div>\n",
       "</div>"
      ]
     },
     "metadata": {},
     "output_type": "display_data"
    },
    {
     "data": {
      "application/javascript": [
       "(function(root) {\n",
       "  function embed_document(root) {\n",
       "    \n",
       "  var docs_json = {\"5c74875f-d3a7-4cfc-a9c2-86dd29463fff\":{\"roots\":{\"references\":[{\"attributes\":{\"source\":{\"id\":\"6debe139-1048-4315-a9c7-10d2b59e1f30\",\"type\":\"ColumnDataSource\"}},\"id\":\"f786b3c9-7c77-4d46-8409-6879570dfcf0\",\"type\":\"CDSView\"},{\"attributes\":{\"fill_alpha\":{\"value\":0.1},\"fill_color\":{\"value\":\"#1f77b4\"},\"line_alpha\":{\"value\":0.1},\"line_color\":{\"value\":\"#1f77b4\"},\"top\":{\"field\":\"counts\"},\"width\":{\"value\":0.9},\"x\":{\"field\":\"x\"}},\"id\":\"88c2c684-35fe-4e02-9af2-653c755525a6\",\"type\":\"VBar\"},{\"attributes\":{\"formatter\":{\"id\":\"6d55df09-692b-4b58-b6a1-dc94fd8fbe52\",\"type\":\"CategoricalTickFormatter\"},\"major_label_orientation\":1,\"plot\":{\"id\":\"d2972ee4-7f22-4ec5-8337-fc237fb5ebf3\",\"subtype\":\"Figure\",\"type\":\"Plot\"},\"ticker\":{\"id\":\"81ffde3c-712d-4550-8186-5402fb1dde61\",\"type\":\"CategoricalTicker\"}},\"id\":\"4fe36c1b-ad6d-47f2-b779-bcf736ae2175\",\"type\":\"CategoricalAxis\"},{\"attributes\":{\"end\":2,\"factors\":[\"Accuracy\",\"Precision\",\"Recall\"],\"palette\":[\"#c9d9d3\",\"#718dbf\",\"#e84d60\"],\"start\":1},\"id\":\"8f3562b8-77a7-4550-90cf-9546f09addb0\",\"type\":\"CategoricalColorMapper\"},{\"attributes\":{\"active_drag\":\"auto\",\"active_inspect\":\"auto\",\"active_scroll\":\"auto\",\"active_tap\":\"auto\"},\"id\":\"164519a2-9cb1-4292-b05f-8f4510c79c4f\",\"type\":\"Toolbar\"},{\"attributes\":{\"grid_line_color\":{\"value\":null},\"plot\":{\"id\":\"d2972ee4-7f22-4ec5-8337-fc237fb5ebf3\",\"subtype\":\"Figure\",\"type\":\"Plot\"},\"ticker\":{\"id\":\"81ffde3c-712d-4550-8186-5402fb1dde61\",\"type\":\"CategoricalTicker\"}},\"id\":\"6307e830-990c-4147-b505-b2cf5e82bd5b\",\"type\":\"Grid\"},{\"attributes\":{\"callback\":null,\"start\":0.9},\"id\":\"fb5decc1-3f70-4aa6-9482-977210a42971\",\"type\":\"DataRange1d\"},{\"attributes\":{},\"id\":\"6d55df09-692b-4b58-b6a1-dc94fd8fbe52\",\"type\":\"CategoricalTickFormatter\"},{\"attributes\":{},\"id\":\"45987ee3-be56-4ace-9154-ae040e671a4e\",\"type\":\"CategoricalScale\"},{\"attributes\":{\"plot\":null,\"text\":\"Metrics per Class\"},\"id\":\"6799200d-877f-44ab-887e-6218bdc38436\",\"type\":\"Title\"},{\"attributes\":{\"dimension\":1,\"plot\":{\"id\":\"d2972ee4-7f22-4ec5-8337-fc237fb5ebf3\",\"subtype\":\"Figure\",\"type\":\"Plot\"},\"ticker\":{\"id\":\"a23472c1-67b5-4c9d-a98f-f24642a399f1\",\"type\":\"BasicTicker\"}},\"id\":\"221a6d81-411e-4add-b406-9d66ee5451e3\",\"type\":\"Grid\"},{\"attributes\":{\"below\":[{\"id\":\"4fe36c1b-ad6d-47f2-b779-bcf736ae2175\",\"type\":\"CategoricalAxis\"}],\"left\":[{\"id\":\"1e18f0d1-0fe0-4a7c-94ea-a0d7c0742142\",\"type\":\"LinearAxis\"}],\"plot_height\":350,\"renderers\":[{\"id\":\"4fe36c1b-ad6d-47f2-b779-bcf736ae2175\",\"type\":\"CategoricalAxis\"},{\"id\":\"6307e830-990c-4147-b505-b2cf5e82bd5b\",\"type\":\"Grid\"},{\"id\":\"1e18f0d1-0fe0-4a7c-94ea-a0d7c0742142\",\"type\":\"LinearAxis\"},{\"id\":\"221a6d81-411e-4add-b406-9d66ee5451e3\",\"type\":\"Grid\"},{\"id\":\"5d168a8f-4b3e-4709-8914-e125f30324b4\",\"type\":\"GlyphRenderer\"}],\"title\":{\"id\":\"6799200d-877f-44ab-887e-6218bdc38436\",\"type\":\"Title\"},\"toolbar\":{\"id\":\"164519a2-9cb1-4292-b05f-8f4510c79c4f\",\"type\":\"Toolbar\"},\"toolbar_location\":null,\"x_range\":{\"id\":\"f1046762-074d-45dd-8a1d-8c191b76430d\",\"type\":\"FactorRange\"},\"x_scale\":{\"id\":\"45987ee3-be56-4ace-9154-ae040e671a4e\",\"type\":\"CategoricalScale\"},\"y_range\":{\"id\":\"fb5decc1-3f70-4aa6-9482-977210a42971\",\"type\":\"DataRange1d\"},\"y_scale\":{\"id\":\"1a5f83ca-8c4c-44f5-b342-5079bc887bcc\",\"type\":\"LinearScale\"}},\"id\":\"d2972ee4-7f22-4ec5-8337-fc237fb5ebf3\",\"subtype\":\"Figure\",\"type\":\"Plot\"},{\"attributes\":{},\"id\":\"81ffde3c-712d-4550-8186-5402fb1dde61\",\"type\":\"CategoricalTicker\"},{\"attributes\":{},\"id\":\"1a5f83ca-8c4c-44f5-b342-5079bc887bcc\",\"type\":\"LinearScale\"},{\"attributes\":{\"callback\":null,\"factors\":[[\"0\",\"Accuracy\"],[\"0\",\"Precision\"],[\"0\",\"Recall\"],[\"1\",\"Accuracy\"],[\"1\",\"Precision\"],[\"1\",\"Recall\"],[\"2\",\"Accuracy\"],[\"2\",\"Precision\"],[\"2\",\"Recall\"],[\"3\",\"Accuracy\"],[\"3\",\"Precision\"],[\"3\",\"Recall\"],[\"4\",\"Accuracy\"],[\"4\",\"Precision\"],[\"4\",\"Recall\"],[\"5\",\"Accuracy\"],[\"5\",\"Precision\"],[\"5\",\"Recall\"],[\"6\",\"Accuracy\"],[\"6\",\"Precision\"],[\"6\",\"Recall\"],[\"7\",\"Accuracy\"],[\"7\",\"Precision\"],[\"7\",\"Recall\"],[\"8\",\"Accuracy\"],[\"8\",\"Precision\"],[\"8\",\"Recall\"],[\"9\",\"Accuracy\"],[\"9\",\"Precision\"],[\"9\",\"Recall\"]],\"range_padding\":0.1},\"id\":\"f1046762-074d-45dd-8a1d-8c191b76430d\",\"type\":\"FactorRange\"},{\"attributes\":{\"data_source\":{\"id\":\"6debe139-1048-4315-a9c7-10d2b59e1f30\",\"type\":\"ColumnDataSource\"},\"glyph\":{\"id\":\"6867585c-8e78-4a4e-aae4-8b43069de90e\",\"type\":\"VBar\"},\"hover_glyph\":null,\"muted_glyph\":null,\"nonselection_glyph\":{\"id\":\"88c2c684-35fe-4e02-9af2-653c755525a6\",\"type\":\"VBar\"},\"selection_glyph\":null,\"view\":{\"id\":\"f786b3c9-7c77-4d46-8409-6879570dfcf0\",\"type\":\"CDSView\"}},\"id\":\"5d168a8f-4b3e-4709-8914-e125f30324b4\",\"type\":\"GlyphRenderer\"},{\"attributes\":{\"fill_color\":{\"field\":\"x\",\"transform\":{\"id\":\"8f3562b8-77a7-4550-90cf-9546f09addb0\",\"type\":\"CategoricalColorMapper\"}},\"line_color\":{\"value\":\"white\"},\"top\":{\"field\":\"counts\"},\"width\":{\"value\":0.9},\"x\":{\"field\":\"x\"}},\"id\":\"6867585c-8e78-4a4e-aae4-8b43069de90e\",\"type\":\"VBar\"},{\"attributes\":{},\"id\":\"992a7289-6789-4845-ac1d-561cc207b7e3\",\"type\":\"BasicTickFormatter\"},{\"attributes\":{\"formatter\":{\"id\":\"992a7289-6789-4845-ac1d-561cc207b7e3\",\"type\":\"BasicTickFormatter\"},\"plot\":{\"id\":\"d2972ee4-7f22-4ec5-8337-fc237fb5ebf3\",\"subtype\":\"Figure\",\"type\":\"Plot\"},\"ticker\":{\"id\":\"a23472c1-67b5-4c9d-a98f-f24642a399f1\",\"type\":\"BasicTicker\"}},\"id\":\"1e18f0d1-0fe0-4a7c-94ea-a0d7c0742142\",\"type\":\"LinearAxis\"},{\"attributes\":{\"callback\":null,\"column_names\":[\"x\",\"counts\"],\"data\":{\"counts\":[0.997,0.979,0.992,0.992,0.93,0.998,0.994,0.986,0.953,0.993,0.966,0.966,0.994,0.981,0.955,0.994,0.975,0.96,0.997,0.982,0.992,0.992,0.959,0.968,0.991,0.987,0.915,0.988,0.927,0.958],\"x\":[[\"0\",\"Accuracy\"],[\"0\",\"Precision\"],[\"0\",\"Recall\"],[\"1\",\"Accuracy\"],[\"1\",\"Precision\"],[\"1\",\"Recall\"],[\"2\",\"Accuracy\"],[\"2\",\"Precision\"],[\"2\",\"Recall\"],[\"3\",\"Accuracy\"],[\"3\",\"Precision\"],[\"3\",\"Recall\"],[\"4\",\"Accuracy\"],[\"4\",\"Precision\"],[\"4\",\"Recall\"],[\"5\",\"Accuracy\"],[\"5\",\"Precision\"],[\"5\",\"Recall\"],[\"6\",\"Accuracy\"],[\"6\",\"Precision\"],[\"6\",\"Recall\"],[\"7\",\"Accuracy\"],[\"7\",\"Precision\"],[\"7\",\"Recall\"],[\"8\",\"Accuracy\"],[\"8\",\"Precision\"],[\"8\",\"Recall\"],[\"9\",\"Accuracy\"],[\"9\",\"Precision\"],[\"9\",\"Recall\"]]},\"selected\":null,\"selection_policy\":null},\"id\":\"6debe139-1048-4315-a9c7-10d2b59e1f30\",\"type\":\"ColumnDataSource\"},{\"attributes\":{},\"id\":\"a23472c1-67b5-4c9d-a98f-f24642a399f1\",\"type\":\"BasicTicker\"}],\"root_ids\":[\"d2972ee4-7f22-4ec5-8337-fc237fb5ebf3\"]},\"title\":\"Bokeh Application\",\"version\":\"0.12.15\"}};\n",
       "  var render_items = [{\"docid\":\"5c74875f-d3a7-4cfc-a9c2-86dd29463fff\",\"elementid\":\"87768199-a409-43e2-8649-f25e3604960d\",\"modelid\":\"d2972ee4-7f22-4ec5-8337-fc237fb5ebf3\"}];\n",
       "  root.Bokeh.embed.embed_items_notebook(docs_json, render_items);\n",
       "\n",
       "  }\n",
       "  if (root.Bokeh !== undefined) {\n",
       "    embed_document(root);\n",
       "  } else {\n",
       "    var attempts = 0;\n",
       "    var timer = setInterval(function(root) {\n",
       "      if (root.Bokeh !== undefined) {\n",
       "        embed_document(root);\n",
       "        clearInterval(timer);\n",
       "      }\n",
       "      attempts++;\n",
       "      if (attempts > 100) {\n",
       "        console.log(\"Bokeh: ERROR: Unable to run BokehJS code because BokehJS library is missing\")\n",
       "        clearInterval(timer);\n",
       "      }\n",
       "    }, 10, root)\n",
       "  }\n",
       "})(window);"
      ],
      "application/vnd.bokehjs_exec.v0+json": ""
     },
     "metadata": {
      "application/vnd.bokehjs_exec.v0+json": {
       "id": "d2972ee4-7f22-4ec5-8337-fc237fb5ebf3"
      }
     },
     "output_type": "display_data"
    }
   ],
   "source": [
    "from bokeh.io import show, output_notebook\n",
    "from bokeh.models import ColumnDataSource, FactorRange\n",
    "from bokeh.plotting import figure\n",
    "from bokeh.transform import factor_cmap\n",
    "\n",
    "#Get the Metrics per class here\n",
    "for n in range(4):\n",
    "    print(\"\\n\")\n",
    "    print(\"#######################################################################################\")\n",
    "    print(\"#######################################################################################\")\n",
    "    print(\"#######################################################################################\")\n",
    "    print(\"\\n\")\n",
    "    print(\"For number of neighbors = {}\".format(n_neighbors[n]))\n",
    "    print('\\n KNN Trained Classifier Confidence: ',confidence[n])\n",
    "    print('\\n Predicted Values: ',y_pred[n])\n",
    "    print('\\n Accuracy of Classifier on Validation Image Data: ',accuracy[n])\n",
    "    acc_dict, prec_dict, rec_dict = compute_metrics(y_test, y_pred[n])\n",
    "    \n",
    "    classes=['0', '1', '2', '3', '4', '5', '6', '7', '8', '9']\n",
    "    properties = ['Accuracy', 'Precision', 'Recall']\n",
    "    \n",
    "    data = {'classes': classes,\n",
    "            'Accuracy': acc_dict,\n",
    "            'Precision': prec_dict,\n",
    "            'Recall': rec_dict\n",
    "           }\n",
    "    palette = [\"#c9d9d3\", \"#718dbf\", \"#e84d60\"]\n",
    "    x = [ (c, p) for c in classes for p in properties ]\n",
    "    counts = sum(zip(data['Accuracy'], data['Precision'], data['Recall']), ()) # like an hstack\n",
    "\n",
    "    source = ColumnDataSource(data=dict(x=x, counts=counts))\n",
    "\n",
    "    p = figure(x_range=FactorRange(*x), plot_height=350, title=\"Metrics per Class\",\n",
    "               toolbar_location=None, tools=\"\")\n",
    "\n",
    "    p.vbar(x='x', top='counts', width=0.9, source=source,line_color=\"white\",\n",
    "       fill_color=factor_cmap('x', palette=palette, factors=properties, start=1, end=2))\n",
    "\n",
    "    p.y_range.start = 0.9\n",
    "    p.x_range.range_padding = 0.1\n",
    "    p.xaxis.major_label_orientation = 1\n",
    "    p.xgrid.grid_line_color = None\n",
    "\n",
    "    show(p)\n",
    "#######################PLACEHOLDER 2 ENDS ##################### "
   ]
  },
  {
   "cell_type": "code",
   "execution_count": 39,
   "metadata": {},
   "outputs": [
    {
     "name": "stdout",
     "output_type": "stream",
     "text": [
      "[0.98, 0.97, 0.97, 0.97]\n"
     ]
    }
   ],
   "source": [
    "# Now we need to choose which pickle file is best to use, Plot all of them\n",
    "print(accuracy)"
   ]
  },
  {
   "cell_type": "markdown",
   "metadata": {},
   "source": [
    "### It seems that n=5 is giving an accuracy of 0.98 which is good enough"
   ]
  },
  {
   "cell_type": "code",
   "execution_count": 40,
   "metadata": {},
   "outputs": [],
   "source": [
    "filename='MNIST_KNN_5.pickle'\n",
    "pickle_in = open(filename,'rb')\n",
    "clf = pickle.load(pickle_in)"
   ]
  },
  {
   "cell_type": "code",
   "execution_count": 41,
   "metadata": {},
   "outputs": [
    {
     "name": "stdout",
     "output_type": "stream",
     "text": [
      "\n",
      "Making Predictions on Test Input Images...\n"
     ]
    }
   ],
   "source": [
    "print('\\nMaking Predictions on Test Input Images...')\n",
    "test_labels_pred=clf.predict(test_img)"
   ]
  },
  {
   "cell_type": "code",
   "execution_count": 42,
   "metadata": {},
   "outputs": [
    {
     "name": "stdout",
     "output_type": "stream",
     "text": [
      "\n",
      "Calculating Accuracy of Trained Classifier on Test Data... \n"
     ]
    }
   ],
   "source": [
    "print('\\nCalculating Accuracy of Trained Classifier on Test Data... ')\n",
    "acc=accuracy_score(test_labels, test_labels_pred)"
   ]
  },
  {
   "cell_type": "code",
   "execution_count": 44,
   "metadata": {},
   "outputs": [],
   "source": [
    "# Confusion Matrix per Class (10)\n",
    "from collections import defaultdict\n",
    "def compute_metrics_test(test, pred):\n",
    "    # Create the dictionary for each class\n",
    "    conf_matrix={val:{'TP':0, 'TN':0, 'FP':0, 'FN':0} for val in range(10)}\n",
    "    \n",
    "    for t,p in zip(test, pred):\n",
    "        for val in range(10):\n",
    "            # For each class we can calculate this\n",
    "            if t==val and p==val: conf_matrix[val]['TP'] +=1\n",
    "            if t!=val and p!=val: conf_matrix[val]['TN'] +=1\n",
    "            if t!=val and p==val: conf_matrix[val]['FP'] +=1\n",
    "            if t==val and p!=val: conf_matrix[val]['FN'] +=1\n",
    "    \n",
    "    #to Plot\n",
    "    acc_dict=[]\n",
    "    prec_dict=[]\n",
    "    rec_dict=[]\n",
    "    for k, v in conf_matrix.items():\n",
    "        print(\"Confusion matrix for {}\".format(k), \":\", \"True Positive = {}, True Negative = {}, \\\n",
    "        False Positive = {}, False Negative = {}\".format(v['TP'], v['TN'], v['FP'], v['FN']))\n",
    "        conf_mat=np.array([[v['TP'], v['FP']],\n",
    "                           [v['FN'], v['TN']]])\n",
    "        #plt.matshow(conf_mat)\n",
    "        #plt.title('Confusion Matrix for Validation Data')\n",
    "        #plt.colorbar()\n",
    "        #plt.ylabel('True label')\n",
    "        #plt.xlabel('Predicted label')\n",
    "        #plt.show()\n",
    "        #print(\"Accuracy for {} = {}\".format(k, (v['TP']+v['TN'])/(1.0*(v['TP']+v['TN']+v['FP']+v['FN']))))\n",
    "        #print(\"Precision for {} = {}\".format(k, (v['TP'])/(1.0*(v['TP']+v['FP']))))\n",
    "        #print(\"Recall for {} = {}\".format(k, (v['TP'])/(1.0*(v['TP']+v['FN']))))\n",
    "        \n",
    "        #Store to get the final plot\n",
    "        acc_dict.append(round((v['TP']+v['TN'])/(1.0*(v['TP']+v['TN']+v['FP']+v['FN'])) ,3))\n",
    "        prec_dict.append(round((v['TP'])/(1.0*(v['TP']+v['FP']))  ,3))\n",
    "        rec_dict.append(round((v['TP'])/(1.0*(v['TP']+v['FN']))  ,3))\n",
    "        \n",
    "    return acc_dict, prec_dict, rec_dict"
   ]
  },
  {
   "cell_type": "code",
   "execution_count": 45,
   "metadata": {
    "scrolled": false
   },
   "outputs": [
    {
     "name": "stdout",
     "output_type": "stream",
     "text": [
      "#######################################################################################\n",
      "#######################################################################################\n",
      "#######################################################################################\n",
      "Confusion matrix for 0 : True Positive = 974, True Negative = 8982,         False Positive = 38, False Negative = 6\n",
      "Confusion matrix for 1 : True Positive = 1132, True Negative = 8812,         False Positive = 53, False Negative = 3\n",
      "Confusion matrix for 2 : True Positive = 988, True Negative = 8950,         False Positive = 18, False Negative = 44\n",
      "Confusion matrix for 3 : True Positive = 976, True Negative = 8952,         False Positive = 38, False Negative = 34\n",
      "Confusion matrix for 4 : True Positive = 944, True Negative = 8992,         False Positive = 26, False Negative = 38\n",
      "Confusion matrix for 5 : True Positive = 862, True Negative = 9079,         False Positive = 29, False Negative = 30\n",
      "Confusion matrix for 6 : True Positive = 944, True Negative = 9023,         False Positive = 19, False Negative = 14\n",
      "Confusion matrix for 7 : True Positive = 988, True Negative = 8930,         False Positive = 42, False Negative = 40\n",
      "Confusion matrix for 8 : True Positive = 910, True Negative = 9013,         False Positive = 13, False Negative = 64\n",
      "Confusion matrix for 9 : True Positive = 961, True Negative = 8946,         False Positive = 45, False Negative = 48\n"
     ]
    },
    {
     "data": {
      "text/html": [
       "\n",
       "<div class=\"bk-root\">\n",
       "    <div class=\"bk-plotdiv\" id=\"68d696cc-330b-4e86-bc87-11a5cb798a80\"></div>\n",
       "</div>"
      ]
     },
     "metadata": {},
     "output_type": "display_data"
    },
    {
     "data": {
      "application/javascript": [
       "(function(root) {\n",
       "  function embed_document(root) {\n",
       "    \n",
       "  var docs_json = {\"28ae0697-d718-4d19-a7a0-759d60f04780\":{\"roots\":{\"references\":[{\"attributes\":{\"formatter\":{\"id\":\"2e012d33-2725-4c12-a411-81e428a3f37c\",\"type\":\"CategoricalTickFormatter\"},\"major_label_orientation\":1,\"plot\":{\"id\":\"59e4640b-7a01-4532-b141-e95fb5591fa6\",\"subtype\":\"Figure\",\"type\":\"Plot\"},\"ticker\":{\"id\":\"3729938a-cc61-4914-b67d-8cd86bdba018\",\"type\":\"CategoricalTicker\"}},\"id\":\"ab5156b6-aee8-4511-b87c-2fd3219af7a3\",\"type\":\"CategoricalAxis\"},{\"attributes\":{\"grid_line_color\":{\"value\":null},\"plot\":{\"id\":\"59e4640b-7a01-4532-b141-e95fb5591fa6\",\"subtype\":\"Figure\",\"type\":\"Plot\"},\"ticker\":{\"id\":\"3729938a-cc61-4914-b67d-8cd86bdba018\",\"type\":\"CategoricalTicker\"}},\"id\":\"e6925f18-1d77-487d-9586-6b16591a3e14\",\"type\":\"Grid\"},{\"attributes\":{},\"id\":\"5ae26ee8-9c3b-4a9f-8777-453b6ec1301e\",\"type\":\"BasicTickFormatter\"},{\"attributes\":{},\"id\":\"cec1ba25-3d5a-48d6-8328-1dbce347ac7e\",\"type\":\"CategoricalScale\"},{\"attributes\":{\"formatter\":{\"id\":\"5ae26ee8-9c3b-4a9f-8777-453b6ec1301e\",\"type\":\"BasicTickFormatter\"},\"plot\":{\"id\":\"59e4640b-7a01-4532-b141-e95fb5591fa6\",\"subtype\":\"Figure\",\"type\":\"Plot\"},\"ticker\":{\"id\":\"01c83bc5-1668-42fe-ba44-347021c1ff24\",\"type\":\"BasicTicker\"}},\"id\":\"36153e9f-bb3e-4170-b3df-e25965abf356\",\"type\":\"LinearAxis\"},{\"attributes\":{},\"id\":\"2e012d33-2725-4c12-a411-81e428a3f37c\",\"type\":\"CategoricalTickFormatter\"},{\"attributes\":{\"fill_alpha\":{\"value\":0.1},\"fill_color\":{\"value\":\"#1f77b4\"},\"line_alpha\":{\"value\":0.1},\"line_color\":{\"value\":\"#1f77b4\"},\"top\":{\"field\":\"counts\"},\"width\":{\"value\":0.9},\"x\":{\"field\":\"x\"}},\"id\":\"75b99296-29b5-452d-91e2-1cb0e111197d\",\"type\":\"VBar\"},{\"attributes\":{\"below\":[{\"id\":\"ab5156b6-aee8-4511-b87c-2fd3219af7a3\",\"type\":\"CategoricalAxis\"}],\"left\":[{\"id\":\"36153e9f-bb3e-4170-b3df-e25965abf356\",\"type\":\"LinearAxis\"}],\"plot_height\":350,\"renderers\":[{\"id\":\"ab5156b6-aee8-4511-b87c-2fd3219af7a3\",\"type\":\"CategoricalAxis\"},{\"id\":\"e6925f18-1d77-487d-9586-6b16591a3e14\",\"type\":\"Grid\"},{\"id\":\"36153e9f-bb3e-4170-b3df-e25965abf356\",\"type\":\"LinearAxis\"},{\"id\":\"475e1bd4-b1cf-48a4-8056-b6f8ff0ef97e\",\"type\":\"Grid\"},{\"id\":\"c8499f85-137a-4c46-b380-ee2a663fbc2a\",\"type\":\"GlyphRenderer\"}],\"title\":{\"id\":\"b7c5bbe2-9af9-4a2f-8ac0-0a7e4170dbd9\",\"type\":\"Title\"},\"toolbar\":{\"id\":\"23d3fdd5-dab7-4ac3-a86c-9c75f3923931\",\"type\":\"Toolbar\"},\"toolbar_location\":null,\"x_range\":{\"id\":\"fe20038d-e0dd-4f00-b054-7393bb73c960\",\"type\":\"FactorRange\"},\"x_scale\":{\"id\":\"cec1ba25-3d5a-48d6-8328-1dbce347ac7e\",\"type\":\"CategoricalScale\"},\"y_range\":{\"id\":\"14824b86-a2bf-4f45-9965-610fc97a558e\",\"type\":\"DataRange1d\"},\"y_scale\":{\"id\":\"ffb72fe8-6a82-40e4-bebe-7cd480dccb7b\",\"type\":\"LinearScale\"}},\"id\":\"59e4640b-7a01-4532-b141-e95fb5591fa6\",\"subtype\":\"Figure\",\"type\":\"Plot\"},{\"attributes\":{\"callback\":null,\"column_names\":[\"x\",\"counts\"],\"data\":{\"counts\":[0.996,0.962,0.994,0.994,0.955,0.997,0.994,0.982,0.957,0.993,0.963,0.966,0.994,0.973,0.961,0.994,0.967,0.966,0.997,0.98,0.985,0.992,0.959,0.961,0.992,0.986,0.934,0.991,0.955,0.952],\"x\":[[\"0\",\"Accuracy\"],[\"0\",\"Precision\"],[\"0\",\"Recall\"],[\"1\",\"Accuracy\"],[\"1\",\"Precision\"],[\"1\",\"Recall\"],[\"2\",\"Accuracy\"],[\"2\",\"Precision\"],[\"2\",\"Recall\"],[\"3\",\"Accuracy\"],[\"3\",\"Precision\"],[\"3\",\"Recall\"],[\"4\",\"Accuracy\"],[\"4\",\"Precision\"],[\"4\",\"Recall\"],[\"5\",\"Accuracy\"],[\"5\",\"Precision\"],[\"5\",\"Recall\"],[\"6\",\"Accuracy\"],[\"6\",\"Precision\"],[\"6\",\"Recall\"],[\"7\",\"Accuracy\"],[\"7\",\"Precision\"],[\"7\",\"Recall\"],[\"8\",\"Accuracy\"],[\"8\",\"Precision\"],[\"8\",\"Recall\"],[\"9\",\"Accuracy\"],[\"9\",\"Precision\"],[\"9\",\"Recall\"]]},\"selected\":null,\"selection_policy\":null},\"id\":\"463c6615-062d-446a-b38a-9ac0636ea48d\",\"type\":\"ColumnDataSource\"},{\"attributes\":{},\"id\":\"ffb72fe8-6a82-40e4-bebe-7cd480dccb7b\",\"type\":\"LinearScale\"},{\"attributes\":{\"plot\":null,\"text\":\"Metrics per Class\"},\"id\":\"b7c5bbe2-9af9-4a2f-8ac0-0a7e4170dbd9\",\"type\":\"Title\"},{\"attributes\":{\"callback\":null,\"start\":0.9},\"id\":\"14824b86-a2bf-4f45-9965-610fc97a558e\",\"type\":\"DataRange1d\"},{\"attributes\":{\"callback\":null,\"factors\":[[\"0\",\"Accuracy\"],[\"0\",\"Precision\"],[\"0\",\"Recall\"],[\"1\",\"Accuracy\"],[\"1\",\"Precision\"],[\"1\",\"Recall\"],[\"2\",\"Accuracy\"],[\"2\",\"Precision\"],[\"2\",\"Recall\"],[\"3\",\"Accuracy\"],[\"3\",\"Precision\"],[\"3\",\"Recall\"],[\"4\",\"Accuracy\"],[\"4\",\"Precision\"],[\"4\",\"Recall\"],[\"5\",\"Accuracy\"],[\"5\",\"Precision\"],[\"5\",\"Recall\"],[\"6\",\"Accuracy\"],[\"6\",\"Precision\"],[\"6\",\"Recall\"],[\"7\",\"Accuracy\"],[\"7\",\"Precision\"],[\"7\",\"Recall\"],[\"8\",\"Accuracy\"],[\"8\",\"Precision\"],[\"8\",\"Recall\"],[\"9\",\"Accuracy\"],[\"9\",\"Precision\"],[\"9\",\"Recall\"]],\"range_padding\":0.1},\"id\":\"fe20038d-e0dd-4f00-b054-7393bb73c960\",\"type\":\"FactorRange\"},{\"attributes\":{},\"id\":\"01c83bc5-1668-42fe-ba44-347021c1ff24\",\"type\":\"BasicTicker\"},{\"attributes\":{\"fill_color\":{\"field\":\"x\",\"transform\":{\"id\":\"374c31c7-0fab-4b0b-9956-2a604c831c9b\",\"type\":\"CategoricalColorMapper\"}},\"line_color\":{\"value\":\"white\"},\"top\":{\"field\":\"counts\"},\"width\":{\"value\":0.9},\"x\":{\"field\":\"x\"}},\"id\":\"bf270045-5301-4c4d-bf99-31df43df44e8\",\"type\":\"VBar\"},{\"attributes\":{\"dimension\":1,\"plot\":{\"id\":\"59e4640b-7a01-4532-b141-e95fb5591fa6\",\"subtype\":\"Figure\",\"type\":\"Plot\"},\"ticker\":{\"id\":\"01c83bc5-1668-42fe-ba44-347021c1ff24\",\"type\":\"BasicTicker\"}},\"id\":\"475e1bd4-b1cf-48a4-8056-b6f8ff0ef97e\",\"type\":\"Grid\"},{\"attributes\":{\"data_source\":{\"id\":\"463c6615-062d-446a-b38a-9ac0636ea48d\",\"type\":\"ColumnDataSource\"},\"glyph\":{\"id\":\"bf270045-5301-4c4d-bf99-31df43df44e8\",\"type\":\"VBar\"},\"hover_glyph\":null,\"muted_glyph\":null,\"nonselection_glyph\":{\"id\":\"75b99296-29b5-452d-91e2-1cb0e111197d\",\"type\":\"VBar\"},\"selection_glyph\":null,\"view\":{\"id\":\"9af608a1-c1e4-4ad3-9070-ec722e97e3e3\",\"type\":\"CDSView\"}},\"id\":\"c8499f85-137a-4c46-b380-ee2a663fbc2a\",\"type\":\"GlyphRenderer\"},{\"attributes\":{\"source\":{\"id\":\"463c6615-062d-446a-b38a-9ac0636ea48d\",\"type\":\"ColumnDataSource\"}},\"id\":\"9af608a1-c1e4-4ad3-9070-ec722e97e3e3\",\"type\":\"CDSView\"},{\"attributes\":{\"active_drag\":\"auto\",\"active_inspect\":\"auto\",\"active_scroll\":\"auto\",\"active_tap\":\"auto\"},\"id\":\"23d3fdd5-dab7-4ac3-a86c-9c75f3923931\",\"type\":\"Toolbar\"},{\"attributes\":{},\"id\":\"3729938a-cc61-4914-b67d-8cd86bdba018\",\"type\":\"CategoricalTicker\"},{\"attributes\":{\"end\":2,\"factors\":[\"Accuracy\",\"Precision\",\"Recall\"],\"palette\":[\"#c9d9d3\",\"#718dbf\",\"#e84d60\"],\"start\":1},\"id\":\"374c31c7-0fab-4b0b-9956-2a604c831c9b\",\"type\":\"CategoricalColorMapper\"}],\"root_ids\":[\"59e4640b-7a01-4532-b141-e95fb5591fa6\"]},\"title\":\"Bokeh Application\",\"version\":\"0.12.15\"}};\n",
       "  var render_items = [{\"docid\":\"28ae0697-d718-4d19-a7a0-759d60f04780\",\"elementid\":\"68d696cc-330b-4e86-bc87-11a5cb798a80\",\"modelid\":\"59e4640b-7a01-4532-b141-e95fb5591fa6\"}];\n",
       "  root.Bokeh.embed.embed_items_notebook(docs_json, render_items);\n",
       "\n",
       "  }\n",
       "  if (root.Bokeh !== undefined) {\n",
       "    embed_document(root);\n",
       "  } else {\n",
       "    var attempts = 0;\n",
       "    var timer = setInterval(function(root) {\n",
       "      if (root.Bokeh !== undefined) {\n",
       "        embed_document(root);\n",
       "        clearInterval(timer);\n",
       "      }\n",
       "      attempts++;\n",
       "      if (attempts > 100) {\n",
       "        console.log(\"Bokeh: ERROR: Unable to run BokehJS code because BokehJS library is missing\")\n",
       "        clearInterval(timer);\n",
       "      }\n",
       "    }, 10, root)\n",
       "  }\n",
       "})(window);"
      ],
      "application/vnd.bokehjs_exec.v0+json": ""
     },
     "metadata": {
      "application/vnd.bokehjs_exec.v0+json": {
       "id": "59e4640b-7a01-4532-b141-e95fb5591fa6"
      }
     },
     "output_type": "display_data"
    }
   ],
   "source": [
    "#######################PLACEHOLDER 3 START #####################\n",
    "# call the same function as in PLACEHOLDER 2 to generate aconfusion matrix for testing data\n",
    "#Get the Metrics per class here\n",
    "print(\"#######################################################################################\")\n",
    "print(\"#######################################################################################\")\n",
    "print(\"#######################################################################################\")\n",
    "\n",
    "\n",
    "acc_dict, prec_dict, rec_dict = compute_metrics_test(test_labels, test_labels_pred)\n",
    "classes=['0', '1', '2', '3', '4', '5', '6', '7', '8', '9']\n",
    "properties = ['Accuracy', 'Precision', 'Recall']\n",
    "\n",
    "data = {'classes': classes,\n",
    "        'Accuracy': acc_dict,\n",
    "        'Precision': prec_dict,\n",
    "        'Recall': rec_dict\n",
    "       }\n",
    "palette = [\"#c9d9d3\", \"#718dbf\", \"#e84d60\"]\n",
    "x = [ (c, p) for c in classes for p in properties ]\n",
    "counts = sum(zip(data['Accuracy'], data['Precision'], data['Recall']), ()) # like an hstack\n",
    "\n",
    "source = ColumnDataSource(data=dict(x=x, counts=counts))\n",
    "\n",
    "p = figure(x_range=FactorRange(*x), plot_height=350, title=\"Metrics per Class\",\n",
    "           toolbar_location=None, tools=\"\")\n",
    "\n",
    "p.vbar(x='x', top='counts', width=0.9, source=source,line_color=\"white\",\n",
    "   fill_color=factor_cmap('x', palette=palette, factors=properties, start=1, end=2))\n",
    "\n",
    "p.y_range.start = 0.9\n",
    "p.x_range.range_padding = 0.1\n",
    "p.xaxis.major_label_orientation = 1\n",
    "p.xgrid.grid_line_color = None\n",
    "\n",
    "show(p)\n",
    "#######################PLACEHOLDER 3 END #####################"
   ]
  },
  {
   "cell_type": "code",
   "execution_count": 59,
   "metadata": {
    "scrolled": false
   },
   "outputs": [
    {
     "name": "stdout",
     "output_type": "stream",
     "text": [
      "Actual value = 4, Predicted value = 0\n"
     ]
    },
    {
     "data": {
      "image/png": "[encoded data removed]",
      "text/plain": [
       "<Figure size 432x288 with 1 Axes>"
      ]
     },
     "metadata": {},
     "output_type": "display_data"
    },
    {
     "name": "stdout",
     "output_type": "stream",
     "text": [
      "\n",
      "\n",
      "Actual value = 9, Predicted value = 4\n"
     ]
    },
    {
     "data": {
      "image/png": "[encoded data removed]",
      "text/plain": [
       "<Figure size 432x288 with 1 Axes>"
      ]
     },
     "metadata": {},
     "output_type": "display_data"
    },
    {
     "name": "stdout",
     "output_type": "stream",
     "text": [
      "\n",
      "\n",
      "Actual value = 4, Predicted value = 9\n"
     ]
    },
    {
     "data": {
      "image/png": "[encoded data removed]",
      "text/plain": [
       "<Figure size 432x288 with 1 Axes>"
      ]
     },
     "metadata": {},
     "output_type": "display_data"
    },
    {
     "name": "stdout",
     "output_type": "stream",
     "text": [
      "\n",
      "\n",
      "Actual value = 3, Predicted value = 1\n"
     ]
    },
    {
     "data": {
      "image/png": "[encoded data removed]",
      "text/plain": [
       "<Figure size 432x288 with 1 Axes>"
      ]
     },
     "metadata": {},
     "output_type": "display_data"
    },
    {
     "name": "stdout",
     "output_type": "stream",
     "text": [
      "\n",
      "\n",
      "Actual value = 9, Predicted value = 8\n"
     ]
    },
    {
     "data": {
      "image/png": "[encoded data removed]",
      "text/plain": [
       "<Figure size 432x288 with 1 Axes>"
      ]
     },
     "metadata": {},
     "output_type": "display_data"
    },
    {
     "name": "stdout",
     "output_type": "stream",
     "text": [
      "\n",
      "\n"
     ]
    }
   ],
   "source": [
    "#######################PLACEHOLDER 4 START #####################\n",
    "# randomly select and show 5 images that are misclassified\n",
    "count=0\n",
    "for idx,(t,p) in enumerate(zip(test_labels, test_labels_pred)):\n",
    "        #if count>5:break\n",
    "        for val in range(10):\n",
    "            # For each class we can calculate this\n",
    "            if t!=val and p==val:\n",
    "                print(\"Actual value = {}, Predicted value = {}\".format(t, p))\n",
    "                toprint = (np.reshape(test_img[idx], (28, 28)) * 255).astype(np.uint8)\n",
    "                plt.imshow(toprint, interpolation='nearest', cmap='gray')\n",
    "                plt.show()\n",
    "                count+=1\n",
    "                print(\"\\n\")\n",
    "                break\n",
    "            if t==val and p!=val:\n",
    "                print(\"Actual value = {}, Predicted value = {}\".format(t, p))\n",
    "                toprint = (np.reshape(test_img[idx], (28, 28)) * 255).astype(np.uint8)\n",
    "                plt.imshow(toprint, interpolation='nearest', cmap='gray')\n",
    "                plt.show()\n",
    "                count+=1\n",
    "                print(\"\\n\")\n",
    "                break\n",
    "        if count>=5:break\n",
    "                \n",
    "#######################PLACEHOLDER 4 END #####################"
   ]
  },
  {
   "cell_type": "markdown",
   "metadata": {},
   "source": [
    "## Challenges\n",
    "+ Above I have shown five cases where there are misclassifications. \n",
    "+ It seems mostly there are shape variations and deformations that are causing the model to not predict correctly\n",
    "+ There are some noise figures which are missclasified"
   ]
  },
  {
   "cell_type": "code",
   "execution_count": 46,
   "metadata": {},
   "outputs": [
    {
     "data": {
      "image/png": "[encoded data removed]",
      "text/plain": [
       "<Figure size 432x288 with 1 Axes>"
      ]
     },
     "metadata": {},
     "output_type": "display_data"
    },
    {
     "data": {
      "image/png": "[encoded data removed]",
      "text/plain": [
       "<Figure size 432x288 with 1 Axes>"
      ]
     },
     "metadata": {},
     "output_type": "display_data"
    },
    {
     "data": {
      "image/png": "[encoded data removed]",
      "text/plain": [
       "<Figure size 432x288 with 1 Axes>"
      ]
     },
     "metadata": {},
     "output_type": "display_data"
    },
    {
     "data": {
      "image/png": "[encoded data removed]",
      "text/plain": [
       "<Figure size 432x288 with 1 Axes>"
      ]
     },
     "metadata": {},
     "output_type": "display_data"
    },
    {
     "data": {
      "image/png": "[encoded data removed]",
      "text/plain": [
       "<Figure size 432x288 with 1 Axes>"
      ]
     },
     "metadata": {},
     "output_type": "display_data"
    },
    {
     "data": {
      "image/png": "[encoded data removed]",
      "text/plain": [
       "<Figure size 432x288 with 1 Axes>"
      ]
     },
     "metadata": {},
     "output_type": "display_data"
    },
    {
     "data": {
      "image/png": "[encoded data removed]",
      "text/plain": [
       "<Figure size 432x288 with 1 Axes>"
      ]
     },
     "metadata": {},
     "output_type": "display_data"
    },
    {
     "data": {
      "image/png": "[encoded data removed]",
      "text/plain": [
       "<Figure size 432x288 with 1 Axes>"
      ]
     },
     "metadata": {},
     "output_type": "display_data"
    },
    {
     "data": {
      "image/png": "[encoded data removed]",
      "text/plain": [
       "<Figure size 432x288 with 1 Axes>"
      ]
     },
     "metadata": {},
     "output_type": "display_data"
    },
    {
     "data": {
      "image/png": "[encoded data removed]",
      "text/plain": [
       "<Figure size 432x288 with 1 Axes>"
      ]
     },
     "metadata": {},
     "output_type": "display_data"
    },
    {
     "data": {
      "image/png": "[encoded data removed]",
      "text/plain": [
       "<Figure size 432x288 with 1 Axes>"
      ]
     },
     "metadata": {},
     "output_type": "display_data"
    },
    {
     "data": {
      "image/png": "[encoded data removed]",
      "text/plain": [
       "<Figure size 432x288 with 1 Axes>"
      ]
     },
     "metadata": {},
     "output_type": "display_data"
    },
    {
     "data": {
      "image/png": "[encoded data removed]",
      "text/plain": [
       "<Figure size 432x288 with 1 Axes>"
      ]
     },
     "metadata": {},
     "output_type": "display_data"
    },
    {
     "data": {
      "image/png": "[encoded data removed]",
      "text/plain": [
       "<Figure size 432x288 with 1 Axes>"
      ]
     },
     "metadata": {},
     "output_type": "display_data"
    },
    {
     "data": {
      "image/png": "[encoded data removed]",
      "text/plain": [
       "<Figure size 432x288 with 1 Axes>"
      ]
     },
     "metadata": {},
     "output_type": "display_data"
    },
    {
     "data": {
      "image/png": "[encoded data removed]",
      "text/plain": [
       "<Figure size 432x288 with 1 Axes>"
      ]
     },
     "metadata": {},
     "output_type": "display_data"
    },
    {
     "data": {
      "image/png": "[encoded data removed]",
      "text/plain": [
       "<Figure size 432x288 with 1 Axes>"
      ]
     },
     "metadata": {},
     "output_type": "display_data"
    },
    {
     "data": {
      "image/png": "[encoded data removed]",
      "text/plain": [
       "<Figure size 432x288 with 1 Axes>"
      ]
     },
     "metadata": {},
     "output_type": "display_data"
    },
    {
     "data": {
      "image/png": "[encoded data removed]",
      "text/plain": [
       "<Figure size 432x288 with 1 Axes>"
      ]
     },
     "metadata": {},
     "output_type": "display_data"
    },
    {
     "data": {
      "image/png": "[encoded data removed]",
      "text/plain": [
       "<Figure size 432x288 with 1 Axes>"
      ]
     },
     "metadata": {},
     "output_type": "display_data"
    }
   ],
   "source": [
    "# Show the Test Images with Original and Predicted Labels\n",
    "a = np.random.randint(1,50,20)\n",
    "for i in a:\n",
    "    two_d = (np.reshape(test_img[i], (28, 28)) * 255).astype(np.uint8)\n",
    "    plt.title('Original Label: {0}  Predicted Label: {1}'.format(test_labels[i],test_labels_pred[i]))\n",
    "    plt.imshow(two_d, interpolation='nearest',cmap='gray')\n",
    "    plt.show()\n",
    "\n",
    "#------------------------- EOC -----------------------------"
   ]
  },
  {
   "cell_type": "code",
   "execution_count": null,
   "metadata": {},
   "outputs": [],
   "source": []
  }
 ],
 "metadata": {
  "kernelspec": {
   "display_name": "Python 3",
   "language": "python",
   "name": "python3"
  },
  "language_info": {
   "codemirror_mode": {
    "name": "ipython",
    "version": 3
   },
   "file_extension": ".py",
   "mimetype": "text/x-python",
   "name": "python",
   "nbconvert_exporter": "python",
   "pygments_lexer": "ipython3",
   "version": "3.6.5"
  }
 },
 "nbformat": 4,
 "nbformat_minor": 2
}
