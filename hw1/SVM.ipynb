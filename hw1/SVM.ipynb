{
 "cells": [
  {
   "cell_type": "code",
   "execution_count": 3,
   "metadata": {},
   "outputs": [],
   "source": [
    "import sys \n",
    "import numpy as np\n",
    "import pickle\n",
    "from sklearn import model_selection, svm, preprocessing\n",
    "from sklearn.metrics import accuracy_score, confusion_matrix\n",
    "from mnist_loader import MNIST\n",
    "import matplotlib.pyplot as plt\n",
    "from matplotlib import style\n",
    "style.use('ggplot')"
   ]
  },
  {
   "cell_type": "code",
   "execution_count": 4,
   "metadata": {},
   "outputs": [
    {
     "name": "stdout",
     "output_type": "stream",
     "text": [
      "\n",
      "Loading MNIST Data...\n",
      "\n",
      "Loading Training Data...\n",
      "\n",
      "Loading Testing Data...\n",
      "\n",
      "Preparing Classifier Training and Validation Data...\n"
     ]
    }
   ],
   "source": [
    "# Load MNIST Data\n",
    "print('\\nLoading MNIST Data...')\n",
    "data = MNIST('./MNIST_Dataset_Loader/dataset/')\n",
    "\n",
    "print('\\nLoading Training Data...')\n",
    "img_train, labels_train = data.load_training()\n",
    "train_img = np.array(img_train)\n",
    "train_labels = np.array(labels_train)\n",
    "\n",
    "print('\\nLoading Testing Data...')\n",
    "img_test, labels_test = data.load_testing()\n",
    "test_img = np.array(img_test)\n",
    "test_labels = np.array(labels_test)\n",
    "\n",
    "\n",
    "#Features\n",
    "X = train_img\n",
    "\n",
    "#Labels\n",
    "y = train_labels\n",
    "\n",
    "# Prepare Classifier Training and Testing Data\n",
    "print('\\nPreparing Classifier Training and Validation Data...')\n",
    "X_train, X_test, y_train, y_test = model_selection.train_test_split(X,y,test_size=0.1)"
   ]
  },
  {
   "cell_type": "code",
   "execution_count": 5,
   "metadata": {},
   "outputs": [],
   "source": [
    "#######################PLACEHOLDER 1 START #######################\n",
    "# set the following two hyperparameters. \n",
    "\n",
    "nC=[1.0,3.0,5.0]\n",
    "strKernel='poly'\n",
    "#strKernel=['linear','poly','rbf','sigmoid']\n",
    "\n",
    "#######################PLACEHOLDER 1 START #######################"
   ]
  },
  {
   "cell_type": "code",
   "execution_count": 8,
   "metadata": {},
   "outputs": [],
   "source": [
    "# Pickle the Classifier for Future Use\n",
    "\n",
    "def clf_per_nc(X_train, y_train, X_test, y_test, nC, strKernel):\n",
    "    \n",
    "    score_list=[]\n",
    "    y_pred_list=[]\n",
    "    accuracy_list=[]\n",
    "    \n",
    "    for n in nC:\n",
    "        print('\\n Training classifiers on training dataset... with nC = {}'.format(n))\n",
    "        clf = svm.SVC(C=n, kernel=strKernel)\n",
    "        #clf = svm.SVC(gamma=0.1, kernel='poly')\n",
    "\n",
    "        clf.fit(X_train,y_train)\n",
    "\n",
    "        filename='MNIST_SVM'+'_'+str(n)+'.pickle'\n",
    "        with open(filename,'wb') as f:\n",
    "            pickle.dump(clf, f)\n",
    "\n",
    "        pickle_in = open(filename,'rb')\n",
    "        clf = pickle.load(pickle_in)\n",
    "\n",
    "        print('\\nCalculating Accuracy of trained Classifier for validation data...')\n",
    "        acc = round(clf.score(X_test,y_test),2)\n",
    "        score_list.append(acc)\n",
    "\n",
    "        print('\\nMaking Predictions on Validation Data...')\n",
    "        y_pred = clf.predict(X_test)\n",
    "        y_pred_list.append(y_pred)\n",
    "\n",
    "        print('\\nCalculating Accuracy of Predictions...')\n",
    "        accuracy = round(accuracy_score(y_test, y_pred),2)\n",
    "        accuracy_list.append(accuracy)\n",
    "    return score_list, y_pred_list, accuracy_list    "
   ]
  },
  {
   "cell_type": "code",
   "execution_count": 9,
   "metadata": {},
   "outputs": [
    {
     "name": "stdout",
     "output_type": "stream",
     "text": [
      "\n",
      " Training classifiers on training dataset... with nC = 1.0\n",
      "\n",
      "Calculating Accuracy of trained Classifier for validation data...\n",
      "\n",
      "Making Predictions on Validation Data...\n",
      "\n",
      "Calculating Accuracy of Predictions...\n",
      "\n",
      " Training classifiers on training dataset... with nC = 3.0\n",
      "\n",
      "Calculating Accuracy of trained Classifier for validation data...\n",
      "\n",
      "Making Predictions on Validation Data...\n",
      "\n",
      "Calculating Accuracy of Predictions...\n",
      "\n",
      " Training classifiers on training dataset... with nC = 5.0\n",
      "\n",
      "Calculating Accuracy of trained Classifier for validation data...\n",
      "\n",
      "Making Predictions on Validation Data...\n",
      "\n",
      "Calculating Accuracy of Predictions...\n"
     ]
    }
   ],
   "source": [
    "score_list, y_pred_list, accuracy_list = clf_per_nc(X_train, y_train, X_test, y_test, nC, strKernel='poly')"
   ]
  },
  {
   "cell_type": "code",
   "execution_count": 10,
   "metadata": {},
   "outputs": [
    {
     "name": "stdout",
     "output_type": "stream",
     "text": [
      "[0.98, 0.98, 0.98]\n"
     ]
    }
   ],
   "source": [
    "print(score_list)"
   ]
  },
  {
   "cell_type": "code",
   "execution_count": 11,
   "metadata": {},
   "outputs": [
    {
     "data": {
      "text/html": [
       "\n",
       "    <div class=\"bk-root\">\n",
       "        <a href=\"https://bokeh.pydata.org\" target=\"_blank\" class=\"bk-logo bk-logo-small bk-logo-notebook\"></a>\n",
       "        <span id=\"73b7aaf2-d1e5-4406-b101-ea1b113c7b13\">Loading BokehJS ...</span>\n",
       "    </div>"
      ]
     },
     "metadata": {},
     "output_type": "display_data"
    },
    {
     "data": {
      "application/javascript": [
       "\n",
       "(function(root) {\n",
       "  function now() {\n",
       "    return new Date();\n",
       "  }\n",
       "\n",
       "  var force = true;\n",
       "\n",
       "  if (typeof (root._bokeh_onload_callbacks) === \"undefined\" || force === true) {\n",
       "    root._bokeh_onload_callbacks = [];\n",
       "    root._bokeh_is_loading = undefined;\n",
       "  }\n",
       "\n",
       "  var JS_MIME_TYPE = 'application/javascript';\n",
       "  var HTML_MIME_TYPE = 'text/html';\n",
       "  var EXEC_MIME_TYPE = 'application/vnd.bokehjs_exec.v0+json';\n",
       "  var CLASS_NAME = 'output_bokeh rendered_html';\n",
       "\n",
       "  /**\n",
       "   * Render data to the DOM node\n",
       "   */\n",
       "  function render(props, node) {\n",
       "    var script = document.createElement(\"script\");\n",
       "    node.appendChild(script);\n",
       "  }\n",
       "\n",
       "  /**\n",
       "   * Handle when an output is cleared or removed\n",
       "   */\n",
       "  function handleClearOutput(event, handle) {\n",
       "    var cell = handle.cell;\n",
       "\n",
       "    var id = cell.output_area._bokeh_element_id;\n",
       "    var server_id = cell.output_area._bokeh_server_id;\n",
       "    // Clean up Bokeh references\n",
       "    if (id !== undefined) {\n",
       "      Bokeh.index[id].model.document.clear();\n",
       "      delete Bokeh.index[id];\n",
       "    }\n",
       "\n",
       "    if (server_id !== undefined) {\n",
       "      // Clean up Bokeh references\n",
       "      var cmd = \"from bokeh.io.state import curstate; print(curstate().uuid_to_server['\" + server_id + \"'].get_sessions()[0].document.roots[0]._id)\";\n",
       "      cell.notebook.kernel.execute(cmd, {\n",
       "        iopub: {\n",
       "          output: function(msg) {\n",
       "            var element_id = msg.content.text.trim();\n",
       "            Bokeh.index[element_id].model.document.clear();\n",
       "            delete Bokeh.index[element_id];\n",
       "          }\n",
       "        }\n",
       "      });\n",
       "      // Destroy server and session\n",
       "      var cmd = \"import bokeh.io.notebook as ion; ion.destroy_server('\" + server_id + \"')\";\n",
       "      cell.notebook.kernel.execute(cmd);\n",
       "    }\n",
       "  }\n",
       "\n",
       "  /**\n",
       "   * Handle when a new output is added\n",
       "   */\n",
       "  function handleAddOutput(event, handle) {\n",
       "    var output_area = handle.output_area;\n",
       "    var output = handle.output;\n",
       "\n",
       "    // limit handleAddOutput to display_data with EXEC_MIME_TYPE content only\n",
       "    if ((output.output_type != \"display_data\") || (!output.data.hasOwnProperty(EXEC_MIME_TYPE))) {\n",
       "      return\n",
       "    }\n",
       "\n",
       "    var toinsert = output_area.element.find(\".\" + CLASS_NAME.split(' ')[0]);\n",
       "\n",
       "    if (output.metadata[EXEC_MIME_TYPE][\"id\"] !== undefined) {\n",
       "      toinsert[toinsert.length - 1].firstChild.textContent = output.data[JS_MIME_TYPE];\n",
       "      // store reference to embed id on output_area\n",
       "      output_area._bokeh_element_id = output.metadata[EXEC_MIME_TYPE][\"id\"];\n",
       "    }\n",
       "    if (output.metadata[EXEC_MIME_TYPE][\"server_id\"] !== undefined) {\n",
       "      var bk_div = document.createElement(\"div\");\n",
       "      bk_div.innerHTML = output.data[HTML_MIME_TYPE];\n",
       "      var script_attrs = bk_div.children[0].attributes;\n",
       "      for (var i = 0; i < script_attrs.length; i++) {\n",
       "        toinsert[toinsert.length - 1].firstChild.setAttribute(script_attrs[i].name, script_attrs[i].value);\n",
       "      }\n",
       "      // store reference to server id on output_area\n",
       "      output_area._bokeh_server_id = output.metadata[EXEC_MIME_TYPE][\"server_id\"];\n",
       "    }\n",
       "  }\n",
       "\n",
       "  function register_renderer(events, OutputArea) {\n",
       "\n",
       "    function append_mime(data, metadata, element) {\n",
       "      // create a DOM node to render to\n",
       "      var toinsert = this.create_output_subarea(\n",
       "        metadata,\n",
       "        CLASS_NAME,\n",
       "        EXEC_MIME_TYPE\n",
       "      );\n",
       "      this.keyboard_manager.register_events(toinsert);\n",
       "      // Render to node\n",
       "      var props = {data: data, metadata: metadata[EXEC_MIME_TYPE]};\n",
       "      render(props, toinsert[toinsert.length - 1]);\n",
       "      element.append(toinsert);\n",
       "      return toinsert\n",
       "    }\n",
       "\n",
       "    /* Handle when an output is cleared or removed */\n",
       "    events.on('clear_output.CodeCell', handleClearOutput);\n",
       "    events.on('delete.Cell', handleClearOutput);\n",
       "\n",
       "    /* Handle when a new output is added */\n",
       "    events.on('output_added.OutputArea', handleAddOutput);\n",
       "\n",
       "    /**\n",
       "     * Register the mime type and append_mime function with output_area\n",
       "     */\n",
       "    OutputArea.prototype.register_mime_type(EXEC_MIME_TYPE, append_mime, {\n",
       "      /* Is output safe? */\n",
       "      safe: true,\n",
       "      /* Index of renderer in `output_area.display_order` */\n",
       "      index: 0\n",
       "    });\n",
       "  }\n",
       "\n",
       "  // register the mime type if in Jupyter Notebook environment and previously unregistered\n",
       "  if (root.Jupyter !== undefined) {\n",
       "    var events = require('base/js/events');\n",
       "    var OutputArea = require('notebook/js/outputarea').OutputArea;\n",
       "\n",
       "    if (OutputArea.prototype.mime_types().indexOf(EXEC_MIME_TYPE) == -1) {\n",
       "      register_renderer(events, OutputArea);\n",
       "    }\n",
       "  }\n",
       "\n",
       "  \n",
       "  if (typeof (root._bokeh_timeout) === \"undefined\" || force === true) {\n",
       "    root._bokeh_timeout = Date.now() + 5000;\n",
       "    root._bokeh_failed_load = false;\n",
       "  }\n",
       "\n",
       "  var NB_LOAD_WARNING = {'data': {'text/html':\n",
       "     \"<div style='background-color: #fdd'>\\n\"+\n",
       "     \"<p>\\n\"+\n",
       "     \"BokehJS does not appear to have successfully loaded. If loading BokehJS from CDN, this \\n\"+\n",
       "     \"may be due to a slow or bad network connection. Possible fixes:\\n\"+\n",
       "     \"</p>\\n\"+\n",
       "     \"<ul>\\n\"+\n",
       "     \"<li>re-rerun `output_notebook()` to attempt to load from CDN again, or</li>\\n\"+\n",
       "     \"<li>use INLINE resources instead, as so:</li>\\n\"+\n",
       "     \"</ul>\\n\"+\n",
       "     \"<code>\\n\"+\n",
       "     \"from bokeh.resources import INLINE\\n\"+\n",
       "     \"output_notebook(resources=INLINE)\\n\"+\n",
       "     \"</code>\\n\"+\n",
       "     \"</div>\"}};\n",
       "\n",
       "  function display_loaded() {\n",
       "    var el = document.getElementById(\"73b7aaf2-d1e5-4406-b101-ea1b113c7b13\");\n",
       "    if (el != null) {\n",
       "      el.textContent = \"BokehJS is loading...\";\n",
       "    }\n",
       "    if (root.Bokeh !== undefined) {\n",
       "      if (el != null) {\n",
       "        el.textContent = \"BokehJS \" + root.Bokeh.version + \" successfully loaded.\";\n",
       "      }\n",
       "    } else if (Date.now() < root._bokeh_timeout) {\n",
       "      setTimeout(display_loaded, 100)\n",
       "    }\n",
       "  }\n",
       "\n",
       "\n",
       "  function run_callbacks() {\n",
       "    try {\n",
       "      root._bokeh_onload_callbacks.forEach(function(callback) { callback() });\n",
       "    }\n",
       "    finally {\n",
       "      delete root._bokeh_onload_callbacks\n",
       "    }\n",
       "    console.info(\"Bokeh: all callbacks have finished\");\n",
       "  }\n",
       "\n",
       "  function load_libs(js_urls, callback) {\n",
       "    root._bokeh_onload_callbacks.push(callback);\n",
       "    if (root._bokeh_is_loading > 0) {\n",
       "      console.log(\"Bokeh: BokehJS is being loaded, scheduling callback at\", now());\n",
       "      return null;\n",
       "    }\n",
       "    if (js_urls == null || js_urls.length === 0) {\n",
       "      run_callbacks();\n",
       "      return null;\n",
       "    }\n",
       "    console.log(\"Bokeh: BokehJS not loaded, scheduling load and callback at\", now());\n",
       "    root._bokeh_is_loading = js_urls.length;\n",
       "    for (var i = 0; i < js_urls.length; i++) {\n",
       "      var url = js_urls[i];\n",
       "      var s = document.createElement('script');\n",
       "      s.src = url;\n",
       "      s.async = false;\n",
       "      s.onreadystatechange = s.onload = function() {\n",
       "        root._bokeh_is_loading--;\n",
       "        if (root._bokeh_is_loading === 0) {\n",
       "          console.log(\"Bokeh: all BokehJS libraries loaded\");\n",
       "          run_callbacks()\n",
       "        }\n",
       "      };\n",
       "      s.onerror = function() {\n",
       "        console.warn(\"failed to load library \" + url);\n",
       "      };\n",
       "      console.log(\"Bokeh: injecting script tag for BokehJS library: \", url);\n",
       "      document.getElementsByTagName(\"head\")[0].appendChild(s);\n",
       "    }\n",
       "  };var element = document.getElementById(\"73b7aaf2-d1e5-4406-b101-ea1b113c7b13\");\n",
       "  if (element == null) {\n",
       "    console.log(\"Bokeh: ERROR: autoload.js configured with elementid '73b7aaf2-d1e5-4406-b101-ea1b113c7b13' but no matching script tag was found. \")\n",
       "    return false;\n",
       "  }\n",
       "\n",
       "  var js_urls = [\"https://cdn.pydata.org/bokeh/release/bokeh-0.12.16.min.js\", \"https://cdn.pydata.org/bokeh/release/bokeh-widgets-0.12.16.min.js\", \"https://cdn.pydata.org/bokeh/release/bokeh-tables-0.12.16.min.js\", \"https://cdn.pydata.org/bokeh/release/bokeh-gl-0.12.16.min.js\"];\n",
       "\n",
       "  var inline_js = [\n",
       "    function(Bokeh) {\n",
       "      Bokeh.set_log_level(\"info\");\n",
       "    },\n",
       "    \n",
       "    function(Bokeh) {\n",
       "      \n",
       "    },\n",
       "    function(Bokeh) {\n",
       "      console.log(\"Bokeh: injecting CSS: https://cdn.pydata.org/bokeh/release/bokeh-0.12.16.min.css\");\n",
       "      Bokeh.embed.inject_css(\"https://cdn.pydata.org/bokeh/release/bokeh-0.12.16.min.css\");\n",
       "      console.log(\"Bokeh: injecting CSS: https://cdn.pydata.org/bokeh/release/bokeh-widgets-0.12.16.min.css\");\n",
       "      Bokeh.embed.inject_css(\"https://cdn.pydata.org/bokeh/release/bokeh-widgets-0.12.16.min.css\");\n",
       "      console.log(\"Bokeh: injecting CSS: https://cdn.pydata.org/bokeh/release/bokeh-tables-0.12.16.min.css\");\n",
       "      Bokeh.embed.inject_css(\"https://cdn.pydata.org/bokeh/release/bokeh-tables-0.12.16.min.css\");\n",
       "    }\n",
       "  ];\n",
       "\n",
       "  function run_inline_js() {\n",
       "    \n",
       "    if ((root.Bokeh !== undefined) || (force === true)) {\n",
       "      for (var i = 0; i < inline_js.length; i++) {\n",
       "        inline_js[i].call(root, root.Bokeh);\n",
       "      }if (force === true) {\n",
       "        display_loaded();\n",
       "      }} else if (Date.now() < root._bokeh_timeout) {\n",
       "      setTimeout(run_inline_js, 100);\n",
       "    } else if (!root._bokeh_failed_load) {\n",
       "      console.log(\"Bokeh: BokehJS failed to load within specified timeout.\");\n",
       "      root._bokeh_failed_load = true;\n",
       "    } else if (force !== true) {\n",
       "      var cell = $(document.getElementById(\"73b7aaf2-d1e5-4406-b101-ea1b113c7b13\")).parents('.cell').data().cell;\n",
       "      cell.output_area.append_execute_result(NB_LOAD_WARNING)\n",
       "    }\n",
       "\n",
       "  }\n",
       "\n",
       "  if (root._bokeh_is_loading === 0) {\n",
       "    console.log(\"Bokeh: BokehJS loaded, going straight to plotting\");\n",
       "    run_inline_js();\n",
       "  } else {\n",
       "    load_libs(js_urls, function() {\n",
       "      console.log(\"Bokeh: BokehJS plotting callback run at\", now());\n",
       "      run_inline_js();\n",
       "    });\n",
       "  }\n",
       "}(window));"
      ],
      "application/vnd.bokehjs_load.v0+json": "\n(function(root) {\n  function now() {\n    return new Date();\n  }\n\n  var force = true;\n\n  if (typeof (root._bokeh_onload_callbacks) === \"undefined\" || force === true) {\n    root._bokeh_onload_callbacks = [];\n    root._bokeh_is_loading = undefined;\n  }\n\n  \n\n  \n  if (typeof (root._bokeh_timeout) === \"undefined\" || force === true) {\n    root._bokeh_timeout = Date.now() + 5000;\n    root._bokeh_failed_load = false;\n  }\n\n  var NB_LOAD_WARNING = {'data': {'text/html':\n     \"<div style='background-color: #fdd'>\\n\"+\n     \"<p>\\n\"+\n     \"BokehJS does not appear to have successfully loaded. If loading BokehJS from CDN, this \\n\"+\n     \"may be due to a slow or bad network connection. Possible fixes:\\n\"+\n     \"</p>\\n\"+\n     \"<ul>\\n\"+\n     \"<li>re-rerun `output_notebook()` to attempt to load from CDN again, or</li>\\n\"+\n     \"<li>use INLINE resources instead, as so:</li>\\n\"+\n     \"</ul>\\n\"+\n     \"<code>\\n\"+\n     \"from bokeh.resources import INLINE\\n\"+\n     \"output_notebook(resources=INLINE)\\n\"+\n     \"</code>\\n\"+\n     \"</div>\"}};\n\n  function display_loaded() {\n    var el = document.getElementById(\"73b7aaf2-d1e5-4406-b101-ea1b113c7b13\");\n    if (el != null) {\n      el.textContent = \"BokehJS is loading...\";\n    }\n    if (root.Bokeh !== undefined) {\n      if (el != null) {\n        el.textContent = \"BokehJS \" + root.Bokeh.version + \" successfully loaded.\";\n      }\n    } else if (Date.now() < root._bokeh_timeout) {\n      setTimeout(display_loaded, 100)\n    }\n  }\n\n\n  function run_callbacks() {\n    try {\n      root._bokeh_onload_callbacks.forEach(function(callback) { callback() });\n    }\n    finally {\n      delete root._bokeh_onload_callbacks\n    }\n    console.info(\"Bokeh: all callbacks have finished\");\n  }\n\n  function load_libs(js_urls, callback) {\n    root._bokeh_onload_callbacks.push(callback);\n    if (root._bokeh_is_loading > 0) {\n      console.log(\"Bokeh: BokehJS is being loaded, scheduling callback at\", now());\n      return null;\n    }\n    if (js_urls == null || js_urls.length === 0) {\n      run_callbacks();\n      return null;\n    }\n    console.log(\"Bokeh: BokehJS not loaded, scheduling load and callback at\", now());\n    root._bokeh_is_loading = js_urls.length;\n    for (var i = 0; i < js_urls.length; i++) {\n      var url = js_urls[i];\n      var s = document.createElement('script');\n      s.src = url;\n      s.async = false;\n      s.onreadystatechange = s.onload = function() {\n        root._bokeh_is_loading--;\n        if (root._bokeh_is_loading === 0) {\n          console.log(\"Bokeh: all BokehJS libraries loaded\");\n          run_callbacks()\n        }\n      };\n      s.onerror = function() {\n        console.warn(\"failed to load library \" + url);\n      };\n      console.log(\"Bokeh: injecting script tag for BokehJS library: \", url);\n      document.getElementsByTagName(\"head\")[0].appendChild(s);\n    }\n  };var element = document.getElementById(\"73b7aaf2-d1e5-4406-b101-ea1b113c7b13\");\n  if (element == null) {\n    console.log(\"Bokeh: ERROR: autoload.js configured with elementid '73b7aaf2-d1e5-4406-b101-ea1b113c7b13' but no matching script tag was found. \")\n    return false;\n  }\n\n  var js_urls = [\"https://cdn.pydata.org/bokeh/release/bokeh-0.12.16.min.js\", \"https://cdn.pydata.org/bokeh/release/bokeh-widgets-0.12.16.min.js\", \"https://cdn.pydata.org/bokeh/release/bokeh-tables-0.12.16.min.js\", \"https://cdn.pydata.org/bokeh/release/bokeh-gl-0.12.16.min.js\"];\n\n  var inline_js = [\n    function(Bokeh) {\n      Bokeh.set_log_level(\"info\");\n    },\n    \n    function(Bokeh) {\n      \n    },\n    function(Bokeh) {\n      console.log(\"Bokeh: injecting CSS: https://cdn.pydata.org/bokeh/release/bokeh-0.12.16.min.css\");\n      Bokeh.embed.inject_css(\"https://cdn.pydata.org/bokeh/release/bokeh-0.12.16.min.css\");\n      console.log(\"Bokeh: injecting CSS: https://cdn.pydata.org/bokeh/release/bokeh-widgets-0.12.16.min.css\");\n      Bokeh.embed.inject_css(\"https://cdn.pydata.org/bokeh/release/bokeh-widgets-0.12.16.min.css\");\n      console.log(\"Bokeh: injecting CSS: https://cdn.pydata.org/bokeh/release/bokeh-tables-0.12.16.min.css\");\n      Bokeh.embed.inject_css(\"https://cdn.pydata.org/bokeh/release/bokeh-tables-0.12.16.min.css\");\n    }\n  ];\n\n  function run_inline_js() {\n    \n    if ((root.Bokeh !== undefined) || (force === true)) {\n      for (var i = 0; i < inline_js.length; i++) {\n        inline_js[i].call(root, root.Bokeh);\n      }if (force === true) {\n        display_loaded();\n      }} else if (Date.now() < root._bokeh_timeout) {\n      setTimeout(run_inline_js, 100);\n    } else if (!root._bokeh_failed_load) {\n      console.log(\"Bokeh: BokehJS failed to load within specified timeout.\");\n      root._bokeh_failed_load = true;\n    } else if (force !== true) {\n      var cell = $(document.getElementById(\"73b7aaf2-d1e5-4406-b101-ea1b113c7b13\")).parents('.cell').data().cell;\n      cell.output_area.append_execute_result(NB_LOAD_WARNING)\n    }\n\n  }\n\n  if (root._bokeh_is_loading === 0) {\n    console.log(\"Bokeh: BokehJS loaded, going straight to plotting\");\n    run_inline_js();\n  } else {\n    load_libs(js_urls, function() {\n      console.log(\"Bokeh: BokehJS plotting callback run at\", now());\n      run_inline_js();\n    });\n  }\n}(window));"
     },
     "metadata": {},
     "output_type": "display_data"
    }
   ],
   "source": [
    "# Get the plots for each N/K (# of neighbors)\n",
    "\n",
    "from bokeh.io import show, output_notebook\n",
    "from bokeh.plotting import figure\n",
    "\n",
    "output_notebook()"
   ]
  },
  {
   "cell_type": "code",
   "execution_count": 14,
   "metadata": {},
   "outputs": [
    {
     "name": "stdout",
     "output_type": "stream",
     "text": [
      "[0.98, 0.98, 0.98]\n",
      "[0.98, 0.98, 0.98]\n"
     ]
    },
    {
     "data": {
      "text/html": [
       "\n",
       "<div class=\"bk-root\">\n",
       "    <div class=\"bk-plotdiv\" id=\"c4ce6a1f-8503-47c9-9a8c-f376112a2356\"></div>\n",
       "</div>"
      ]
     },
     "metadata": {},
     "output_type": "display_data"
    },
    {
     "data": {
      "application/javascript": [
       "(function(root) {\n",
       "  function embed_document(root) {\n",
       "    \n",
       "  var docs_json = {\"f63dd0df-30e6-4cd8-9232-4102a74e58c1\":{\"roots\":{\"references\":[{\"attributes\":{},\"id\":\"e4d0b841-5b1e-43e3-baee-46b658ca0b97\",\"type\":\"LinearScale\"},{\"attributes\":{},\"id\":\"e8bdfa45-9ec5-4401-9fd9-5ad8ae1a7286\",\"type\":\"CategoricalTickFormatter\"},{\"attributes\":{},\"id\":\"dc7ceda4-3845-4b7c-ab7d-abac29531889\",\"type\":\"CategoricalScale\"},{\"attributes\":{},\"id\":\"3f69db46-851f-4e38-9878-4dadbbcec472\",\"type\":\"BasicTicker\"},{\"attributes\":{\"fill_color\":{\"value\":\"#1f77b4\"},\"line_color\":{\"value\":\"#1f77b4\"},\"top\":{\"field\":\"top\"},\"width\":{\"value\":0.3},\"x\":{\"field\":\"x\"}},\"id\":\"24994b23-114d-4e57-a818-b68c27849fef\",\"type\":\"VBar\"},{\"attributes\":{},\"id\":\"a695b4c7-76ce-4747-a5da-8daf6827cf9b\",\"type\":\"CategoricalTicker\"},{\"attributes\":{},\"id\":\"0e074151-5971-4e34-a998-fe9c7351364f\",\"type\":\"SaveTool\"},{\"attributes\":{\"fill_alpha\":{\"value\":0.1},\"fill_color\":{\"value\":\"#1f77b4\"},\"line_alpha\":{\"value\":0.1},\"line_color\":{\"value\":\"#1f77b4\"},\"top\":{\"field\":\"top\"},\"width\":{\"value\":0.3},\"x\":{\"field\":\"x\"}},\"id\":\"f6fff9ce-5e7d-4330-9141-c08468aa3f51\",\"type\":\"VBar\"},{\"attributes\":{\"dimension\":1,\"plot\":{\"id\":\"e45925d6-bffb-4b82-831f-5b3569b8d125\",\"subtype\":\"Figure\",\"type\":\"Plot\"},\"ticker\":{\"id\":\"3f69db46-851f-4e38-9878-4dadbbcec472\",\"type\":\"BasicTicker\"}},\"id\":\"874db55a-bfc5-4871-84fa-5ef266f60486\",\"type\":\"Grid\"},{\"attributes\":{\"overlay\":{\"id\":\"135c00af-e0ca-4149-ba34-3960da8328df\",\"type\":\"BoxAnnotation\"}},\"id\":\"72e95236-2415-482a-b1be-97fa2e2ff96b\",\"type\":\"BoxZoomTool\"},{\"attributes\":{},\"id\":\"0c5c22b0-894c-41a6-8744-e0f034cf7700\",\"type\":\"HelpTool\"},{\"attributes\":{},\"id\":\"508c50ae-e7db-47cc-836f-6ecc7f19b84c\",\"type\":\"ResetTool\"},{\"attributes\":{},\"id\":\"aaabd8f9-8ec9-43ec-9bed-0e880a3af083\",\"type\":\"WheelZoomTool\"},{\"attributes\":{\"axis_label\":\"Accuracy\",\"formatter\":{\"id\":\"cf7da4c6-907f-424f-a272-dda39bb64f03\",\"type\":\"BasicTickFormatter\"},\"plot\":{\"id\":\"e45925d6-bffb-4b82-831f-5b3569b8d125\",\"subtype\":\"Figure\",\"type\":\"Plot\"},\"ticker\":{\"id\":\"3f69db46-851f-4e38-9878-4dadbbcec472\",\"type\":\"BasicTicker\"}},\"id\":\"05f43de4-5612-4c8b-ac69-f9b892f5d892\",\"type\":\"LinearAxis\"},{\"attributes\":{\"data_source\":{\"id\":\"3ba511f5-faa5-4daf-b523-9a3c3d5d99db\",\"type\":\"ColumnDataSource\"},\"glyph\":{\"id\":\"24994b23-114d-4e57-a818-b68c27849fef\",\"type\":\"VBar\"},\"hover_glyph\":null,\"muted_glyph\":null,\"nonselection_glyph\":{\"id\":\"f6fff9ce-5e7d-4330-9141-c08468aa3f51\",\"type\":\"VBar\"},\"selection_glyph\":null,\"view\":{\"id\":\"5bb3a5d0-1a0d-49a3-8c53-676ab4c30849\",\"type\":\"CDSView\"}},\"id\":\"d7406a70-d5a2-486e-ad09-86a34719bc3d\",\"type\":\"GlyphRenderer\"},{\"attributes\":{\"axis_label\":\"nC\",\"formatter\":{\"id\":\"e8bdfa45-9ec5-4401-9fd9-5ad8ae1a7286\",\"type\":\"CategoricalTickFormatter\"},\"plot\":{\"id\":\"e45925d6-bffb-4b82-831f-5b3569b8d125\",\"subtype\":\"Figure\",\"type\":\"Plot\"},\"ticker\":{\"id\":\"a695b4c7-76ce-4747-a5da-8daf6827cf9b\",\"type\":\"CategoricalTicker\"}},\"id\":\"8a36fe5f-2b01-4af5-aa34-fca7dca98282\",\"type\":\"CategoricalAxis\"},{\"attributes\":{},\"id\":\"53b02155-7f7b-4a77-b21b-7669d6d014a8\",\"type\":\"UnionRenderers\"},{\"attributes\":{},\"id\":\"5ceb8f38-3ce2-4273-81f5-dadaa47afdd4\",\"type\":\"PanTool\"},{\"attributes\":{\"source\":{\"id\":\"733ac3fa-ca6c-4063-9fa7-211622334864\",\"type\":\"ColumnDataSource\"}},\"id\":\"0f6ce5f4-f73d-4373-8e6c-3e003bd4137c\",\"type\":\"CDSView\"},{\"attributes\":{\"fill_alpha\":{\"value\":0.1},\"fill_color\":{\"value\":\"#1f77b4\"},\"line_alpha\":{\"value\":0.1},\"line_color\":{\"value\":\"#1f77b4\"},\"size\":{\"units\":\"screen\",\"value\":20},\"x\":{\"field\":\"x\"},\"y\":{\"field\":\"y\"}},\"id\":\"a83f6b9a-a038-4d66-9e20-fdbbbe9ff793\",\"type\":\"Circle\"},{\"attributes\":{\"source\":{\"id\":\"3ba511f5-faa5-4daf-b523-9a3c3d5d99db\",\"type\":\"ColumnDataSource\"}},\"id\":\"5bb3a5d0-1a0d-49a3-8c53-676ab4c30849\",\"type\":\"CDSView\"},{\"attributes\":{\"data_source\":{\"id\":\"733ac3fa-ca6c-4063-9fa7-211622334864\",\"type\":\"ColumnDataSource\"},\"glyph\":{\"id\":\"07890e3e-ae57-419c-9601-8e6492b566c6\",\"type\":\"Circle\"},\"hover_glyph\":null,\"muted_glyph\":null,\"nonselection_glyph\":{\"id\":\"a83f6b9a-a038-4d66-9e20-fdbbbe9ff793\",\"type\":\"Circle\"},\"selection_glyph\":null,\"view\":{\"id\":\"0f6ce5f4-f73d-4373-8e6c-3e003bd4137c\",\"type\":\"CDSView\"}},\"id\":\"979e2a92-c1a9-4459-b6e0-0e24ec1057a3\",\"type\":\"GlyphRenderer\"},{\"attributes\":{},\"id\":\"b2fda54f-0008-483c-a209-8f83ee4db9ce\",\"type\":\"UnionRenderers\"},{\"attributes\":{\"fill_alpha\":{\"value\":0.5},\"fill_color\":{\"value\":\"navy\"},\"line_alpha\":{\"value\":0.5},\"line_color\":{\"value\":\"navy\"},\"size\":{\"units\":\"screen\",\"value\":20},\"x\":{\"field\":\"x\"},\"y\":{\"field\":\"y\"}},\"id\":\"07890e3e-ae57-419c-9601-8e6492b566c6\",\"type\":\"Circle\"},{\"attributes\":{},\"id\":\"899d2999-75e7-43ea-bf5a-50964eda085f\",\"type\":\"Selection\"},{\"attributes\":{},\"id\":\"df0c40c7-218c-44b7-9343-4ba801f6a75e\",\"type\":\"Selection\"},{\"attributes\":{},\"id\":\"cf7da4c6-907f-424f-a272-dda39bb64f03\",\"type\":\"BasicTickFormatter\"},{\"attributes\":{\"active_drag\":\"auto\",\"active_inspect\":\"auto\",\"active_scroll\":\"auto\",\"active_tap\":\"auto\",\"tools\":[{\"id\":\"5ceb8f38-3ce2-4273-81f5-dadaa47afdd4\",\"type\":\"PanTool\"},{\"id\":\"aaabd8f9-8ec9-43ec-9bed-0e880a3af083\",\"type\":\"WheelZoomTool\"},{\"id\":\"72e95236-2415-482a-b1be-97fa2e2ff96b\",\"type\":\"BoxZoomTool\"},{\"id\":\"0e074151-5971-4e34-a998-fe9c7351364f\",\"type\":\"SaveTool\"},{\"id\":\"508c50ae-e7db-47cc-836f-6ecc7f19b84c\",\"type\":\"ResetTool\"},{\"id\":\"0c5c22b0-894c-41a6-8744-e0f034cf7700\",\"type\":\"HelpTool\"}]},\"id\":\"67452126-0cc6-46f7-afe8-8192c01e79c1\",\"type\":\"Toolbar\"},{\"attributes\":{\"below\":[{\"id\":\"8a36fe5f-2b01-4af5-aa34-fca7dca98282\",\"type\":\"CategoricalAxis\"}],\"left\":[{\"id\":\"05f43de4-5612-4c8b-ac69-f9b892f5d892\",\"type\":\"LinearAxis\"}],\"plot_height\":200,\"renderers\":[{\"id\":\"8a36fe5f-2b01-4af5-aa34-fca7dca98282\",\"type\":\"CategoricalAxis\"},{\"id\":\"0279ba76-c265-46fa-8f07-3a8d89919222\",\"type\":\"Grid\"},{\"id\":\"05f43de4-5612-4c8b-ac69-f9b892f5d892\",\"type\":\"LinearAxis\"},{\"id\":\"874db55a-bfc5-4871-84fa-5ef266f60486\",\"type\":\"Grid\"},{\"id\":\"135c00af-e0ca-4149-ba34-3960da8328df\",\"type\":\"BoxAnnotation\"},{\"id\":\"d7406a70-d5a2-486e-ad09-86a34719bc3d\",\"type\":\"GlyphRenderer\"},{\"id\":\"979e2a92-c1a9-4459-b6e0-0e24ec1057a3\",\"type\":\"GlyphRenderer\"}],\"title\":{\"id\":\"04513618-aff1-45ac-967a-d13106a97b03\",\"type\":\"Title\"},\"toolbar\":{\"id\":\"67452126-0cc6-46f7-afe8-8192c01e79c1\",\"type\":\"Toolbar\"},\"x_range\":{\"id\":\"699d69f0-6e96-4fb7-8d8d-e1aa30ccdcb0\",\"type\":\"FactorRange\"},\"x_scale\":{\"id\":\"dc7ceda4-3845-4b7c-ab7d-abac29531889\",\"type\":\"CategoricalScale\"},\"y_range\":{\"id\":\"d16937a5-ee1e-4eae-a5b3-1535fd5fa66b\",\"type\":\"DataRange1d\"},\"y_scale\":{\"id\":\"e4d0b841-5b1e-43e3-baee-46b658ca0b97\",\"type\":\"LinearScale\"}},\"id\":\"e45925d6-bffb-4b82-831f-5b3569b8d125\",\"subtype\":\"Figure\",\"type\":\"Plot\"},{\"attributes\":{\"callback\":null,\"data\":{\"top\":[0.98,0.98,0.98],\"x\":[\"1.0\",\"3.0\",\"5.0\"]},\"selected\":{\"id\":\"899d2999-75e7-43ea-bf5a-50964eda085f\",\"type\":\"Selection\"},\"selection_policy\":{\"id\":\"53b02155-7f7b-4a77-b21b-7669d6d014a8\",\"type\":\"UnionRenderers\"}},\"id\":\"3ba511f5-faa5-4daf-b523-9a3c3d5d99db\",\"type\":\"ColumnDataSource\"},{\"attributes\":{\"callback\":null,\"data\":{\"x\":[\"1.0\",\"3.0\",\"5.0\"],\"y\":[0.98,0.98,0.98]},\"selected\":{\"id\":\"df0c40c7-218c-44b7-9343-4ba801f6a75e\",\"type\":\"Selection\"},\"selection_policy\":{\"id\":\"b2fda54f-0008-483c-a209-8f83ee4db9ce\",\"type\":\"UnionRenderers\"}},\"id\":\"733ac3fa-ca6c-4063-9fa7-211622334864\",\"type\":\"ColumnDataSource\"},{\"attributes\":{\"callback\":null,\"factors\":[\"1.0\",\"3.0\",\"5.0\"]},\"id\":\"699d69f0-6e96-4fb7-8d8d-e1aa30ccdcb0\",\"type\":\"FactorRange\"},{\"attributes\":{\"plot\":null,\"text\":\"Scores and Accuracy at different nC\"},\"id\":\"04513618-aff1-45ac-967a-d13106a97b03\",\"type\":\"Title\"},{\"attributes\":{\"bottom_units\":\"screen\",\"fill_alpha\":{\"value\":0.5},\"fill_color\":{\"value\":\"lightgrey\"},\"left_units\":\"screen\",\"level\":\"overlay\",\"line_alpha\":{\"value\":1.0},\"line_color\":{\"value\":\"black\"},\"line_dash\":[4,4],\"line_width\":{\"value\":2},\"plot\":null,\"render_mode\":\"css\",\"right_units\":\"screen\",\"top_units\":\"screen\"},\"id\":\"135c00af-e0ca-4149-ba34-3960da8328df\",\"type\":\"BoxAnnotation\"},{\"attributes\":{\"callback\":null,\"end\":1.0,\"start\":0.9},\"id\":\"d16937a5-ee1e-4eae-a5b3-1535fd5fa66b\",\"type\":\"DataRange1d\"},{\"attributes\":{\"grid_line_color\":{\"value\":null},\"plot\":{\"id\":\"e45925d6-bffb-4b82-831f-5b3569b8d125\",\"subtype\":\"Figure\",\"type\":\"Plot\"},\"ticker\":{\"id\":\"a695b4c7-76ce-4747-a5da-8daf6827cf9b\",\"type\":\"CategoricalTicker\"}},\"id\":\"0279ba76-c265-46fa-8f07-3a8d89919222\",\"type\":\"Grid\"}],\"root_ids\":[\"e45925d6-bffb-4b82-831f-5b3569b8d125\"]},\"title\":\"Bokeh Application\",\"version\":\"0.12.16\"}};\n",
       "  var render_items = [{\"docid\":\"f63dd0df-30e6-4cd8-9232-4102a74e58c1\",\"elementid\":\"c4ce6a1f-8503-47c9-9a8c-f376112a2356\",\"modelid\":\"e45925d6-bffb-4b82-831f-5b3569b8d125\"}];\n",
       "  root.Bokeh.embed.embed_items_notebook(docs_json, render_items);\n",
       "\n",
       "  }\n",
       "  if (root.Bokeh !== undefined) {\n",
       "    embed_document(root);\n",
       "  } else {\n",
       "    var attempts = 0;\n",
       "    var timer = setInterval(function(root) {\n",
       "      if (root.Bokeh !== undefined) {\n",
       "        embed_document(root);\n",
       "        clearInterval(timer);\n",
       "      }\n",
       "      attempts++;\n",
       "      if (attempts > 100) {\n",
       "        console.log(\"Bokeh: ERROR: Unable to run BokehJS code because BokehJS library is missing\")\n",
       "        clearInterval(timer);\n",
       "      }\n",
       "    }, 10, root)\n",
       "  }\n",
       "})(window);"
      ],
      "application/vnd.bokehjs_exec.v0+json": ""
     },
     "metadata": {
      "application/vnd.bokehjs_exec.v0+json": {
       "id": "e45925d6-bffb-4b82-831f-5b3569b8d125"
      }
     },
     "output_type": "display_data"
    }
   ],
   "source": [
    "from bokeh.models import ColumnarDataSource, FactorRange\n",
    "\n",
    "print(score_list)\n",
    "print(accuracy_list)\n",
    "\n",
    "p = figure(x_range=['1.0','3.0','5.0'], plot_height=200, title=\"Scores and Accuracy at different nC\")\n",
    "p.vbar(x=['1.0','3.0','5.0'], top=score_list, width=0.3)\n",
    "p.circle(x=['1.0','3.0','5.0'], y=accuracy_list, size=20, color=\"navy\", alpha=0.5)\n",
    "\n",
    "p.xgrid.grid_line_color=None\n",
    "p.y_range.start=0.9\n",
    "p.y_range.end=1.0\n",
    "p.xaxis.axis_label = 'nC'\n",
    "p.yaxis.axis_label = 'Accuracy'\n",
    "show(p)"
   ]
  },
  {
   "cell_type": "code",
   "execution_count": 15,
   "metadata": {},
   "outputs": [],
   "source": [
    "# Confusion Matrix per Class (10)\n",
    "from collections import defaultdict\n",
    "def compute_metrics(test, pred):\n",
    "    # Create the dictionary for each class\n",
    "    conf_matrix={val:{'TP':0, 'TN':0, 'FP':0, 'FN':0} for val in range(10)}\n",
    "    \n",
    "    for t,p in zip(test, pred):\n",
    "        for val in range(10):\n",
    "            # For each class we can calculate this\n",
    "            if t==val and p==val: conf_matrix[val]['TP'] +=1\n",
    "            if t!=val and p!=val: conf_matrix[val]['TN'] +=1\n",
    "            if t!=val and p==val: conf_matrix[val]['FP'] +=1\n",
    "            if t==val and p!=val: conf_matrix[val]['FN'] +=1\n",
    "    \n",
    "    #to Plot\n",
    "    acc_dict=[]\n",
    "    prec_dict=[]\n",
    "    rec_dict=[]\n",
    "    for k, v in conf_matrix.items():\n",
    "        print(\"Confusion matrix for {}\".format(k), \":\", \"True Positive = {}, True Negative = {}, \\\n",
    "        False Positive = {}, False Negative = {}\".format(v['TP'], v['TN'], v['FP'], v['FN']))\n",
    "        conf_mat=np.array([[v['TP'], v['FP']],\n",
    "                           [v['FN'], v['TN']]])\n",
    "        #plt.matshow(conf_mat)\n",
    "        #plt.title('Confusion Matrix for Validation Data')\n",
    "        #plt.colorbar()\n",
    "        #plt.ylabel('True label')\n",
    "        #plt.xlabel('Predicted label')\n",
    "        #plt.show()\n",
    "        #print(\"Accuracy for {} = {}\".format(k, (v['TP']+v['TN'])/(1.0*(v['TP']+v['TN']+v['FP']+v['FN']))))\n",
    "        #print(\"Precision for {} = {}\".format(k, (v['TP'])/(1.0*(v['TP']+v['FP']))))\n",
    "        #print(\"Recall for {} = {}\".format(k, (v['TP'])/(1.0*(v['TP']+v['FN']))))\n",
    "        \n",
    "        #Store to get the final plot\n",
    "        acc_dict.append(round((v['TP']+v['TN'])/(1.0*(v['TP']+v['TN']+v['FP']+v['FN'])) ,3))\n",
    "        prec_dict.append(round((v['TP'])/(1.0*(v['TP']+v['FP']))  ,3))\n",
    "        rec_dict.append(round((v['TP'])/(1.0*(v['TP']+v['FN']))  ,3))\n",
    "        \n",
    "    return acc_dict, prec_dict, rec_dict"
   ]
  },
  {
   "cell_type": "code",
   "execution_count": 18,
   "metadata": {
    "scrolled": false
   },
   "outputs": [
    {
     "name": "stdout",
     "output_type": "stream",
     "text": [
      "\n",
      "\n",
      "#######################################################################################\n",
      "#######################################################################################\n",
      "#######################################################################################\n",
      "\n",
      "\n",
      "For penalty parameter = 1.0\n",
      "\n",
      " SVM Trained Classifier Confidence:  0.98\n",
      "\n",
      " Predicted Values:  [3 4 1 ... 9 3 7]\n",
      "\n",
      " Accuracy of Classifier on Validation Image Data:  0.98\n",
      "Confusion matrix for 0 : True Positive = 588, True Negative = 5403,         False Positive = 6, False Negative = 3\n",
      "Confusion matrix for 1 : True Positive = 700, True Negative = 5285,         False Positive = 10, False Negative = 5\n",
      "Confusion matrix for 2 : True Positive = 601, True Negative = 5372,         False Positive = 15, False Negative = 12\n",
      "Confusion matrix for 3 : True Positive = 591, True Negative = 5382,         False Positive = 11, False Negative = 16\n",
      "Confusion matrix for 4 : True Positive = 551, True Negative = 5417,         False Positive = 17, False Negative = 15\n",
      "Confusion matrix for 5 : True Positive = 526, True Negative = 5447,         False Positive = 12, False Negative = 15\n",
      "Confusion matrix for 6 : True Positive = 586, True Negative = 5397,         False Positive = 9, False Negative = 8\n",
      "Confusion matrix for 7 : True Positive = 652, True Negative = 5315,         False Positive = 17, False Negative = 16\n",
      "Confusion matrix for 8 : True Positive = 536, True Negative = 5443,         False Positive = 9, False Negative = 12\n",
      "Confusion matrix for 9 : True Positive = 547, True Negative = 5417,         False Positive = 16, False Negative = 20\n"
     ]
    },
    {
     "data": {
      "text/html": [
       "\n",
       "<div class=\"bk-root\">\n",
       "    <div class=\"bk-plotdiv\" id=\"0a1c2aa8-8ba8-4605-beae-53742b5ea332\"></div>\n",
       "</div>"
      ]
     },
     "metadata": {},
     "output_type": "display_data"
    },
    {
     "data": {
      "application/javascript": [
       "(function(root) {\n",
       "  function embed_document(root) {\n",
       "    \n",
       "  var docs_json = {\"97de8fe8-fa16-418c-99bd-fc64ddddceb1\":{\"roots\":{\"references\":[{\"attributes\":{\"source\":{\"id\":\"7c9140f2-e745-4c0f-9029-885a4eeac946\",\"type\":\"ColumnDataSource\"}},\"id\":\"46359f8f-6601-41a0-9f2c-5328141bfeef\",\"type\":\"CDSView\"},{\"attributes\":{\"end\":2,\"factors\":[\"Accuracy\",\"Precision\",\"Recall\"],\"palette\":[\"#c9d9d3\",\"#718dbf\",\"#e84d60\"],\"start\":1},\"id\":\"d5763f2e-33d8-46e6-988c-e31c50d3296b\",\"type\":\"CategoricalColorMapper\"},{\"attributes\":{},\"id\":\"70fff194-3ea6-4138-a94c-015ac505d443\",\"type\":\"BasicTickFormatter\"},{\"attributes\":{\"fill_color\":{\"field\":\"x\",\"transform\":{\"id\":\"d5763f2e-33d8-46e6-988c-e31c50d3296b\",\"type\":\"CategoricalColorMapper\"}},\"line_color\":{\"value\":\"white\"},\"top\":{\"field\":\"counts\"},\"width\":{\"value\":0.9},\"x\":{\"field\":\"x\"}},\"id\":\"dddb8e8e-c768-4846-8eb7-212c96fd33e1\",\"type\":\"VBar\"},{\"attributes\":{\"formatter\":{\"id\":\"70fff194-3ea6-4138-a94c-015ac505d443\",\"type\":\"BasicTickFormatter\"},\"plot\":{\"id\":\"468425f1-4f78-4757-afaa-1f262f8ffd1d\",\"subtype\":\"Figure\",\"type\":\"Plot\"},\"ticker\":{\"id\":\"262fdbbe-6a93-472f-a8b6-db70cac02581\",\"type\":\"BasicTicker\"}},\"id\":\"73d0f378-b36a-4e37-af45-3e613b510d80\",\"type\":\"LinearAxis\"},{\"attributes\":{},\"id\":\"5121c0af-e7e3-43f9-a88c-c3f52d8a623d\",\"type\":\"Selection\"},{\"attributes\":{\"formatter\":{\"id\":\"0b747ea5-a613-4b5a-9120-99be980b8774\",\"type\":\"CategoricalTickFormatter\"},\"major_label_orientation\":1,\"plot\":{\"id\":\"468425f1-4f78-4757-afaa-1f262f8ffd1d\",\"subtype\":\"Figure\",\"type\":\"Plot\"},\"ticker\":{\"id\":\"4fd82b48-45b6-4978-b951-427ed8486602\",\"type\":\"CategoricalTicker\"}},\"id\":\"301a9f50-99dd-469c-9fe2-191fb4faf567\",\"type\":\"CategoricalAxis\"},{\"attributes\":{},\"id\":\"dbf1e23b-5c1e-46ff-9be4-579ed4cc3050\",\"type\":\"LinearScale\"},{\"attributes\":{\"active_drag\":\"auto\",\"active_inspect\":\"auto\",\"active_scroll\":\"auto\",\"active_tap\":\"auto\"},\"id\":\"bce5d451-0a5b-49c1-bbb2-77ee089088ad\",\"type\":\"Toolbar\"},{\"attributes\":{},\"id\":\"8405f535-d101-4bd4-8ea5-398b8efd405c\",\"type\":\"CategoricalScale\"},{\"attributes\":{\"callback\":null,\"data\":{\"counts\":[0.999,0.99,0.995,0.998,0.986,0.993,0.996,0.976,0.98,0.996,0.982,0.974,0.995,0.97,0.973,0.996,0.978,0.972,0.997,0.985,0.987,0.995,0.975,0.976,0.997,0.983,0.978,0.994,0.972,0.965],\"x\":[[\"0\",\"Accuracy\"],[\"0\",\"Precision\"],[\"0\",\"Recall\"],[\"1\",\"Accuracy\"],[\"1\",\"Precision\"],[\"1\",\"Recall\"],[\"2\",\"Accuracy\"],[\"2\",\"Precision\"],[\"2\",\"Recall\"],[\"3\",\"Accuracy\"],[\"3\",\"Precision\"],[\"3\",\"Recall\"],[\"4\",\"Accuracy\"],[\"4\",\"Precision\"],[\"4\",\"Recall\"],[\"5\",\"Accuracy\"],[\"5\",\"Precision\"],[\"5\",\"Recall\"],[\"6\",\"Accuracy\"],[\"6\",\"Precision\"],[\"6\",\"Recall\"],[\"7\",\"Accuracy\"],[\"7\",\"Precision\"],[\"7\",\"Recall\"],[\"8\",\"Accuracy\"],[\"8\",\"Precision\"],[\"8\",\"Recall\"],[\"9\",\"Accuracy\"],[\"9\",\"Precision\"],[\"9\",\"Recall\"]]},\"selected\":{\"id\":\"5121c0af-e7e3-43f9-a88c-c3f52d8a623d\",\"type\":\"Selection\"},\"selection_policy\":{\"id\":\"312f5cce-bda5-47d3-bf96-26677e1a9557\",\"type\":\"UnionRenderers\"}},\"id\":\"7c9140f2-e745-4c0f-9029-885a4eeac946\",\"type\":\"ColumnDataSource\"},{\"attributes\":{\"below\":[{\"id\":\"301a9f50-99dd-469c-9fe2-191fb4faf567\",\"type\":\"CategoricalAxis\"}],\"left\":[{\"id\":\"73d0f378-b36a-4e37-af45-3e613b510d80\",\"type\":\"LinearAxis\"}],\"plot_height\":350,\"renderers\":[{\"id\":\"301a9f50-99dd-469c-9fe2-191fb4faf567\",\"type\":\"CategoricalAxis\"},{\"id\":\"4ff57fc5-46b4-4e73-90e4-e5910ebaa1cf\",\"type\":\"Grid\"},{\"id\":\"73d0f378-b36a-4e37-af45-3e613b510d80\",\"type\":\"LinearAxis\"},{\"id\":\"a3c643ab-2cc3-4433-a510-289795c56fd4\",\"type\":\"Grid\"},{\"id\":\"fe4b06a5-d68a-4172-94cc-06b32d42e7da\",\"type\":\"GlyphRenderer\"}],\"title\":{\"id\":\"3603c327-785e-4bd4-ba05-73e10379abc4\",\"type\":\"Title\"},\"toolbar\":{\"id\":\"bce5d451-0a5b-49c1-bbb2-77ee089088ad\",\"type\":\"Toolbar\"},\"toolbar_location\":null,\"x_range\":{\"id\":\"a1b93ca9-4b82-4b00-83ca-334c396220d0\",\"type\":\"FactorRange\"},\"x_scale\":{\"id\":\"8405f535-d101-4bd4-8ea5-398b8efd405c\",\"type\":\"CategoricalScale\"},\"y_range\":{\"id\":\"6707a2c3-4e55-47f4-9ebc-4f852271defb\",\"type\":\"DataRange1d\"},\"y_scale\":{\"id\":\"dbf1e23b-5c1e-46ff-9be4-579ed4cc3050\",\"type\":\"LinearScale\"}},\"id\":\"468425f1-4f78-4757-afaa-1f262f8ffd1d\",\"subtype\":\"Figure\",\"type\":\"Plot\"},{\"attributes\":{\"plot\":null,\"text\":\"Metrics per Class\"},\"id\":\"3603c327-785e-4bd4-ba05-73e10379abc4\",\"type\":\"Title\"},{\"attributes\":{},\"id\":\"262fdbbe-6a93-472f-a8b6-db70cac02581\",\"type\":\"BasicTicker\"},{\"attributes\":{\"callback\":null,\"factors\":[[\"0\",\"Accuracy\"],[\"0\",\"Precision\"],[\"0\",\"Recall\"],[\"1\",\"Accuracy\"],[\"1\",\"Precision\"],[\"1\",\"Recall\"],[\"2\",\"Accuracy\"],[\"2\",\"Precision\"],[\"2\",\"Recall\"],[\"3\",\"Accuracy\"],[\"3\",\"Precision\"],[\"3\",\"Recall\"],[\"4\",\"Accuracy\"],[\"4\",\"Precision\"],[\"4\",\"Recall\"],[\"5\",\"Accuracy\"],[\"5\",\"Precision\"],[\"5\",\"Recall\"],[\"6\",\"Accuracy\"],[\"6\",\"Precision\"],[\"6\",\"Recall\"],[\"7\",\"Accuracy\"],[\"7\",\"Precision\"],[\"7\",\"Recall\"],[\"8\",\"Accuracy\"],[\"8\",\"Precision\"],[\"8\",\"Recall\"],[\"9\",\"Accuracy\"],[\"9\",\"Precision\"],[\"9\",\"Recall\"]],\"range_padding\":0.1},\"id\":\"a1b93ca9-4b82-4b00-83ca-334c396220d0\",\"type\":\"FactorRange\"},{\"attributes\":{},\"id\":\"4fd82b48-45b6-4978-b951-427ed8486602\",\"type\":\"CategoricalTicker\"},{\"attributes\":{\"callback\":null,\"start\":0.95},\"id\":\"6707a2c3-4e55-47f4-9ebc-4f852271defb\",\"type\":\"DataRange1d\"},{\"attributes\":{},\"id\":\"0b747ea5-a613-4b5a-9120-99be980b8774\",\"type\":\"CategoricalTickFormatter\"},{\"attributes\":{\"grid_line_color\":{\"value\":null},\"plot\":{\"id\":\"468425f1-4f78-4757-afaa-1f262f8ffd1d\",\"subtype\":\"Figure\",\"type\":\"Plot\"},\"ticker\":{\"id\":\"4fd82b48-45b6-4978-b951-427ed8486602\",\"type\":\"CategoricalTicker\"}},\"id\":\"4ff57fc5-46b4-4e73-90e4-e5910ebaa1cf\",\"type\":\"Grid\"},{\"attributes\":{\"fill_alpha\":{\"value\":0.1},\"fill_color\":{\"value\":\"#1f77b4\"},\"line_alpha\":{\"value\":0.1},\"line_color\":{\"value\":\"#1f77b4\"},\"top\":{\"field\":\"counts\"},\"width\":{\"value\":0.9},\"x\":{\"field\":\"x\"}},\"id\":\"5e45fc1c-8b2c-46f5-93e6-8fb1e2756efb\",\"type\":\"VBar\"},{\"attributes\":{},\"id\":\"312f5cce-bda5-47d3-bf96-26677e1a9557\",\"type\":\"UnionRenderers\"},{\"attributes\":{\"dimension\":1,\"plot\":{\"id\":\"468425f1-4f78-4757-afaa-1f262f8ffd1d\",\"subtype\":\"Figure\",\"type\":\"Plot\"},\"ticker\":{\"id\":\"262fdbbe-6a93-472f-a8b6-db70cac02581\",\"type\":\"BasicTicker\"}},\"id\":\"a3c643ab-2cc3-4433-a510-289795c56fd4\",\"type\":\"Grid\"},{\"attributes\":{\"data_source\":{\"id\":\"7c9140f2-e745-4c0f-9029-885a4eeac946\",\"type\":\"ColumnDataSource\"},\"glyph\":{\"id\":\"dddb8e8e-c768-4846-8eb7-212c96fd33e1\",\"type\":\"VBar\"},\"hover_glyph\":null,\"muted_glyph\":null,\"nonselection_glyph\":{\"id\":\"5e45fc1c-8b2c-46f5-93e6-8fb1e2756efb\",\"type\":\"VBar\"},\"selection_glyph\":null,\"view\":{\"id\":\"46359f8f-6601-41a0-9f2c-5328141bfeef\",\"type\":\"CDSView\"}},\"id\":\"fe4b06a5-d68a-4172-94cc-06b32d42e7da\",\"type\":\"GlyphRenderer\"}],\"root_ids\":[\"468425f1-4f78-4757-afaa-1f262f8ffd1d\"]},\"title\":\"Bokeh Application\",\"version\":\"0.12.16\"}};\n",
       "  var render_items = [{\"docid\":\"97de8fe8-fa16-418c-99bd-fc64ddddceb1\",\"elementid\":\"0a1c2aa8-8ba8-4605-beae-53742b5ea332\",\"modelid\":\"468425f1-4f78-4757-afaa-1f262f8ffd1d\"}];\n",
       "  root.Bokeh.embed.embed_items_notebook(docs_json, render_items);\n",
       "\n",
       "  }\n",
       "  if (root.Bokeh !== undefined) {\n",
       "    embed_document(root);\n",
       "  } else {\n",
       "    var attempts = 0;\n",
       "    var timer = setInterval(function(root) {\n",
       "      if (root.Bokeh !== undefined) {\n",
       "        embed_document(root);\n",
       "        clearInterval(timer);\n",
       "      }\n",
       "      attempts++;\n",
       "      if (attempts > 100) {\n",
       "        console.log(\"Bokeh: ERROR: Unable to run BokehJS code because BokehJS library is missing\")\n",
       "        clearInterval(timer);\n",
       "      }\n",
       "    }, 10, root)\n",
       "  }\n",
       "})(window);"
      ],
      "application/vnd.bokehjs_exec.v0+json": ""
     },
     "metadata": {
      "application/vnd.bokehjs_exec.v0+json": {
       "id": "468425f1-4f78-4757-afaa-1f262f8ffd1d"
      }
     },
     "output_type": "display_data"
    },
    {
     "name": "stdout",
     "output_type": "stream",
     "text": [
      "\n",
      "\n",
      "#######################################################################################\n",
      "#######################################################################################\n",
      "#######################################################################################\n",
      "\n",
      "\n",
      "For penalty parameter = 3.0\n",
      "\n",
      " SVM Trained Classifier Confidence:  0.98\n",
      "\n",
      " Predicted Values:  [3 4 1 ... 9 3 7]\n",
      "\n",
      " Accuracy of Classifier on Validation Image Data:  0.98\n",
      "Confusion matrix for 0 : True Positive = 588, True Negative = 5403,         False Positive = 6, False Negative = 3\n",
      "Confusion matrix for 1 : True Positive = 700, True Negative = 5285,         False Positive = 10, False Negative = 5\n",
      "Confusion matrix for 2 : True Positive = 601, True Negative = 5372,         False Positive = 15, False Negative = 12\n",
      "Confusion matrix for 3 : True Positive = 591, True Negative = 5382,         False Positive = 11, False Negative = 16\n",
      "Confusion matrix for 4 : True Positive = 551, True Negative = 5417,         False Positive = 17, False Negative = 15\n",
      "Confusion matrix for 5 : True Positive = 526, True Negative = 5447,         False Positive = 12, False Negative = 15\n",
      "Confusion matrix for 6 : True Positive = 586, True Negative = 5397,         False Positive = 9, False Negative = 8\n",
      "Confusion matrix for 7 : True Positive = 652, True Negative = 5315,         False Positive = 17, False Negative = 16\n",
      "Confusion matrix for 8 : True Positive = 536, True Negative = 5443,         False Positive = 9, False Negative = 12\n",
      "Confusion matrix for 9 : True Positive = 547, True Negative = 5417,         False Positive = 16, False Negative = 20\n"
     ]
    },
    {
     "data": {
      "text/html": [
       "\n",
       "<div class=\"bk-root\">\n",
       "    <div class=\"bk-plotdiv\" id=\"de0b8014-ebf6-41ac-bd25-79fdf377fe24\"></div>\n",
       "</div>"
      ]
     },
     "metadata": {},
     "output_type": "display_data"
    },
    {
     "data": {
      "application/javascript": [
       "(function(root) {\n",
       "  function embed_document(root) {\n",
       "    \n",
       "  var docs_json = {\"df945da5-d1b1-46cd-b0c1-6ac8f32992e1\":{\"roots\":{\"references\":[{\"attributes\":{},\"id\":\"968135b6-88f7-472e-82ba-98f43bdff94a\",\"type\":\"BasicTicker\"},{\"attributes\":{\"callback\":null,\"factors\":[[\"0\",\"Accuracy\"],[\"0\",\"Precision\"],[\"0\",\"Recall\"],[\"1\",\"Accuracy\"],[\"1\",\"Precision\"],[\"1\",\"Recall\"],[\"2\",\"Accuracy\"],[\"2\",\"Precision\"],[\"2\",\"Recall\"],[\"3\",\"Accuracy\"],[\"3\",\"Precision\"],[\"3\",\"Recall\"],[\"4\",\"Accuracy\"],[\"4\",\"Precision\"],[\"4\",\"Recall\"],[\"5\",\"Accuracy\"],[\"5\",\"Precision\"],[\"5\",\"Recall\"],[\"6\",\"Accuracy\"],[\"6\",\"Precision\"],[\"6\",\"Recall\"],[\"7\",\"Accuracy\"],[\"7\",\"Precision\"],[\"7\",\"Recall\"],[\"8\",\"Accuracy\"],[\"8\",\"Precision\"],[\"8\",\"Recall\"],[\"9\",\"Accuracy\"],[\"9\",\"Precision\"],[\"9\",\"Recall\"]],\"range_padding\":0.1},\"id\":\"d9d90402-97c7-48cb-8aaa-d30ba9f05f12\",\"type\":\"FactorRange\"},{\"attributes\":{},\"id\":\"3cace4df-9efd-435f-9134-9904048868ef\",\"type\":\"CategoricalTickFormatter\"},{\"attributes\":{\"dimension\":1,\"plot\":{\"id\":\"5cc2ed94-3d01-4a50-b267-9f20281fc438\",\"subtype\":\"Figure\",\"type\":\"Plot\"},\"ticker\":{\"id\":\"968135b6-88f7-472e-82ba-98f43bdff94a\",\"type\":\"BasicTicker\"}},\"id\":\"8740c117-b53e-4352-9292-764a57e2a8ca\",\"type\":\"Grid\"},{\"attributes\":{\"plot\":null,\"text\":\"Metrics per Class\"},\"id\":\"ec4b7b0e-a3e7-44e2-8e0e-e52ea7e044f9\",\"type\":\"Title\"},{\"attributes\":{\"data_source\":{\"id\":\"6f9c3bc2-b431-4dd5-9401-6139b44c2040\",\"type\":\"ColumnDataSource\"},\"glyph\":{\"id\":\"3c6b1bab-2cb3-4860-b845-7611b43c2d55\",\"type\":\"VBar\"},\"hover_glyph\":null,\"muted_glyph\":null,\"nonselection_glyph\":{\"id\":\"048af93c-72c6-4f2e-9754-f0a4832a34ce\",\"type\":\"VBar\"},\"selection_glyph\":null,\"view\":{\"id\":\"9a840c73-bf01-439f-af67-11a1f43bc40a\",\"type\":\"CDSView\"}},\"id\":\"d19ec918-f381-4301-9544-df267dc57d3c\",\"type\":\"GlyphRenderer\"},{\"attributes\":{\"callback\":null,\"start\":0.95},\"id\":\"474f02c1-5d87-4348-aa59-1d4588896f76\",\"type\":\"DataRange1d\"},{\"attributes\":{\"fill_alpha\":{\"value\":0.1},\"fill_color\":{\"value\":\"#1f77b4\"},\"line_alpha\":{\"value\":0.1},\"line_color\":{\"value\":\"#1f77b4\"},\"top\":{\"field\":\"counts\"},\"width\":{\"value\":0.9},\"x\":{\"field\":\"x\"}},\"id\":\"048af93c-72c6-4f2e-9754-f0a4832a34ce\",\"type\":\"VBar\"},{\"attributes\":{\"fill_color\":{\"field\":\"x\",\"transform\":{\"id\":\"2ec2953c-9327-4fa3-90f4-78018b3f3df0\",\"type\":\"CategoricalColorMapper\"}},\"line_color\":{\"value\":\"white\"},\"top\":{\"field\":\"counts\"},\"width\":{\"value\":0.9},\"x\":{\"field\":\"x\"}},\"id\":\"3c6b1bab-2cb3-4860-b845-7611b43c2d55\",\"type\":\"VBar\"},{\"attributes\":{},\"id\":\"45e3963d-5cc7-4b80-90b9-93a2d4874dbd\",\"type\":\"CategoricalTicker\"},{\"attributes\":{\"active_drag\":\"auto\",\"active_inspect\":\"auto\",\"active_scroll\":\"auto\",\"active_tap\":\"auto\"},\"id\":\"e32f8ca8-8123-40ed-bdc1-e6750bcab8b0\",\"type\":\"Toolbar\"},{\"attributes\":{},\"id\":\"37e4a966-1bb6-4e39-899f-3aa45a504889\",\"type\":\"BasicTickFormatter\"},{\"attributes\":{},\"id\":\"8ade1eef-879c-4988-a31d-4a51a5e8d66b\",\"type\":\"Selection\"},{\"attributes\":{\"callback\":null,\"data\":{\"counts\":[0.999,0.99,0.995,0.998,0.986,0.993,0.996,0.976,0.98,0.996,0.982,0.974,0.995,0.97,0.973,0.996,0.978,0.972,0.997,0.985,0.987,0.995,0.975,0.976,0.997,0.983,0.978,0.994,0.972,0.965],\"x\":[[\"0\",\"Accuracy\"],[\"0\",\"Precision\"],[\"0\",\"Recall\"],[\"1\",\"Accuracy\"],[\"1\",\"Precision\"],[\"1\",\"Recall\"],[\"2\",\"Accuracy\"],[\"2\",\"Precision\"],[\"2\",\"Recall\"],[\"3\",\"Accuracy\"],[\"3\",\"Precision\"],[\"3\",\"Recall\"],[\"4\",\"Accuracy\"],[\"4\",\"Precision\"],[\"4\",\"Recall\"],[\"5\",\"Accuracy\"],[\"5\",\"Precision\"],[\"5\",\"Recall\"],[\"6\",\"Accuracy\"],[\"6\",\"Precision\"],[\"6\",\"Recall\"],[\"7\",\"Accuracy\"],[\"7\",\"Precision\"],[\"7\",\"Recall\"],[\"8\",\"Accuracy\"],[\"8\",\"Precision\"],[\"8\",\"Recall\"],[\"9\",\"Accuracy\"],[\"9\",\"Precision\"],[\"9\",\"Recall\"]]},\"selected\":{\"id\":\"8ade1eef-879c-4988-a31d-4a51a5e8d66b\",\"type\":\"Selection\"},\"selection_policy\":{\"id\":\"4b53e296-db32-43b6-a11f-0683c74101e8\",\"type\":\"UnionRenderers\"}},\"id\":\"6f9c3bc2-b431-4dd5-9401-6139b44c2040\",\"type\":\"ColumnDataSource\"},{\"attributes\":{\"formatter\":{\"id\":\"37e4a966-1bb6-4e39-899f-3aa45a504889\",\"type\":\"BasicTickFormatter\"},\"plot\":{\"id\":\"5cc2ed94-3d01-4a50-b267-9f20281fc438\",\"subtype\":\"Figure\",\"type\":\"Plot\"},\"ticker\":{\"id\":\"968135b6-88f7-472e-82ba-98f43bdff94a\",\"type\":\"BasicTicker\"}},\"id\":\"d2b3f936-8988-4da1-b5d7-b31ecf1f406d\",\"type\":\"LinearAxis\"},{\"attributes\":{\"formatter\":{\"id\":\"3cace4df-9efd-435f-9134-9904048868ef\",\"type\":\"CategoricalTickFormatter\"},\"major_label_orientation\":1,\"plot\":{\"id\":\"5cc2ed94-3d01-4a50-b267-9f20281fc438\",\"subtype\":\"Figure\",\"type\":\"Plot\"},\"ticker\":{\"id\":\"45e3963d-5cc7-4b80-90b9-93a2d4874dbd\",\"type\":\"CategoricalTicker\"}},\"id\":\"e1a6c3a9-a6a3-412b-8f14-6a592bfc2736\",\"type\":\"CategoricalAxis\"},{\"attributes\":{\"source\":{\"id\":\"6f9c3bc2-b431-4dd5-9401-6139b44c2040\",\"type\":\"ColumnDataSource\"}},\"id\":\"9a840c73-bf01-439f-af67-11a1f43bc40a\",\"type\":\"CDSView\"},{\"attributes\":{\"grid_line_color\":{\"value\":null},\"plot\":{\"id\":\"5cc2ed94-3d01-4a50-b267-9f20281fc438\",\"subtype\":\"Figure\",\"type\":\"Plot\"},\"ticker\":{\"id\":\"45e3963d-5cc7-4b80-90b9-93a2d4874dbd\",\"type\":\"CategoricalTicker\"}},\"id\":\"4fad5642-6247-4c74-93a7-be5caeb1470e\",\"type\":\"Grid\"},{\"attributes\":{},\"id\":\"bfbcf6a7-6ec2-4823-b435-1914ab5c2f58\",\"type\":\"CategoricalScale\"},{\"attributes\":{},\"id\":\"4b53e296-db32-43b6-a11f-0683c74101e8\",\"type\":\"UnionRenderers\"},{\"attributes\":{\"below\":[{\"id\":\"e1a6c3a9-a6a3-412b-8f14-6a592bfc2736\",\"type\":\"CategoricalAxis\"}],\"left\":[{\"id\":\"d2b3f936-8988-4da1-b5d7-b31ecf1f406d\",\"type\":\"LinearAxis\"}],\"plot_height\":350,\"renderers\":[{\"id\":\"e1a6c3a9-a6a3-412b-8f14-6a592bfc2736\",\"type\":\"CategoricalAxis\"},{\"id\":\"4fad5642-6247-4c74-93a7-be5caeb1470e\",\"type\":\"Grid\"},{\"id\":\"d2b3f936-8988-4da1-b5d7-b31ecf1f406d\",\"type\":\"LinearAxis\"},{\"id\":\"8740c117-b53e-4352-9292-764a57e2a8ca\",\"type\":\"Grid\"},{\"id\":\"d19ec918-f381-4301-9544-df267dc57d3c\",\"type\":\"GlyphRenderer\"}],\"title\":{\"id\":\"ec4b7b0e-a3e7-44e2-8e0e-e52ea7e044f9\",\"type\":\"Title\"},\"toolbar\":{\"id\":\"e32f8ca8-8123-40ed-bdc1-e6750bcab8b0\",\"type\":\"Toolbar\"},\"toolbar_location\":null,\"x_range\":{\"id\":\"d9d90402-97c7-48cb-8aaa-d30ba9f05f12\",\"type\":\"FactorRange\"},\"x_scale\":{\"id\":\"bfbcf6a7-6ec2-4823-b435-1914ab5c2f58\",\"type\":\"CategoricalScale\"},\"y_range\":{\"id\":\"474f02c1-5d87-4348-aa59-1d4588896f76\",\"type\":\"DataRange1d\"},\"y_scale\":{\"id\":\"ff3dda0f-ff43-4e56-848b-86c066bcec7b\",\"type\":\"LinearScale\"}},\"id\":\"5cc2ed94-3d01-4a50-b267-9f20281fc438\",\"subtype\":\"Figure\",\"type\":\"Plot\"},{\"attributes\":{},\"id\":\"ff3dda0f-ff43-4e56-848b-86c066bcec7b\",\"type\":\"LinearScale\"},{\"attributes\":{\"end\":2,\"factors\":[\"Accuracy\",\"Precision\",\"Recall\"],\"palette\":[\"#c9d9d3\",\"#718dbf\",\"#e84d60\"],\"start\":1},\"id\":\"2ec2953c-9327-4fa3-90f4-78018b3f3df0\",\"type\":\"CategoricalColorMapper\"}],\"root_ids\":[\"5cc2ed94-3d01-4a50-b267-9f20281fc438\"]},\"title\":\"Bokeh Application\",\"version\":\"0.12.16\"}};\n",
       "  var render_items = [{\"docid\":\"df945da5-d1b1-46cd-b0c1-6ac8f32992e1\",\"elementid\":\"de0b8014-ebf6-41ac-bd25-79fdf377fe24\",\"modelid\":\"5cc2ed94-3d01-4a50-b267-9f20281fc438\"}];\n",
       "  root.Bokeh.embed.embed_items_notebook(docs_json, render_items);\n",
       "\n",
       "  }\n",
       "  if (root.Bokeh !== undefined) {\n",
       "    embed_document(root);\n",
       "  } else {\n",
       "    var attempts = 0;\n",
       "    var timer = setInterval(function(root) {\n",
       "      if (root.Bokeh !== undefined) {\n",
       "        embed_document(root);\n",
       "        clearInterval(timer);\n",
       "      }\n",
       "      attempts++;\n",
       "      if (attempts > 100) {\n",
       "        console.log(\"Bokeh: ERROR: Unable to run BokehJS code because BokehJS library is missing\")\n",
       "        clearInterval(timer);\n",
       "      }\n",
       "    }, 10, root)\n",
       "  }\n",
       "})(window);"
      ],
      "application/vnd.bokehjs_exec.v0+json": ""
     },
     "metadata": {
      "application/vnd.bokehjs_exec.v0+json": {
       "id": "5cc2ed94-3d01-4a50-b267-9f20281fc438"
      }
     },
     "output_type": "display_data"
    },
    {
     "name": "stdout",
     "output_type": "stream",
     "text": [
      "\n",
      "\n",
      "#######################################################################################\n",
      "#######################################################################################\n",
      "#######################################################################################\n",
      "\n",
      "\n",
      "For penalty parameter = 5.0\n",
      "\n",
      " SVM Trained Classifier Confidence:  0.98\n",
      "\n",
      " Predicted Values:  [3 4 1 ... 9 3 7]\n",
      "\n",
      " Accuracy of Classifier on Validation Image Data:  0.98\n",
      "Confusion matrix for 0 : True Positive = 588, True Negative = 5403,         False Positive = 6, False Negative = 3\n",
      "Confusion matrix for 1 : True Positive = 700, True Negative = 5285,         False Positive = 10, False Negative = 5\n",
      "Confusion matrix for 2 : True Positive = 601, True Negative = 5372,         False Positive = 15, False Negative = 12\n",
      "Confusion matrix for 3 : True Positive = 591, True Negative = 5382,         False Positive = 11, False Negative = 16\n",
      "Confusion matrix for 4 : True Positive = 551, True Negative = 5417,         False Positive = 17, False Negative = 15\n",
      "Confusion matrix for 5 : True Positive = 526, True Negative = 5447,         False Positive = 12, False Negative = 15\n",
      "Confusion matrix for 6 : True Positive = 586, True Negative = 5397,         False Positive = 9, False Negative = 8\n",
      "Confusion matrix for 7 : True Positive = 652, True Negative = 5315,         False Positive = 17, False Negative = 16\n",
      "Confusion matrix for 8 : True Positive = 536, True Negative = 5443,         False Positive = 9, False Negative = 12\n",
      "Confusion matrix for 9 : True Positive = 547, True Negative = 5417,         False Positive = 16, False Negative = 20\n"
     ]
    },
    {
     "data": {
      "text/html": [
       "\n",
       "<div class=\"bk-root\">\n",
       "    <div class=\"bk-plotdiv\" id=\"89eafd35-392f-4abe-bb99-30ecf8621fea\"></div>\n",
       "</div>"
      ]
     },
     "metadata": {},
     "output_type": "display_data"
    },
    {
     "data": {
      "application/javascript": [
       "(function(root) {\n",
       "  function embed_document(root) {\n",
       "    \n",
       "  var docs_json = {\"04b331ba-462c-4d80-9aed-364ff7ccd12e\":{\"roots\":{\"references\":[{\"attributes\":{\"callback\":null,\"factors\":[[\"0\",\"Accuracy\"],[\"0\",\"Precision\"],[\"0\",\"Recall\"],[\"1\",\"Accuracy\"],[\"1\",\"Precision\"],[\"1\",\"Recall\"],[\"2\",\"Accuracy\"],[\"2\",\"Precision\"],[\"2\",\"Recall\"],[\"3\",\"Accuracy\"],[\"3\",\"Precision\"],[\"3\",\"Recall\"],[\"4\",\"Accuracy\"],[\"4\",\"Precision\"],[\"4\",\"Recall\"],[\"5\",\"Accuracy\"],[\"5\",\"Precision\"],[\"5\",\"Recall\"],[\"6\",\"Accuracy\"],[\"6\",\"Precision\"],[\"6\",\"Recall\"],[\"7\",\"Accuracy\"],[\"7\",\"Precision\"],[\"7\",\"Recall\"],[\"8\",\"Accuracy\"],[\"8\",\"Precision\"],[\"8\",\"Recall\"],[\"9\",\"Accuracy\"],[\"9\",\"Precision\"],[\"9\",\"Recall\"]],\"range_padding\":0.1},\"id\":\"734114fb-1090-4004-b1f0-cf0f88955710\",\"type\":\"FactorRange\"},{\"attributes\":{\"fill_alpha\":{\"value\":0.1},\"fill_color\":{\"value\":\"#1f77b4\"},\"line_alpha\":{\"value\":0.1},\"line_color\":{\"value\":\"#1f77b4\"},\"top\":{\"field\":\"counts\"},\"width\":{\"value\":0.9},\"x\":{\"field\":\"x\"}},\"id\":\"cb360541-3a4e-4464-ba87-3be3f5c1231d\",\"type\":\"VBar\"},{\"attributes\":{\"active_drag\":\"auto\",\"active_inspect\":\"auto\",\"active_scroll\":\"auto\",\"active_tap\":\"auto\"},\"id\":\"ef28c4d2-fec0-46c8-8648-8e613601af29\",\"type\":\"Toolbar\"},{\"attributes\":{},\"id\":\"16f37f01-f618-4fc7-bacf-7f1636256959\",\"type\":\"CategoricalTickFormatter\"},{\"attributes\":{\"fill_color\":{\"field\":\"x\",\"transform\":{\"id\":\"80936363-9008-4d38-b618-6dc43014a66d\",\"type\":\"CategoricalColorMapper\"}},\"line_color\":{\"value\":\"white\"},\"top\":{\"field\":\"counts\"},\"width\":{\"value\":0.9},\"x\":{\"field\":\"x\"}},\"id\":\"ca0aaae4-4fab-4223-b535-101e497880b1\",\"type\":\"VBar\"},{\"attributes\":{},\"id\":\"275118a6-d1e7-46b6-b16a-d661be2bf74e\",\"type\":\"BasicTickFormatter\"},{\"attributes\":{\"grid_line_color\":{\"value\":null},\"plot\":{\"id\":\"4c66c7f4-319c-4bcf-9b0c-1073752d9921\",\"subtype\":\"Figure\",\"type\":\"Plot\"},\"ticker\":{\"id\":\"bdbe4030-bd4a-4008-a2fa-4478ecc70b6c\",\"type\":\"CategoricalTicker\"}},\"id\":\"cb9d120c-1aa3-4853-8361-aa649e5bf9b5\",\"type\":\"Grid\"},{\"attributes\":{\"plot\":null,\"text\":\"Metrics per Class\"},\"id\":\"642c6caf-8dbe-47ea-ac4e-9ffd6f68264c\",\"type\":\"Title\"},{\"attributes\":{},\"id\":\"992ccacf-5a2c-413d-bf5e-dd123cf426f6\",\"type\":\"BasicTicker\"},{\"attributes\":{\"callback\":null,\"start\":0.95},\"id\":\"f14b85ad-8cd8-4433-b510-5bef23904ec7\",\"type\":\"DataRange1d\"},{\"attributes\":{\"dimension\":1,\"plot\":{\"id\":\"4c66c7f4-319c-4bcf-9b0c-1073752d9921\",\"subtype\":\"Figure\",\"type\":\"Plot\"},\"ticker\":{\"id\":\"992ccacf-5a2c-413d-bf5e-dd123cf426f6\",\"type\":\"BasicTicker\"}},\"id\":\"a33386b4-40f4-46f0-85c8-3b97629e3ecf\",\"type\":\"Grid\"},{\"attributes\":{\"formatter\":{\"id\":\"275118a6-d1e7-46b6-b16a-d661be2bf74e\",\"type\":\"BasicTickFormatter\"},\"plot\":{\"id\":\"4c66c7f4-319c-4bcf-9b0c-1073752d9921\",\"subtype\":\"Figure\",\"type\":\"Plot\"},\"ticker\":{\"id\":\"992ccacf-5a2c-413d-bf5e-dd123cf426f6\",\"type\":\"BasicTicker\"}},\"id\":\"50b1fd2b-16be-4400-9e5f-5cd0ba198885\",\"type\":\"LinearAxis\"},{\"attributes\":{},\"id\":\"d7027a88-e433-4add-979f-ca7b99fc36a1\",\"type\":\"LinearScale\"},{\"attributes\":{\"formatter\":{\"id\":\"16f37f01-f618-4fc7-bacf-7f1636256959\",\"type\":\"CategoricalTickFormatter\"},\"major_label_orientation\":1,\"plot\":{\"id\":\"4c66c7f4-319c-4bcf-9b0c-1073752d9921\",\"subtype\":\"Figure\",\"type\":\"Plot\"},\"ticker\":{\"id\":\"bdbe4030-bd4a-4008-a2fa-4478ecc70b6c\",\"type\":\"CategoricalTicker\"}},\"id\":\"94678655-06de-4a02-94a0-6802ba6ad4ac\",\"type\":\"CategoricalAxis\"},{\"attributes\":{},\"id\":\"bdbe4030-bd4a-4008-a2fa-4478ecc70b6c\",\"type\":\"CategoricalTicker\"},{\"attributes\":{},\"id\":\"973abbb8-a7f8-4478-8361-e29b279c6a45\",\"type\":\"Selection\"},{\"attributes\":{\"data_source\":{\"id\":\"30fee3ef-8657-46d7-87ed-a10975559e48\",\"type\":\"ColumnDataSource\"},\"glyph\":{\"id\":\"ca0aaae4-4fab-4223-b535-101e497880b1\",\"type\":\"VBar\"},\"hover_glyph\":null,\"muted_glyph\":null,\"nonselection_glyph\":{\"id\":\"cb360541-3a4e-4464-ba87-3be3f5c1231d\",\"type\":\"VBar\"},\"selection_glyph\":null,\"view\":{\"id\":\"e5ecc21d-c7c1-4797-a480-c00d18427591\",\"type\":\"CDSView\"}},\"id\":\"12d38083-8228-4217-844a-2544942779c7\",\"type\":\"GlyphRenderer\"},{\"attributes\":{\"below\":[{\"id\":\"94678655-06de-4a02-94a0-6802ba6ad4ac\",\"type\":\"CategoricalAxis\"}],\"left\":[{\"id\":\"50b1fd2b-16be-4400-9e5f-5cd0ba198885\",\"type\":\"LinearAxis\"}],\"plot_height\":350,\"renderers\":[{\"id\":\"94678655-06de-4a02-94a0-6802ba6ad4ac\",\"type\":\"CategoricalAxis\"},{\"id\":\"cb9d120c-1aa3-4853-8361-aa649e5bf9b5\",\"type\":\"Grid\"},{\"id\":\"50b1fd2b-16be-4400-9e5f-5cd0ba198885\",\"type\":\"LinearAxis\"},{\"id\":\"a33386b4-40f4-46f0-85c8-3b97629e3ecf\",\"type\":\"Grid\"},{\"id\":\"12d38083-8228-4217-844a-2544942779c7\",\"type\":\"GlyphRenderer\"}],\"title\":{\"id\":\"642c6caf-8dbe-47ea-ac4e-9ffd6f68264c\",\"type\":\"Title\"},\"toolbar\":{\"id\":\"ef28c4d2-fec0-46c8-8648-8e613601af29\",\"type\":\"Toolbar\"},\"toolbar_location\":null,\"x_range\":{\"id\":\"734114fb-1090-4004-b1f0-cf0f88955710\",\"type\":\"FactorRange\"},\"x_scale\":{\"id\":\"594fa715-f2f9-4f1c-8c68-63b331e563e3\",\"type\":\"CategoricalScale\"},\"y_range\":{\"id\":\"f14b85ad-8cd8-4433-b510-5bef23904ec7\",\"type\":\"DataRange1d\"},\"y_scale\":{\"id\":\"d7027a88-e433-4add-979f-ca7b99fc36a1\",\"type\":\"LinearScale\"}},\"id\":\"4c66c7f4-319c-4bcf-9b0c-1073752d9921\",\"subtype\":\"Figure\",\"type\":\"Plot\"},{\"attributes\":{},\"id\":\"03fb7e90-1230-4779-8a98-44861b79bf0f\",\"type\":\"UnionRenderers\"},{\"attributes\":{\"end\":2,\"factors\":[\"Accuracy\",\"Precision\",\"Recall\"],\"palette\":[\"#c9d9d3\",\"#718dbf\",\"#e84d60\"],\"start\":1},\"id\":\"80936363-9008-4d38-b618-6dc43014a66d\",\"type\":\"CategoricalColorMapper\"},{\"attributes\":{\"source\":{\"id\":\"30fee3ef-8657-46d7-87ed-a10975559e48\",\"type\":\"ColumnDataSource\"}},\"id\":\"e5ecc21d-c7c1-4797-a480-c00d18427591\",\"type\":\"CDSView\"},{\"attributes\":{\"callback\":null,\"data\":{\"counts\":[0.999,0.99,0.995,0.998,0.986,0.993,0.996,0.976,0.98,0.996,0.982,0.974,0.995,0.97,0.973,0.996,0.978,0.972,0.997,0.985,0.987,0.995,0.975,0.976,0.997,0.983,0.978,0.994,0.972,0.965],\"x\":[[\"0\",\"Accuracy\"],[\"0\",\"Precision\"],[\"0\",\"Recall\"],[\"1\",\"Accuracy\"],[\"1\",\"Precision\"],[\"1\",\"Recall\"],[\"2\",\"Accuracy\"],[\"2\",\"Precision\"],[\"2\",\"Recall\"],[\"3\",\"Accuracy\"],[\"3\",\"Precision\"],[\"3\",\"Recall\"],[\"4\",\"Accuracy\"],[\"4\",\"Precision\"],[\"4\",\"Recall\"],[\"5\",\"Accuracy\"],[\"5\",\"Precision\"],[\"5\",\"Recall\"],[\"6\",\"Accuracy\"],[\"6\",\"Precision\"],[\"6\",\"Recall\"],[\"7\",\"Accuracy\"],[\"7\",\"Precision\"],[\"7\",\"Recall\"],[\"8\",\"Accuracy\"],[\"8\",\"Precision\"],[\"8\",\"Recall\"],[\"9\",\"Accuracy\"],[\"9\",\"Precision\"],[\"9\",\"Recall\"]]},\"selected\":{\"id\":\"973abbb8-a7f8-4478-8361-e29b279c6a45\",\"type\":\"Selection\"},\"selection_policy\":{\"id\":\"03fb7e90-1230-4779-8a98-44861b79bf0f\",\"type\":\"UnionRenderers\"}},\"id\":\"30fee3ef-8657-46d7-87ed-a10975559e48\",\"type\":\"ColumnDataSource\"},{\"attributes\":{},\"id\":\"594fa715-f2f9-4f1c-8c68-63b331e563e3\",\"type\":\"CategoricalScale\"}],\"root_ids\":[\"4c66c7f4-319c-4bcf-9b0c-1073752d9921\"]},\"title\":\"Bokeh Application\",\"version\":\"0.12.16\"}};\n",
       "  var render_items = [{\"docid\":\"04b331ba-462c-4d80-9aed-364ff7ccd12e\",\"elementid\":\"89eafd35-392f-4abe-bb99-30ecf8621fea\",\"modelid\":\"4c66c7f4-319c-4bcf-9b0c-1073752d9921\"}];\n",
       "  root.Bokeh.embed.embed_items_notebook(docs_json, render_items);\n",
       "\n",
       "  }\n",
       "  if (root.Bokeh !== undefined) {\n",
       "    embed_document(root);\n",
       "  } else {\n",
       "    var attempts = 0;\n",
       "    var timer = setInterval(function(root) {\n",
       "      if (root.Bokeh !== undefined) {\n",
       "        embed_document(root);\n",
       "        clearInterval(timer);\n",
       "      }\n",
       "      attempts++;\n",
       "      if (attempts > 100) {\n",
       "        console.log(\"Bokeh: ERROR: Unable to run BokehJS code because BokehJS library is missing\")\n",
       "        clearInterval(timer);\n",
       "      }\n",
       "    }, 10, root)\n",
       "  }\n",
       "})(window);"
      ],
      "application/vnd.bokehjs_exec.v0+json": ""
     },
     "metadata": {
      "application/vnd.bokehjs_exec.v0+json": {
       "id": "4c66c7f4-319c-4bcf-9b0c-1073752d9921"
      }
     },
     "output_type": "display_data"
    }
   ],
   "source": [
    "from bokeh.io import show, output_notebook\n",
    "from bokeh.models import ColumnDataSource, FactorRange\n",
    "from bokeh.plotting import figure\n",
    "from bokeh.transform import factor_cmap\n",
    "\n",
    "#Get the Metrics per class here\n",
    "for n in range(3):\n",
    "    print(\"\\n\")\n",
    "    print(\"#######################################################################################\")\n",
    "    print(\"#######################################################################################\")\n",
    "    print(\"#######################################################################################\")\n",
    "    print(\"\\n\")\n",
    "    print(\"For penalty parameter = {}\".format(nC[n]))\n",
    "    print('\\n SVM Trained Classifier Confidence: ',score_list[n])\n",
    "    print('\\n Predicted Values: ',y_pred_list[n])\n",
    "    print('\\n Accuracy of Classifier on Validation Image Data: ',accuracy_list[n])\n",
    "    acc_dict, prec_dict, rec_dict = compute_metrics(y_test, y_pred_list[n])\n",
    "    \n",
    "    classes=['0', '1', '2', '3', '4', '5', '6', '7', '8', '9']\n",
    "    properties = ['Accuracy', 'Precision', 'Recall']\n",
    "    \n",
    "    data = {'classes': classes,\n",
    "            'Accuracy': acc_dict,\n",
    "            'Precision': prec_dict,\n",
    "            'Recall': rec_dict\n",
    "           }\n",
    "    palette = [\"#c9d9d3\", \"#718dbf\", \"#e84d60\"]\n",
    "    x = [ (c, p) for c in classes for p in properties ]\n",
    "    counts = sum(zip(data['Accuracy'], data['Precision'], data['Recall']), ()) # like an hstack\n",
    "\n",
    "    source = ColumnDataSource(data=dict(x=x, counts=counts))\n",
    "\n",
    "    p = figure(x_range=FactorRange(*x), plot_height=350, title=\"Metrics per Class\",\n",
    "               toolbar_location=None, tools=\"\")\n",
    "\n",
    "    p.vbar(x='x', top='counts', width=0.9, source=source,line_color=\"white\",\n",
    "       fill_color=factor_cmap('x', palette=palette, factors=properties, start=1, end=2))\n",
    "\n",
    "    p.y_range.start = 0.95\n",
    "    p.x_range.range_padding = 0.1\n",
    "    p.xaxis.major_label_orientation = 1\n",
    "    p.xgrid.grid_line_color = None\n",
    "\n",
    "    show(p)\n",
    "#######################PLACEHOLDER 2 ENDS ##################### "
   ]
  },
  {
   "cell_type": "markdown",
   "metadata": {},
   "source": [
    "### Seems all three Penalty parameters give exactly the same performance "
   ]
  },
  {
   "cell_type": "code",
   "execution_count": 19,
   "metadata": {},
   "outputs": [],
   "source": [
    "# Predict on the test data\n",
    "filename='MNIST_SVM_1.0.pickle'\n",
    "pickle_in = open(filename,'rb')\n",
    "clf = pickle.load(pickle_in)"
   ]
  },
  {
   "cell_type": "code",
   "execution_count": 20,
   "metadata": {},
   "outputs": [
    {
     "name": "stdout",
     "output_type": "stream",
     "text": [
      "\n",
      "Making Predictions on Test Input Images...\n"
     ]
    }
   ],
   "source": [
    "print('\\nMaking Predictions on Test Input Images...')\n",
    "test_labels_pred=clf.predict(test_img)"
   ]
  },
  {
   "cell_type": "code",
   "execution_count": 21,
   "metadata": {},
   "outputs": [
    {
     "name": "stdout",
     "output_type": "stream",
     "text": [
      "\n",
      "Calculating Accuracy of Trained Classifier on Test Data... \n"
     ]
    }
   ],
   "source": [
    "print('\\nCalculating Accuracy of Trained Classifier on Test Data... ')\n",
    "acc=accuracy_score(test_labels, test_labels_pred)"
   ]
  },
  {
   "cell_type": "code",
   "execution_count": 23,
   "metadata": {},
   "outputs": [
    {
     "name": "stdout",
     "output_type": "stream",
     "text": [
      "#######################################################################################\n",
      "#######################################################################################\n",
      "#######################################################################################\n",
      "Confusion matrix for 0 : True Positive = 971, True Negative = 8996,         False Positive = 24, False Negative = 9\n",
      "Confusion matrix for 1 : True Positive = 1125, True Negative = 8841,         False Positive = 24, False Negative = 10\n",
      "Confusion matrix for 2 : True Positive = 1005, True Negative = 8947,         False Positive = 21, False Negative = 27\n",
      "Confusion matrix for 3 : True Positive = 990, True Negative = 8970,         False Positive = 20, False Negative = 20\n",
      "Confusion matrix for 4 : True Positive = 964, True Negative = 8996,         False Positive = 22, False Negative = 18\n",
      "Confusion matrix for 5 : True Positive = 866, True Negative = 9088,         False Positive = 20, False Negative = 26\n",
      "Confusion matrix for 6 : True Positive = 936, True Negative = 9026,         False Positive = 16, False Negative = 22\n",
      "Confusion matrix for 7 : True Positive = 1001, True Negative = 8949,         False Positive = 23, False Negative = 27\n",
      "Confusion matrix for 8 : True Positive = 951, True Negative = 9002,         False Positive = 24, False Negative = 23\n",
      "Confusion matrix for 9 : True Positive = 975, True Negative = 8969,         False Positive = 22, False Negative = 34\n"
     ]
    },
    {
     "data": {
      "text/html": [
       "\n",
       "<div class=\"bk-root\">\n",
       "    <div class=\"bk-plotdiv\" id=\"18d6a295-8dd5-4235-b00e-dd35b3f141f6\"></div>\n",
       "</div>"
      ]
     },
     "metadata": {},
     "output_type": "display_data"
    },
    {
     "data": {
      "application/javascript": [
       "(function(root) {\n",
       "  function embed_document(root) {\n",
       "    \n",
       "  var docs_json = {\"f8da1e5e-c84d-47da-a8d4-61385e1b3858\":{\"roots\":{\"references\":[{\"attributes\":{\"grid_line_color\":{\"value\":null},\"plot\":{\"id\":\"47004350-15f6-4b30-abe2-ad25f2daa816\",\"subtype\":\"Figure\",\"type\":\"Plot\"},\"ticker\":{\"id\":\"68ff8e3a-3773-4e02-a3a7-68337a8a2c8e\",\"type\":\"CategoricalTicker\"}},\"id\":\"4ab6527a-428e-40fc-bdf4-6ca8391688a0\",\"type\":\"Grid\"},{\"attributes\":{\"dimension\":1,\"plot\":{\"id\":\"47004350-15f6-4b30-abe2-ad25f2daa816\",\"subtype\":\"Figure\",\"type\":\"Plot\"},\"ticker\":{\"id\":\"3843db83-0826-435a-b508-436f1bf832c0\",\"type\":\"BasicTicker\"}},\"id\":\"902c900e-6ebd-4318-9cf5-006ebe5eddda\",\"type\":\"Grid\"},{\"attributes\":{},\"id\":\"0ea24b73-26b2-4dd2-875d-da75a389b6d7\",\"type\":\"CategoricalTickFormatter\"},{\"attributes\":{\"callback\":null,\"factors\":[[\"0\",\"Accuracy\"],[\"0\",\"Precision\"],[\"0\",\"Recall\"],[\"1\",\"Accuracy\"],[\"1\",\"Precision\"],[\"1\",\"Recall\"],[\"2\",\"Accuracy\"],[\"2\",\"Precision\"],[\"2\",\"Recall\"],[\"3\",\"Accuracy\"],[\"3\",\"Precision\"],[\"3\",\"Recall\"],[\"4\",\"Accuracy\"],[\"4\",\"Precision\"],[\"4\",\"Recall\"],[\"5\",\"Accuracy\"],[\"5\",\"Precision\"],[\"5\",\"Recall\"],[\"6\",\"Accuracy\"],[\"6\",\"Precision\"],[\"6\",\"Recall\"],[\"7\",\"Accuracy\"],[\"7\",\"Precision\"],[\"7\",\"Recall\"],[\"8\",\"Accuracy\"],[\"8\",\"Precision\"],[\"8\",\"Recall\"],[\"9\",\"Accuracy\"],[\"9\",\"Precision\"],[\"9\",\"Recall\"]],\"range_padding\":0.1},\"id\":\"b8d03af5-8596-4ee9-b587-c81bf7254f59\",\"type\":\"FactorRange\"},{\"attributes\":{\"formatter\":{\"id\":\"3fbc2ecc-2953-4ccf-9686-0670000afbdf\",\"type\":\"BasicTickFormatter\"},\"plot\":{\"id\":\"47004350-15f6-4b30-abe2-ad25f2daa816\",\"subtype\":\"Figure\",\"type\":\"Plot\"},\"ticker\":{\"id\":\"3843db83-0826-435a-b508-436f1bf832c0\",\"type\":\"BasicTicker\"}},\"id\":\"363a6a2e-a12c-4903-85ee-d910ba9cd8dc\",\"type\":\"LinearAxis\"},{\"attributes\":{\"active_drag\":\"auto\",\"active_inspect\":\"auto\",\"active_scroll\":\"auto\",\"active_tap\":\"auto\"},\"id\":\"0af02fe6-ffe7-4bfd-94e7-35caee7a4f4b\",\"type\":\"Toolbar\"},{\"attributes\":{\"fill_color\":{\"field\":\"x\",\"transform\":{\"id\":\"7d406b2f-4e65-4110-8636-069859eed9f1\",\"type\":\"CategoricalColorMapper\"}},\"line_color\":{\"value\":\"white\"},\"top\":{\"field\":\"counts\"},\"width\":{\"value\":0.9},\"x\":{\"field\":\"x\"}},\"id\":\"b69442f2-b24f-4a36-bdc9-85c1d065d715\",\"type\":\"VBar\"},{\"attributes\":{},\"id\":\"3843db83-0826-435a-b508-436f1bf832c0\",\"type\":\"BasicTicker\"},{\"attributes\":{\"fill_alpha\":{\"value\":0.1},\"fill_color\":{\"value\":\"#1f77b4\"},\"line_alpha\":{\"value\":0.1},\"line_color\":{\"value\":\"#1f77b4\"},\"top\":{\"field\":\"counts\"},\"width\":{\"value\":0.9},\"x\":{\"field\":\"x\"}},\"id\":\"6949bffb-056b-470d-9541-b1715fc8f2c7\",\"type\":\"VBar\"},{\"attributes\":{\"callback\":null,\"start\":0.9},\"id\":\"b130f5d7-a941-49a2-b1e1-17c5dc803ab0\",\"type\":\"DataRange1d\"},{\"attributes\":{},\"id\":\"68ff8e3a-3773-4e02-a3a7-68337a8a2c8e\",\"type\":\"CategoricalTicker\"},{\"attributes\":{\"callback\":null,\"data\":{\"counts\":[0.997,0.976,0.991,0.997,0.979,0.991,0.995,0.98,0.974,0.996,0.98,0.98,0.996,0.978,0.982,0.995,0.977,0.971,0.996,0.983,0.977,0.995,0.978,0.974,0.995,0.975,0.976,0.994,0.978,0.966],\"x\":[[\"0\",\"Accuracy\"],[\"0\",\"Precision\"],[\"0\",\"Recall\"],[\"1\",\"Accuracy\"],[\"1\",\"Precision\"],[\"1\",\"Recall\"],[\"2\",\"Accuracy\"],[\"2\",\"Precision\"],[\"2\",\"Recall\"],[\"3\",\"Accuracy\"],[\"3\",\"Precision\"],[\"3\",\"Recall\"],[\"4\",\"Accuracy\"],[\"4\",\"Precision\"],[\"4\",\"Recall\"],[\"5\",\"Accuracy\"],[\"5\",\"Precision\"],[\"5\",\"Recall\"],[\"6\",\"Accuracy\"],[\"6\",\"Precision\"],[\"6\",\"Recall\"],[\"7\",\"Accuracy\"],[\"7\",\"Precision\"],[\"7\",\"Recall\"],[\"8\",\"Accuracy\"],[\"8\",\"Precision\"],[\"8\",\"Recall\"],[\"9\",\"Accuracy\"],[\"9\",\"Precision\"],[\"9\",\"Recall\"]]},\"selected\":{\"id\":\"53a5d19d-e2bb-4a28-9ee1-2a82f90b2ded\",\"type\":\"Selection\"},\"selection_policy\":{\"id\":\"5a44eae1-e7c7-4e96-8890-a572229528f8\",\"type\":\"UnionRenderers\"}},\"id\":\"1b6abbed-08c8-41d8-a26f-8422eee01b1d\",\"type\":\"ColumnDataSource\"},{\"attributes\":{\"plot\":null,\"text\":\"Metrics per Class\"},\"id\":\"696d552d-cc40-44e4-a00c-421e6adff8b3\",\"type\":\"Title\"},{\"attributes\":{\"data_source\":{\"id\":\"1b6abbed-08c8-41d8-a26f-8422eee01b1d\",\"type\":\"ColumnDataSource\"},\"glyph\":{\"id\":\"b69442f2-b24f-4a36-bdc9-85c1d065d715\",\"type\":\"VBar\"},\"hover_glyph\":null,\"muted_glyph\":null,\"nonselection_glyph\":{\"id\":\"6949bffb-056b-470d-9541-b1715fc8f2c7\",\"type\":\"VBar\"},\"selection_glyph\":null,\"view\":{\"id\":\"227d226a-bc47-4428-932c-4fddc6f0d901\",\"type\":\"CDSView\"}},\"id\":\"c4ad87ab-53ab-4840-9ce4-c01f7145718e\",\"type\":\"GlyphRenderer\"},{\"attributes\":{\"below\":[{\"id\":\"608790fc-c370-473c-97e8-b030e823303a\",\"type\":\"CategoricalAxis\"}],\"left\":[{\"id\":\"363a6a2e-a12c-4903-85ee-d910ba9cd8dc\",\"type\":\"LinearAxis\"}],\"plot_height\":350,\"renderers\":[{\"id\":\"608790fc-c370-473c-97e8-b030e823303a\",\"type\":\"CategoricalAxis\"},{\"id\":\"4ab6527a-428e-40fc-bdf4-6ca8391688a0\",\"type\":\"Grid\"},{\"id\":\"363a6a2e-a12c-4903-85ee-d910ba9cd8dc\",\"type\":\"LinearAxis\"},{\"id\":\"902c900e-6ebd-4318-9cf5-006ebe5eddda\",\"type\":\"Grid\"},{\"id\":\"c4ad87ab-53ab-4840-9ce4-c01f7145718e\",\"type\":\"GlyphRenderer\"}],\"title\":{\"id\":\"696d552d-cc40-44e4-a00c-421e6adff8b3\",\"type\":\"Title\"},\"toolbar\":{\"id\":\"0af02fe6-ffe7-4bfd-94e7-35caee7a4f4b\",\"type\":\"Toolbar\"},\"toolbar_location\":null,\"x_range\":{\"id\":\"b8d03af5-8596-4ee9-b587-c81bf7254f59\",\"type\":\"FactorRange\"},\"x_scale\":{\"id\":\"0987c48a-f56e-4262-bc9b-d3b8e729480f\",\"type\":\"CategoricalScale\"},\"y_range\":{\"id\":\"b130f5d7-a941-49a2-b1e1-17c5dc803ab0\",\"type\":\"DataRange1d\"},\"y_scale\":{\"id\":\"041020c7-2183-4006-b6ac-1b102eb6c732\",\"type\":\"LinearScale\"}},\"id\":\"47004350-15f6-4b30-abe2-ad25f2daa816\",\"subtype\":\"Figure\",\"type\":\"Plot\"},{\"attributes\":{},\"id\":\"0987c48a-f56e-4262-bc9b-d3b8e729480f\",\"type\":\"CategoricalScale\"},{\"attributes\":{},\"id\":\"5a44eae1-e7c7-4e96-8890-a572229528f8\",\"type\":\"UnionRenderers\"},{\"attributes\":{\"end\":2,\"factors\":[\"Accuracy\",\"Precision\",\"Recall\"],\"palette\":[\"#c9d9d3\",\"#718dbf\",\"#e84d60\"],\"start\":1},\"id\":\"7d406b2f-4e65-4110-8636-069859eed9f1\",\"type\":\"CategoricalColorMapper\"},{\"attributes\":{},\"id\":\"53a5d19d-e2bb-4a28-9ee1-2a82f90b2ded\",\"type\":\"Selection\"},{\"attributes\":{\"source\":{\"id\":\"1b6abbed-08c8-41d8-a26f-8422eee01b1d\",\"type\":\"ColumnDataSource\"}},\"id\":\"227d226a-bc47-4428-932c-4fddc6f0d901\",\"type\":\"CDSView\"},{\"attributes\":{\"formatter\":{\"id\":\"0ea24b73-26b2-4dd2-875d-da75a389b6d7\",\"type\":\"CategoricalTickFormatter\"},\"major_label_orientation\":1,\"plot\":{\"id\":\"47004350-15f6-4b30-abe2-ad25f2daa816\",\"subtype\":\"Figure\",\"type\":\"Plot\"},\"ticker\":{\"id\":\"68ff8e3a-3773-4e02-a3a7-68337a8a2c8e\",\"type\":\"CategoricalTicker\"}},\"id\":\"608790fc-c370-473c-97e8-b030e823303a\",\"type\":\"CategoricalAxis\"},{\"attributes\":{},\"id\":\"041020c7-2183-4006-b6ac-1b102eb6c732\",\"type\":\"LinearScale\"},{\"attributes\":{},\"id\":\"3fbc2ecc-2953-4ccf-9686-0670000afbdf\",\"type\":\"BasicTickFormatter\"}],\"root_ids\":[\"47004350-15f6-4b30-abe2-ad25f2daa816\"]},\"title\":\"Bokeh Application\",\"version\":\"0.12.16\"}};\n",
       "  var render_items = [{\"docid\":\"f8da1e5e-c84d-47da-a8d4-61385e1b3858\",\"elementid\":\"18d6a295-8dd5-4235-b00e-dd35b3f141f6\",\"modelid\":\"47004350-15f6-4b30-abe2-ad25f2daa816\"}];\n",
       "  root.Bokeh.embed.embed_items_notebook(docs_json, render_items);\n",
       "\n",
       "  }\n",
       "  if (root.Bokeh !== undefined) {\n",
       "    embed_document(root);\n",
       "  } else {\n",
       "    var attempts = 0;\n",
       "    var timer = setInterval(function(root) {\n",
       "      if (root.Bokeh !== undefined) {\n",
       "        embed_document(root);\n",
       "        clearInterval(timer);\n",
       "      }\n",
       "      attempts++;\n",
       "      if (attempts > 100) {\n",
       "        console.log(\"Bokeh: ERROR: Unable to run BokehJS code because BokehJS library is missing\")\n",
       "        clearInterval(timer);\n",
       "      }\n",
       "    }, 10, root)\n",
       "  }\n",
       "})(window);"
      ],
      "application/vnd.bokehjs_exec.v0+json": ""
     },
     "metadata": {
      "application/vnd.bokehjs_exec.v0+json": {
       "id": "47004350-15f6-4b30-abe2-ad25f2daa816"
      }
     },
     "output_type": "display_data"
    }
   ],
   "source": [
    "print(\"#######################################################################################\")\n",
    "print(\"#######################################################################################\")\n",
    "print(\"#######################################################################################\")\n",
    "\n",
    "acc_dict, prec_dict, rec_dict = compute_metrics(test_labels, test_labels_pred)\n",
    "\n",
    "classes=['0', '1', '2', '3', '4', '5', '6', '7', '8', '9']\n",
    "properties = ['Accuracy', 'Precision', 'Recall']\n",
    "\n",
    "data = {'classes': classes,\n",
    "        'Accuracy': acc_dict,\n",
    "        'Precision': prec_dict,\n",
    "        'Recall': rec_dict\n",
    "       }\n",
    "palette = [\"#c9d9d3\", \"#718dbf\", \"#e84d60\"]\n",
    "x = [ (c, p) for c in classes for p in properties ]\n",
    "counts = sum(zip(data['Accuracy'], data['Precision'], data['Recall']), ()) # like an hstack\n",
    "\n",
    "source = ColumnDataSource(data=dict(x=x, counts=counts))\n",
    "\n",
    "p = figure(x_range=FactorRange(*x), plot_height=350, title=\"Metrics per Class\",\n",
    "           toolbar_location=None, tools=\"\")\n",
    "\n",
    "p.vbar(x='x', top='counts', width=0.9, source=source,line_color=\"white\",\n",
    "   fill_color=factor_cmap('x', palette=palette, factors=properties, start=1, end=2))\n",
    "\n",
    "p.y_range.start = 0.90\n",
    "p.x_range.range_padding = 0.1\n",
    "p.xaxis.major_label_orientation = 1\n",
    "p.xgrid.grid_line_color = None\n",
    "\n",
    "show(p)\n",
    "#######################PLACEHOLDER 2 ENDS #####################"
   ]
  },
  {
   "cell_type": "markdown",
   "metadata": {},
   "source": [
    "### Clearly the SVM classifier does better than the KNN classifier"
   ]
  },
  {
   "cell_type": "code",
   "execution_count": 24,
   "metadata": {},
   "outputs": [
    {
     "name": "stdout",
     "output_type": "stream",
     "text": [
      "Actual value = 7, Predicted value = 4\n"
     ]
    },
    {
     "data": {
      "image/png": "[encoded data removed]",
      "text/plain": [
       "<Figure size 432x288 with 1 Axes>"
      ]
     },
     "metadata": {},
     "output_type": "display_data"
    },
    {
     "name": "stdout",
     "output_type": "stream",
     "text": [
      "\n",
      "\n",
      "Actual value = 3, Predicted value = 1\n"
     ]
    },
    {
     "data": {
      "image/png": "[encoded data removed]",
      "text/plain": [
       "<Figure size 432x288 with 1 Axes>"
      ]
     },
     "metadata": {},
     "output_type": "display_data"
    },
    {
     "name": "stdout",
     "output_type": "stream",
     "text": [
      "\n",
      "\n",
      "Actual value = 4, Predicted value = 2\n"
     ]
    },
    {
     "data": {
      "image/png": "[encoded data removed]",
      "text/plain": [
       "<Figure size 432x288 with 1 Axes>"
      ]
     },
     "metadata": {},
     "output_type": "display_data"
    },
    {
     "name": "stdout",
     "output_type": "stream",
     "text": [
      "\n",
      "\n",
      "Actual value = 2, Predicted value = 7\n"
     ]
    },
    {
     "data": {
      "image/png": "[encoded data removed]",
      "text/plain": [
       "<Figure size 432x288 with 1 Axes>"
      ]
     },
     "metadata": {},
     "output_type": "display_data"
    },
    {
     "name": "stdout",
     "output_type": "stream",
     "text": [
      "\n",
      "\n",
      "Actual value = 5, Predicted value = 3\n"
     ]
    },
    {
     "data": {
      "image/png": "[encoded data removed]",
      "text/plain": [
       "<Figure size 432x288 with 1 Axes>"
      ]
     },
     "metadata": {},
     "output_type": "display_data"
    },
    {
     "name": "stdout",
     "output_type": "stream",
     "text": [
      "\n",
      "\n"
     ]
    }
   ],
   "source": [
    "#######################PLACEHOLDER 4 START #####################\n",
    "# randomly select and show 5 images that are misclassified\n",
    "count=0\n",
    "for idx,(t,p) in enumerate(zip(test_labels, test_labels_pred)):\n",
    "        #if count>5:break\n",
    "        for val in range(10):\n",
    "            # For each class we can calculate this\n",
    "            if t!=val and p==val:\n",
    "                print(\"Actual value = {}, Predicted value = {}\".format(t, p))\n",
    "                toprint = (np.reshape(test_img[idx], (28, 28)) * 255).astype(np.uint8)\n",
    "                plt.imshow(toprint, interpolation='nearest', cmap='gray')\n",
    "                plt.show()\n",
    "                count+=1\n",
    "                print(\"\\n\")\n",
    "                break\n",
    "            if t==val and p!=val:\n",
    "                print(\"Actual value = {}, Predicted value = {}\".format(t, p))\n",
    "                toprint = (np.reshape(test_img[idx], (28, 28)) * 255).astype(np.uint8)\n",
    "                plt.imshow(toprint, interpolation='nearest', cmap='gray')\n",
    "                plt.show()\n",
    "                count+=1\n",
    "                print(\"\\n\")\n",
    "                break\n",
    "        if count>=5:break\n",
    "                \n",
    "#######################PLACEHOLDER 4 END #####################"
   ]
  },
  {
   "cell_type": "markdown",
   "metadata": {},
   "source": [
    "### Challenges\n",
    "+ Mostly the biggest challenge here is deformations, and sometimes as it looks from the figure, they appear pretty confusing even to the naked eye"
   ]
  },
  {
   "cell_type": "code",
   "execution_count": null,
   "metadata": {},
   "outputs": [],
   "source": []
  }
 ],
 "metadata": {
  "kernelspec": {
   "display_name": "conda_tensorflow_p36",
   "language": "python",
   "name": "conda_tensorflow_p36"
  },
  "language_info": {
   "codemirror_mode": {
    "name": "ipython",
    "version": 3
   },
   "file_extension": ".py",
   "mimetype": "text/x-python",
   "name": "python",
   "nbconvert_exporter": "python",
   "pygments_lexer": "ipython3",
   "version": "3.6.4"
  }
 },
 "nbformat": 4,
 "nbformat_minor": 2
}
