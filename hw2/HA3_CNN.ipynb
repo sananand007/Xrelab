{
 "cells": [
  {
   "cell_type": "markdown",
   "metadata": {},
   "source": [
    "## Problem 3 , Predicting image Labels Using Histogram of Gradients\n",
    "\n",
    "The starter script is ‘main_problem3_NN.py’. The goal of this assignment is to build a feedforward neural network using the TENSORFLOW Library. We will use the histograms of oriented gradients (HoG) as image descriptors\n",
    "\n",
    "+ Step 1: feature extraction. It uses the function get_hog_feature () to extract HoG features for both testing and training images. There are three parameters for HoG descriptors, i.e., number of orientation bins (9), cell size (8 by 8 pixels), and number of cells per block (2 by 2).\n",
    "+ Step 2: Create a classifier using tensorflow. Please write your own codes in the placeholders to implement the FNN classifier. Note that we include the use of SVC codes to make the starter script complete. Please remove these coding lines before you work on your own codes.\n",
    "+ Step 3: Retrieve failure images.\n",
    "\n",
    "**Notes to the reader:**\n",
    "+ I would try to use a different CNN structure that what is provided to solve the cifar_10 problem and see how the predictions are coming out to be\n",
    "+ I used my own way to structure the tensor flow code to make it as clean as possible so that it is more concise and broken down into functions and readable, so this might be slightly different than what was done in the cifar_10.py file"
   ]
  },
  {
   "cell_type": "code",
   "execution_count": 1,
   "metadata": {},
   "outputs": [],
   "source": [
    "import numpy as np\n",
    "import scipy.io as sio\n",
    "import sklearn.metrics as metrics\n",
    "from skimage.feature import hog\n",
    "from sklearn.svm import LinearSVC\n",
    "import matplotlib.pyplot as plt"
   ]
  },
  {
   "cell_type": "code",
   "execution_count": 2,
   "metadata": {},
   "outputs": [
    {
     "name": "stderr",
     "output_type": "stream",
     "text": [
      "C:\\Users\\asiaynrf\\AppData\\Local\\Continuum\\anaconda3\\envs\\tensorflowpy36\\lib\\site-packages\\skimage\\feature\\_hog.py:150: skimage_deprecation: Default value of `block_norm`==`L1` is deprecated and will be changed to `L2-Hys` in v0.15. To supress this message specify explicitly the normalization method.\n",
      "  skimage_deprecation)\n",
      "C:\\Users\\asiaynrf\\AppData\\Local\\Continuum\\anaconda3\\envs\\tensorflowpy36\\lib\\site-packages\\skimage\\feature\\_hog.py:248: skimage_deprecation: Argument `visualise` is deprecated and will be changed to `visualize` in v0.16\n",
      "  'be changed to `visualize` in v0.16', skimage_deprecation)\n"
     ]
    },
    {
     "name": "stdout",
     "output_type": "stream",
     "text": [
      "(10262, 1764)\n",
      "(1292, 1764)\n"
     ]
    }
   ],
   "source": [
    "from fea_util import *\n",
    "\n",
    "#################################################################################\n",
    "###################### step 0:      loading data   ############################\n",
    "#################################################################################\n",
    "train_data, train_label, test_data, test_label = get_data()\n",
    "\n",
    "#################################################################################\n",
    "###################### step 1:      extract feature histograms   ################\n",
    "#################################################################################\n",
    "\n",
    "# set parameters for HOG \n",
    "\n",
    "orient = 9\n",
    "pix_per_cell = 8\n",
    "cell_per_block = 2\n",
    "\n",
    "train_hog_feature, test_hog_feature = get_hog_feature(train_data, test_data, orient, pix_per_cell, cell_per_block)\n",
    "train_hog_feature = np.array(train_hog_feature)\n",
    "test_hog_feature = np.array(test_hog_feature)\n",
    "train_hog_feature = train_hog_feature.reshape(len(train_label), -1)\n",
    "test_hog_feature = test_hog_feature.reshape(len(test_hog_feature), -1)\n",
    "\n",
    "print(train_hog_feature.shape)\n",
    "print(test_hog_feature.shape)"
   ]
  },
  {
   "cell_type": "markdown",
   "metadata": {},
   "source": [
    "### Understanding the original data\n",
    "The original a batch data is (10262 x 64 x 64) dimensional tensor expressed in numpy array, where the number of columns, (10262), indicates the number of sample data. As stated in the dataset, the row vector, (1764) represents an hog of the image of 64x64 pixels. Since this project is going to use CNN for the classification tasks, the row vector, (1764), is not an appropriate form of image data to feed. In order to feed an image data into a CNN model, the dimension of the tensor representing an image data should be either (width x height x num_channel) or (num_channel x width x height). It depends on your choice (check out the tensorflow conv2d). In this particular project, I am going to use the dimension of the first choice because the default choice in tensorflow's CNN operation is so.\n",
    "\n",
    "num_channel=1 for this case\n",
    "\n",
    "[O] **need to be modified into a new shape**\n",
    "\n",
    "#### Understanding the original labels\n",
    "The label data is just a list of 10262 numbers in the range 1-68, which corresponds to each of the 68 classes\n",
    "\n",
    "[X] **need to be modified into a new shape**"
   ]
  },
  {
   "cell_type": "code",
   "execution_count": 3,
   "metadata": {},
   "outputs": [],
   "source": [
    "import pickle\n",
    "\n",
    "def load_data_changed(train_x_feature, test_x_feature):\n",
    "    train_features = train_x_feature.reshape((len(train_x_feature), 1, 42, 42)).transpose(0,2,3,1)\n",
    "    test_features = test_x_feature.reshape((len(test_x_feature), 1, 42, 42)).transpose(0,2,3,1)\n",
    "    return train_features, test_features\n"
   ]
  },
  {
   "cell_type": "code",
   "execution_count": 4,
   "metadata": {},
   "outputs": [],
   "source": [
    "def display_stats(train_feature, test_feature):\n",
    "    train_features,test_features= load_data_changed(train_feature, test_feature)\n",
    "    return train_features, test_features"
   ]
  },
  {
   "cell_type": "code",
   "execution_count": 5,
   "metadata": {},
   "outputs": [],
   "source": [
    "train_feature, test_feauture = display_stats(train_hog_feature, test_hog_feature)"
   ]
  },
  {
   "cell_type": "code",
   "execution_count": 6,
   "metadata": {},
   "outputs": [
    {
     "name": "stdout",
     "output_type": "stream",
     "text": [
      "Train set shape = (10262, 42, 42, 1), Test set shape = (1292, 42, 42, 1)\n",
      "Train labels shape = 10262, Test labels shape = 1292\n"
     ]
    }
   ],
   "source": [
    "# Print the shapes of all of the above \n",
    "print(\"Train set shape = {}, Test set shape = {}\".format(train_feature.shape, test_feauture.shape))\n",
    "print(\"Train labels shape = {}, Test labels shape = {}\".format(len(train_label), len(test_label)))"
   ]
  },
  {
   "cell_type": "markdown",
   "metadata": {},
   "source": [
    "## Preprocessing"
   ]
  },
  {
   "cell_type": "code",
   "execution_count": 7,
   "metadata": {},
   "outputs": [],
   "source": [
    "# normalize\n",
    "def normalize(x):\n",
    "    \"\"\"\n",
    "    x: input feature data or image data in numpy array [42, 42, 1]\n",
    "    output: normalized x\n",
    "    \"\"\"\n",
    "    min_val=np.min(x)\n",
    "    max_val=np.max(x)\n",
    "    x=(x-min_val)/(max_val-min_val)\n",
    "    return x"
   ]
  },
  {
   "cell_type": "markdown",
   "metadata": {},
   "source": [
    "#### One Hot Encode of the Labels\n",
    "one_hot_encode function takes the input, x, which is a list of labels(ground truth). The total number of element in the list is the total number of samples in a batch. one_hot_encode function returns a 2 dimensional tensor, where the number of row is the size of the batch, and the number of column is the number of image classes."
   ]
  },
  {
   "cell_type": "code",
   "execution_count": 8,
   "metadata": {},
   "outputs": [],
   "source": [
    "# One hot encode\n",
    "def one_hot_encoding(x):\n",
    "    \"\"\"\n",
    "    x: A list of labels\n",
    "    return one hot encoded matrix [10262, 68]\n",
    "    \"\"\"\n",
    "    encoded = np.zeros((len(x), 68))\n",
    "    for idx, value in enumerate(x):\n",
    "        encoded[idx][value-1]=1\n",
    "        \n",
    "    return encoded"
   ]
  },
  {
   "cell_type": "code",
   "execution_count": 9,
   "metadata": {},
   "outputs": [],
   "source": [
    "# Normalizing and one hot encoding the data\n",
    "train_label = one_hot_encoding(train_label)\n",
    "test_label = one_hot_encoding(test_label)"
   ]
  },
  {
   "cell_type": "code",
   "execution_count": 10,
   "metadata": {
    "scrolled": true
   },
   "outputs": [
    {
     "name": "stdout",
     "output_type": "stream",
     "text": [
      "(10262, 68)\n"
     ]
    }
   ],
   "source": [
    "print(train_label.shape) # now the labels are one hot encoded"
   ]
  },
  {
   "cell_type": "markdown",
   "metadata": {},
   "source": [
    "### Start the tensorflow part"
   ]
  },
  {
   "cell_type": "code",
   "execution_count": 11,
   "metadata": {},
   "outputs": [],
   "source": [
    "import tensorflow as tf\n",
    "# Remove previous weights, bias, inputs, etc..\n",
    "tf.reset_default_graph()\n",
    "\n",
    "# Inputs\n",
    "x = tf.placeholder(tf.float32, shape=(None, 42, 42, 1), name='input_x')\n",
    "y =  tf.placeholder(tf.float32, shape=(None, 68), name='output_y')\n",
    "keep_prob = tf.placeholder(tf.float32, name='keep_prob')"
   ]
  },
  {
   "cell_type": "code",
   "execution_count": 12,
   "metadata": {},
   "outputs": [],
   "source": [
    "def convnet(x, keep_prob):\n",
    "    conv1_filter = tf.Variable(tf.truncated_normal(shape=[3, 3, 1, 32],   mean=0, stddev=0.08))\n",
    "    conv2_filter = tf.Variable(tf.truncated_normal(shape=[3, 3, 32, 64],  mean=0, stddev=0.08))\n",
    "    conv3_filter = tf.Variable(tf.truncated_normal(shape=[3, 3, 64, 128], mean=0, stddev=0.08))\n",
    "    \n",
    "    # 1, 2\n",
    "    conv1 = tf.nn.conv2d(x, conv1_filter, strides=[1,1,1,1], padding='SAME')\n",
    "    conv1 = tf.nn.relu(conv1)\n",
    "    conv1_pool = tf.nn.max_pool(conv1, ksize=[1,2,2,1], strides=[1,2,2,1], padding='SAME')\n",
    "    conv1_bn = tf.layers.batch_normalization(conv1_pool)\n",
    "    \n",
    "    # 3, 4\n",
    "    conv2 = tf.nn.conv2d(conv1_bn, conv2_filter, strides=[1,1,1,1], padding='SAME')\n",
    "    conv2 = tf.nn.relu(conv2)\n",
    "    conv2_pool = tf.nn.max_pool(conv2, ksize=[1,2,2,1], strides=[1,2,2,1], padding='SAME')    \n",
    "    conv2_bn = tf.layers.batch_normalization(conv2_pool)\n",
    "    \n",
    "    # 5, 6\n",
    "    conv3 = tf.nn.conv2d(conv2_bn, conv3_filter, strides=[1,1,1,1], padding='SAME')\n",
    "    conv3 = tf.nn.relu(conv3)\n",
    "    conv3_pool = tf.nn.max_pool(conv3, ksize=[1,2,2,1], strides=[1,2,2,1], padding='SAME')  \n",
    "    conv3_bn = tf.layers.batch_normalization(conv3_pool)\n",
    "    \n",
    "    # 7\n",
    "    flat = tf.contrib.layers.flatten(conv3_bn)\n",
    "    \n",
    "    # 8\n",
    "    full1 = tf.contrib.layers.fully_connected(inputs=flat, num_outputs=128, activation_fn=tf.nn.relu)\n",
    "    full1 = tf.nn.dropout(full1, keep_prob)\n",
    "    full1 = tf.layers.batch_normalization(full1)\n",
    "    \n",
    "     # 9\n",
    "    out = tf.contrib.layers.fully_connected(inputs=full1, num_outputs=68, activation_fn=None)\n",
    "    return out"
   ]
  },
  {
   "cell_type": "markdown",
   "metadata": {},
   "source": [
    "### Hyperparameters"
   ]
  },
  {
   "cell_type": "code",
   "execution_count": 13,
   "metadata": {},
   "outputs": [],
   "source": [
    "epochs  =  10\n",
    "batch_size  = 128\n",
    "keep_probability = 0.7\n",
    "learning_rate = 0.001"
   ]
  },
  {
   "cell_type": "code",
   "execution_count": 14,
   "metadata": {},
   "outputs": [
    {
     "name": "stdout",
     "output_type": "stream",
     "text": [
      "WARNING:tensorflow:From <ipython-input-14-d5ffaba93889>:5: softmax_cross_entropy_with_logits (from tensorflow.python.ops.nn_ops) is deprecated and will be removed in a future version.\n",
      "Instructions for updating:\n",
      "\n",
      "Future major versions of TensorFlow will allow gradients to flow\n",
      "into the labels input on backprop by default.\n",
      "\n",
      "See @{tf.nn.softmax_cross_entropy_with_logits_v2}.\n",
      "\n",
      "WARNING:tensorflow:From <ipython-input-14-d5ffaba93889>:9: arg_max (from tensorflow.python.ops.gen_math_ops) is deprecated and will be removed in a future version.\n",
      "Instructions for updating:\n",
      "Use `argmax` instead\n"
     ]
    }
   ],
   "source": [
    "logits=convnet(x, keep_prob)\n",
    "model=tf.identity(logits, 'logits') #Names Logits which can be loaded after training\n",
    "\n",
    "#loss and optimizer\n",
    "cost=tf.reduce_mean(tf.nn.softmax_cross_entropy_with_logits(logits=logits, labels=y))\n",
    "optimizer=tf.train.AdamOptimizer(learning_rate=learning_rate).minimize(cost)\n",
    "\n",
    "#Accuracy\n",
    "correct_pred=tf.equal(tf.argmax(logits, 1), tf.arg_max(y,1))\n",
    "accuracy=tf.reduce_mean(tf.cast(correct_pred, tf.float32), name='accuracy')"
   ]
  },
  {
   "cell_type": "markdown",
   "metadata": {},
   "source": [
    "### Train the neural Network"
   ]
  },
  {
   "cell_type": "code",
   "execution_count": 15,
   "metadata": {},
   "outputs": [],
   "source": [
    "def train_nn(session, optimizer, keep_probability, feature_batch, label_batch):\n",
    "    session.run(optimizer,\n",
    "                feed_dict={\n",
    "                    x:feature_batch,\n",
    "                    y:label_batch,\n",
    "                    keep_prob:keep_probability\n",
    "                }\n",
    "    )"
   ]
  },
  {
   "cell_type": "code",
   "execution_count": 16,
   "metadata": {},
   "outputs": [],
   "source": [
    "def show_stats(session, feature_batch, label_batch, cost, accuracy):\n",
    "    loss=sess.run(cost,\n",
    "                  feed_dict={\n",
    "                      x: feature_batch,\n",
    "                      y:label_batch,\n",
    "                      keep_prob:1\n",
    "                  })\n",
    "    valid_acc=sess.run(accuracy,\n",
    "                      feed_dict={\n",
    "                          x:feature_batch,\n",
    "                          y:label_batch,\n",
    "                          keep_prob:1\n",
    "                      })\n",
    "    print('Loss: {:>10.4f}, Training set accuracy: {:.6f}'.format(loss, valid_acc))"
   ]
  },
  {
   "cell_type": "code",
   "execution_count": 17,
   "metadata": {},
   "outputs": [],
   "source": [
    "def gen_batch(data, batch_size, num_iter):\n",
    "    data =  np.array(data)\n",
    "    index = len(data)\n",
    "    for i in range(num_iter):\n",
    "        index += batch_size\n",
    "        if (index + batch_size > len(data)):\n",
    "            index = 0\n",
    "            shuffled_indices = np.random.permutation(np.arange(len(data)))\n",
    "            data = data[shuffled_indices]\n",
    "        yield data[index:index + batch_size]"
   ]
  },
  {
   "cell_type": "code",
   "execution_count": 18,
   "metadata": {},
   "outputs": [],
   "source": [
    "from datetime import datetime\n",
    "train_dir='tf_logs'\n",
    "logdir = train_dir + '/' + datetime.now().strftime('%Y%m%d-%H%M%S') + '/'\n",
    "\n",
    "# Operation merging summary data for TensorBoard\n",
    "summary = tf.summary.merge_all()\n",
    "\n",
    "# Define saver to save model state at checkpoints\n",
    "saver = tf.train.Saver()"
   ]
  },
  {
   "cell_type": "code",
   "execution_count": 19,
   "metadata": {},
   "outputs": [
    {
     "name": "stdout",
     "output_type": "stream",
     "text": [
      ".... Training the model\n",
      "Loss:     4.1989, Training set accuracy: 0.039062\n",
      "Loss:     2.9408, Training set accuracy: 0.335938\n",
      "Loss:     1.0194, Training set accuracy: 0.804688\n",
      "Loss:     0.3395, Training set accuracy: 0.945312\n",
      "Loss:     0.0737, Training set accuracy: 0.992188\n",
      "Loss:     0.0460, Training set accuracy: 1.000000\n",
      "Loss:     0.0139, Training set accuracy: 1.000000\n",
      "Loss:     0.0087, Training set accuracy: 1.000000\n",
      "Loss:     0.0036, Training set accuracy: 1.000000\n",
      "Loss:     0.0028, Training set accuracy: 1.000000\n",
      "Saved checkpoint\n",
      "Loss:     0.0008, Training set accuracy: 1.000000\n",
      "Loss:     0.0046, Training set accuracy: 1.000000\n",
      "Loss:     0.0006, Training set accuracy: 1.000000\n",
      "Loss:     0.0005, Training set accuracy: 1.000000\n",
      "Loss:     0.0002, Training set accuracy: 1.000000\n",
      "Loss:     0.0006, Training set accuracy: 1.000000\n",
      "Loss:     0.0001, Training set accuracy: 1.000000\n",
      "Loss:     0.0007, Training set accuracy: 1.000000\n",
      "Loss:     0.0004, Training set accuracy: 1.000000\n",
      "Loss:     0.0001, Training set accuracy: 1.000000\n",
      "Saved checkpoint\n",
      "Test accuracy 0.973684\n"
     ]
    }
   ],
   "source": [
    "# Train\n",
    "import os\n",
    "max_steps=2000\n",
    "save_model_pathsave_mod  = './image_classification'\n",
    "print(\".... Training the model\")\n",
    "with tf.Session() as sess:\n",
    "    #Initializing the variables\n",
    "    sess.run(tf.global_variables_initializer())\n",
    "    summary_writer = tf.summary.FileWriter(logdir, sess.graph)\n",
    "\n",
    "    #Generate input data batches\n",
    "    zipped_data = zip(train_feature, train_label)\n",
    "    batches=gen_batch(list(zipped_data), batch_size,max_steps)\n",
    "    \n",
    "    for i in range(max_steps):\n",
    "        batch = next(batches)\n",
    "        batch_features, batch_labels = zip(*batch)\n",
    "        \n",
    "        train_nn(sess, optimizer, keep_probability, batch_features, batch_labels)\n",
    "        \n",
    "        # Periodically print out the model's current accuracy\n",
    "        if i % 100 == 0: show_stats(sess, batch_features, batch_labels, cost, accuracy)\n",
    "        \n",
    "        # Periodically save checkpoint\n",
    "        if (i + 1) % 1000 == 0:\n",
    "            checkpoint_file = os.path.join(train_dir, 'checkpoint')\n",
    "            saver.save(sess, checkpoint_file, global_step=i)\n",
    "            print('Saved checkpoint')\n",
    "     # After finishing the training, evaluate on the test set\n",
    "    test_accuracy = sess.run(accuracy, feed_dict={\n",
    "    x: test_feauture,\n",
    "    y: test_label,\n",
    "    keep_prob:1})\n",
    "    print('Test accuracy {:g}'.format(test_accuracy))\n",
    "    #Save Model\n",
    "    save_path=saver.save(sess, save_model_pathsave_mod)"
   ]
  },
  {
   "cell_type": "markdown",
   "metadata": {},
   "source": [
    "### Accuracy of this model\n",
    "+ The accuracy is found to be 97.4% which is very high as this model performs the best of all the Models we tried as of now"
   ]
  },
  {
   "cell_type": "code",
   "execution_count": 34,
   "metadata": {},
   "outputs": [],
   "source": [
    "'''\n",
    "def batch_features_labels(features, labels, batch_size):\n",
    "    for start in range(0, len(features), batch_size):\n",
    "        end=min(start + batch_size, len(features))\n",
    "        yield features[start:end], labels[start:end]\n",
    "\n",
    "def display_image_predictions(features, labels, predictions):\n",
    "    n_classes=68\n",
    "    label_names=[i for i in range(n_classes)]\n",
    "    #label_binarizer=LabelBinarizer()\n",
    "    #label_binarizer.fit(range(n_classes))\n",
    "    label_ids = np.array(label_names)\n",
    "    \n",
    "    fig, axies = plt.subplots(nrows=4, ncols=2)\n",
    "    fig.tight_layout()\n",
    "    fig.suptitle('Softmax Predictions', fontsize=20, y=1.1)\n",
    "    \n",
    "    n_predictions=3\n",
    "    margin=0.05\n",
    "    ind=np.arange(n_predictions)\n",
    "    width=(1. - 2. * margin) / n_predictions\n",
    "    \n",
    "    for image_i, (feature, label_id, pred_indicies, pred_values) in enumerate(zip(features, label_ids, predictions.indices, predictions.values)):\n",
    "        pred_names = [label_names[pred_i] for pred_i in pred_indicies]\n",
    "        correct_name = label_names[label_id]\n",
    "\n",
    "        axies[image_i][0].imshow(feature*255)\n",
    "        axies[image_i][0].set_title(correct_name)\n",
    "        axies[image_i][0].set_axis_off()\n",
    "\n",
    "        axies[image_i][1].barh(ind + margin, pred_values[::-1], width)\n",
    "        axies[image_i][1].set_yticks(ind + margin)\n",
    "        axies[image_i][1].set_yticklabels(pred_names[::-1])\n",
    "        axies[image_i][1].set_xticks([0, 0.5, 1.0])\n",
    "'''"
   ]
  },
  {
   "cell_type": "code",
   "execution_count": 35,
   "metadata": {},
   "outputs": [
    {
     "data": {
      "text/plain": [
       "(1292, 42, 42, 1)"
      ]
     },
     "execution_count": 35,
     "metadata": {},
     "output_type": "execute_result"
    }
   ],
   "source": [
    "test_feauture.shape"
   ]
  },
  {
   "cell_type": "code",
   "execution_count": 45,
   "metadata": {},
   "outputs": [
    {
     "name": "stdout",
     "output_type": "stream",
     "text": [
      ".... Testing the model\n",
      "INFO:tensorflow:Restoring parameters from ./image_classification\n",
      "Testing Accuracy: 0.9714781755492801\n",
      "\n",
      "(104, 407, 936, 689, 597, 212, 820, 25, 1087, 352)\n",
      "TopKV2(values=array([[9.99716461e-01, 1.48572813e-04, 1.01044010e-04, 1.48211875e-05,\n",
      "        1.17217523e-05],\n",
      "       [9.99986887e-01, 9.01786279e-06, 2.60623028e-06, 1.30241142e-06,\n",
      "        7.63437740e-08],\n",
      "       [1.00000000e+00, 1.01842845e-08, 7.48032924e-09, 1.45024692e-09,\n",
      "        2.49626014e-10],\n",
      "       [9.99999642e-01, 2.25863801e-07, 5.67856979e-08, 5.07350748e-08,\n",
      "        4.60010234e-08],\n",
      "       [9.99997258e-01, 1.31818967e-06, 7.85903637e-07, 5.79075788e-07,\n",
      "        5.35247864e-08],\n",
      "       [9.99999642e-01, 1.40675752e-07, 1.00327632e-07, 2.52288945e-08,\n",
      "        1.41237324e-08],\n",
      "       [9.99993682e-01, 6.14949658e-06, 1.69190599e-07, 6.43524700e-09,\n",
      "        6.05899997e-09],\n",
      "       [9.99997973e-01, 1.01018395e-06, 7.65244181e-07, 3.18205167e-07,\n",
      "        2.82393522e-08],\n",
      "       [9.99949098e-01, 3.01625587e-05, 1.57890227e-05, 2.93158109e-06,\n",
      "        5.99315399e-07],\n",
      "       [9.99995589e-01, 3.02629473e-06, 5.68990117e-07, 3.88638995e-07,\n",
      "        2.44371648e-07]], dtype=float32), indices=array([[20, 24, 39, 25,  8],\n",
      "       [22, 46, 43, 54, 67],\n",
      "       [37, 16, 46, 47,  0],\n",
      "       [48, 54, 67, 12, 25],\n",
      "       [17, 65,  0, 46, 48],\n",
      "       [42, 41, 49, 65, 21],\n",
      "       [14, 55, 33, 32, 53],\n",
      "       [ 5, 27, 53, 57, 44],\n",
      "       [67, 23, 22, 55, 43],\n",
      "       [ 4, 47, 24, 67, 16]]))\n"
     ]
    }
   ],
   "source": [
    "%matplotlib inline\n",
    "%config InlineBackend.figure_format='retina'\n",
    "\n",
    "import random\n",
    "\n",
    "save_model_path = './image_classification'\n",
    "batch_size=64\n",
    "n_samples=10\n",
    "top_n_predictions=5\n",
    "\n",
    "\n",
    "print(\".... Testing the model\")\n",
    "loaded_graph=tf.Graph()\n",
    "\n",
    "with tf.Session(graph=loaded_graph) as sess:\n",
    "    #Initializing the variables\n",
    "    sess.run(tf.global_variables_initializer())\n",
    "    \n",
    "    #load the meodel\n",
    "    loader=tf.train.import_meta_graph(save_model_pathsave_mod+'.meta')\n",
    "    loader.restore(sess, save_model_path)\n",
    "    \n",
    "    #Get tensors from loaded model\n",
    "    loaded_x = loaded_graph.get_tensor_by_name('input_x:0')\n",
    "    loaded_y = loaded_graph.get_tensor_by_name('output_y:0')\n",
    "    loaded_keep_prob = loaded_graph.get_tensor_by_name('keep_prob:0')\n",
    "    loaded_logits = loaded_graph.get_tensor_by_name('logits:0')\n",
    "    loaded_acc = loaded_graph.get_tensor_by_name('accuracy:0')\n",
    "    \n",
    "    test_batch_acc_total=0\n",
    "    test_batch_count=0\n",
    "    #print(test_feauture.shape)\n",
    "    test_features=test_feauture\n",
    "    test_labels=test_label\n",
    "    idx = [i for i in range(1292)]\n",
    "    for train_feature_batch, train_label_batch in batch_features_labels(test_features, test_labels, batch_size):\n",
    "            test_batch_acc_total += sess.run(\n",
    "                loaded_acc,feed_dict={loaded_x: train_feature_batch, loaded_y: train_label_batch, loaded_keep_prob: 1.0})\n",
    "            test_batch_count += 1\n",
    "\n",
    "    print('Testing Accuracy: {}\\n'.format(test_batch_acc_total/test_batch_count))\n",
    "\n",
    "    # Print Random Samples\n",
    "    random_index, random_test_features, random_test_labels = tuple(zip(*random.sample(list(zip(idx, test_features, test_labels)), n_samples)))\n",
    "    random_test_predictions = sess.run(\n",
    "            tf.nn.top_k(tf.nn.softmax(loaded_logits), top_n_predictions),\n",
    "            feed_dict={loaded_x: random_test_features, loaded_y: random_test_labels, loaded_keep_prob: 1.0})\n",
    "    #Save Model\n",
    "    print(random_index)\n",
    "    print(random_test_predictions)\n",
    "    #display_image_predictions(random_test_features, random_test_labels, random_test_predictions)\n",
    "    save_path=saver.save(sess, save_model_pathsave_mod)"
   ]
  },
  {
   "cell_type": "code",
   "execution_count": 46,
   "metadata": {},
   "outputs": [
    {
     "data": {
      "text/plain": [
       "(array([0., 0., 0., 0., 0., 0., 0., 0., 0., 0., 0., 0., 0., 0., 0., 0., 0.,\n",
       "        0., 0., 0., 1., 0., 0., 0., 0., 0., 0., 0., 0., 0., 0., 0., 0., 0.,\n",
       "        0., 0., 0., 0., 0., 0., 0., 0., 0., 0., 0., 0., 0., 0., 0., 0., 0.,\n",
       "        0., 0., 0., 0., 0., 0., 0., 0., 0., 0., 0., 0., 0., 0., 0., 0., 0.]),\n",
       " array([0., 0., 0., 0., 0., 0., 0., 0., 0., 0., 0., 0., 0., 0., 0., 0., 0.,\n",
       "        0., 0., 0., 0., 0., 1., 0., 0., 0., 0., 0., 0., 0., 0., 0., 0., 0.,\n",
       "        0., 0., 0., 0., 0., 0., 0., 0., 0., 0., 0., 0., 0., 0., 0., 0., 0.,\n",
       "        0., 0., 0., 0., 0., 0., 0., 0., 0., 0., 0., 0., 0., 0., 0., 0., 0.]),\n",
       " array([0., 0., 0., 0., 0., 0., 0., 0., 0., 0., 0., 0., 0., 0., 0., 0., 0.,\n",
       "        0., 0., 0., 0., 0., 0., 0., 0., 0., 0., 0., 0., 0., 0., 0., 0., 0.,\n",
       "        0., 0., 0., 1., 0., 0., 0., 0., 0., 0., 0., 0., 0., 0., 0., 0., 0.,\n",
       "        0., 0., 0., 0., 0., 0., 0., 0., 0., 0., 0., 0., 0., 0., 0., 0., 0.]),\n",
       " array([0., 0., 0., 0., 0., 0., 0., 0., 0., 0., 0., 0., 0., 0., 0., 0., 0.,\n",
       "        0., 0., 0., 0., 0., 0., 0., 0., 0., 0., 0., 0., 0., 0., 0., 0., 0.,\n",
       "        0., 0., 0., 0., 0., 0., 0., 0., 0., 0., 0., 0., 0., 0., 1., 0., 0.,\n",
       "        0., 0., 0., 0., 0., 0., 0., 0., 0., 0., 0., 0., 0., 0., 0., 0., 0.]),\n",
       " array([0., 0., 0., 0., 0., 0., 0., 0., 0., 0., 0., 0., 0., 0., 0., 0., 0.,\n",
       "        1., 0., 0., 0., 0., 0., 0., 0., 0., 0., 0., 0., 0., 0., 0., 0., 0.,\n",
       "        0., 0., 0., 0., 0., 0., 0., 0., 0., 0., 0., 0., 0., 0., 0., 0., 0.,\n",
       "        0., 0., 0., 0., 0., 0., 0., 0., 0., 0., 0., 0., 0., 0., 0., 0., 0.]),\n",
       " array([0., 0., 0., 0., 0., 0., 0., 0., 0., 0., 0., 0., 0., 0., 0., 0., 0.,\n",
       "        0., 0., 0., 0., 0., 0., 0., 0., 0., 0., 0., 0., 0., 0., 0., 0., 0.,\n",
       "        0., 0., 0., 0., 0., 0., 0., 0., 1., 0., 0., 0., 0., 0., 0., 0., 0.,\n",
       "        0., 0., 0., 0., 0., 0., 0., 0., 0., 0., 0., 0., 0., 0., 0., 0., 0.]),\n",
       " array([0., 0., 0., 0., 0., 0., 0., 0., 0., 0., 0., 0., 0., 0., 1., 0., 0.,\n",
       "        0., 0., 0., 0., 0., 0., 0., 0., 0., 0., 0., 0., 0., 0., 0., 0., 0.,\n",
       "        0., 0., 0., 0., 0., 0., 0., 0., 0., 0., 0., 0., 0., 0., 0., 0., 0.,\n",
       "        0., 0., 0., 0., 0., 0., 0., 0., 0., 0., 0., 0., 0., 0., 0., 0., 0.]),\n",
       " array([0., 0., 0., 0., 0., 1., 0., 0., 0., 0., 0., 0., 0., 0., 0., 0., 0.,\n",
       "        0., 0., 0., 0., 0., 0., 0., 0., 0., 0., 0., 0., 0., 0., 0., 0., 0.,\n",
       "        0., 0., 0., 0., 0., 0., 0., 0., 0., 0., 0., 0., 0., 0., 0., 0., 0.,\n",
       "        0., 0., 0., 0., 0., 0., 0., 0., 0., 0., 0., 0., 0., 0., 0., 0., 0.]),\n",
       " array([0., 0., 0., 0., 0., 0., 0., 0., 0., 0., 0., 0., 0., 0., 0., 0., 0.,\n",
       "        0., 0., 0., 0., 0., 0., 0., 0., 0., 0., 0., 0., 0., 0., 0., 0., 0.,\n",
       "        0., 0., 0., 0., 0., 0., 0., 0., 0., 0., 0., 0., 0., 0., 0., 0., 0.,\n",
       "        0., 0., 0., 0., 0., 0., 0., 0., 0., 0., 0., 0., 0., 0., 0., 0., 1.]),\n",
       " array([0., 0., 0., 0., 1., 0., 0., 0., 0., 0., 0., 0., 0., 0., 0., 0., 0.,\n",
       "        0., 0., 0., 0., 0., 0., 0., 0., 0., 0., 0., 0., 0., 0., 0., 0., 0.,\n",
       "        0., 0., 0., 0., 0., 0., 0., 0., 0., 0., 0., 0., 0., 0., 0., 0., 0.,\n",
       "        0., 0., 0., 0., 0., 0., 0., 0., 0., 0., 0., 0., 0., 0., 0., 0., 0.]))"
      ]
     },
     "execution_count": 46,
     "metadata": {},
     "output_type": "execute_result"
    }
   ],
   "source": [
    "random_test_labels"
   ]
  },
  {
   "cell_type": "markdown",
   "metadata": {},
   "source": [
    "### Results below and Predicted pictures \n",
    "+ Lets look at the above random test labels and the softmax values that are predicted for the indices\n",
    "+ Case1 for the random predictions\n",
    "    - predicted values = [**9.99716461e-01**, 1.48572813e-04, 1.01044010e-04, 1.48211875e-05,1.17217523e-05]\n",
    "    - indices = [20, 24, 39, 25,  8]\n",
    "    - we see the 1st index is highest value predicted ie, 1, so the label that is predicted for the picture is at index =20\n",
    "    - Looking at the test label\n",
    "    - We see the index to be **20** as below \n",
    "    \n",
    "        [0., 0., 0., 0., 0., 0., 0., 0., 0., 0., 0., 0., 0., 0., 0., 0., 0.,\n",
    "        0., 0., 0., 1., 0., 0., 0., 0., 0., 0., 0., 0., 0., 0., 0., 0., 0.,\n",
    "        0., 0., 0., 0., 0., 0., 0., 0., 0., 0., 0., 0., 0., 0., 0., 0., 0.,\n",
    "        0., 0., 0., 0., 0., 0., 0., 0., 0., 0., 0., 0., 0., 0., 0., 0., 0.]\n",
    "+ **As we can see the misprediction/misclassification is pretty low for this case and is dificult to catch**\n",
    "    "
   ]
  },
  {
   "cell_type": "code",
   "execution_count": 53,
   "metadata": {},
   "outputs": [
    {
     "name": "stdout",
     "output_type": "stream",
     "text": [
      "Test label for the below test image = 20\n"
     ]
    },
    {
     "data": {
      "image/png": "[encoded data removed]",
      "text/plain": [
       "<Figure size 432x288 with 1 Axes>"
      ]
     },
     "metadata": {
      "image/png": {
       "height": 250,
       "width": 253
      }
     },
     "output_type": "display_data"
    }
   ],
   "source": [
    "plt.imshow(test_data[104])\n",
    "print(\"Test label for the below test image = {}\".format(list(test_label[104]).index(1)))"
   ]
  },
  {
   "cell_type": "code",
   "execution_count": null,
   "metadata": {},
   "outputs": [],
   "source": []
  }
 ],
 "metadata": {
  "kernelspec": {
   "display_name": "Python 3",
   "language": "python",
   "name": "python3"
  },
  "language_info": {
   "codemirror_mode": {
    "name": "ipython",
    "version": 3
   },
   "file_extension": ".py",
   "mimetype": "text/x-python",
   "name": "python",
   "nbconvert_exporter": "python",
   "pygments_lexer": "ipython3",
   "version": "3.6.6"
  }
 },
 "nbformat": 4,
 "nbformat_minor": 2
}
